{
 "cells": [
  {
   "cell_type": "markdown",
   "metadata": {},
   "source": [
    "**Table of contents**<a id='toc0_'></a>    \n",
    "- [Mise en place](#toc1_)    \n",
    "  - [Récupération des données et requête SQL](#toc1_1_)    \n",
    "- [Nettoyage des données](#toc2_)    \n",
    "  - [Termes spécifiques](#toc2_1_)    \n",
    "    - [Tags](#toc2_1_1_)    \n",
    "    - [Langages de programmation issus de Wikipedia](#toc2_1_2_)    \n",
    "    - [Ensemble des termes métier](#toc2_1_3_)    \n",
    "    - [Stopwords](#toc2_1_4_)    \n",
    "    - [Termes à la fois exclus et métier](#toc2_1_5_)    \n",
    "    - [Ponctuation](#toc2_1_6_)    \n",
    "  - [Titres](#toc2_2_)    \n",
    "    - [Nettoyage](#toc2_2_1_)    \n",
    "    - [Tokenisation](#toc2_2_2_)    \n",
    "  - [Corps de texte](#toc2_3_)    \n",
    "  - [Suppression des lignes vides](#toc2_4_)    \n",
    "  - [Données pré-traitées](#toc2_5_)    \n",
    "    - [Visualisation](#toc2_5_1_)    \n",
    "    - [Sauvegarde](#toc2_5_2_)    \n",
    "- [Vocabulaire](#toc3_)    \n",
    "    - [🚧 Réécrire :](#toc3_1_1_)    \n",
    "  - [Titres](#toc3_2_)    \n",
    "  - [Corps](#toc3_3_)    \n",
    "  - [Vocabulaire complet](#toc3_4_)    \n",
    "- [🚧 Statistiques](#toc4_)    \n",
    "  - [Répartition des mots](#toc4_1_)    \n",
    "  - [Répartition des tags](#toc4_2_)    \n",
    "  - [Répartition des langages de programmation](#toc4_3_)    \n",
    "  - [🚧 Nuages de mots](#toc4_4_)    \n",
    "- [Mise à jour des données](#toc5_)    \n",
    "- [🦄🦄 CHECKPOINT 🦄🦄](#toc6_)    \n",
    "\n",
    "<!-- vscode-jupyter-toc-config\n",
    "\tnumbering=false\n",
    "\tanchor=true\n",
    "\tflat=false\n",
    "\tminLevel=1\n",
    "\tmaxLevel=3\n",
    "\t/vscode-jupyter-toc-config -->\n",
    "<!-- THIS CELL WILL BE REPLACED ON TOC UPDATE. DO NOT WRITE YOUR TEXT IN THIS CELL -->"
   ]
  },
  {
   "cell_type": "markdown",
   "metadata": {},
   "source": [
    "# <a id='toc1_'></a>[Mise en place](#toc0_)"
   ]
  },
  {
   "cell_type": "code",
   "execution_count": 1,
   "metadata": {},
   "outputs": [],
   "source": [
    "# OS & env\n",
    "import os\n",
    "import logging\n",
    "\n",
    "# DS\n",
    "import pandas as pd\n",
    "import dill as pickle\n",
    "\n",
    "# home made functions from the src folder\n",
    "from src.scrap_and_clean import words_filter\n",
    "\n",
    "# logging configuration (see all outputs, even DEBUG or INFO)\n",
    "logger = logging.getLogger()\n",
    "logger.setLevel(logging.DEBUG)"
   ]
  },
  {
   "cell_type": "markdown",
   "metadata": {},
   "source": [
    "## <a id='toc1_1_'></a>[Chargement des données](#toc0_)"
   ]
  },
  {
   "cell_type": "code",
   "execution_count": 2,
   "metadata": {},
   "outputs": [],
   "source": [
    "if not os.path.exists(\"data/df_preprocessed.pkl\"):\n",
    "    logging.warning(\"No data: run EDA notebook first\")\n",
    "else:\n",
    "    with open(\"data/df_preprocessed.pkl\", \"rb\") as f:\n",
    "        df = pickle.load(f)"
   ]
  },
  {
   "cell_type": "markdown",
   "metadata": {},
   "source": [
    "Visualisation des données :"
   ]
  },
  {
   "cell_type": "code",
   "execution_count": 3,
   "metadata": {},
   "outputs": [
    {
     "data": {
      "text/html": [
       "<div>\n",
       "<style scoped>\n",
       "    .dataframe tbody tr th:only-of-type {\n",
       "        vertical-align: middle;\n",
       "    }\n",
       "\n",
       "    .dataframe tbody tr th {\n",
       "        vertical-align: top;\n",
       "    }\n",
       "\n",
       "    .dataframe thead th {\n",
       "        text-align: right;\n",
       "    }\n",
       "</style>\n",
       "<table border=\"1\" class=\"dataframe\">\n",
       "  <thead>\n",
       "    <tr style=\"text-align: right;\">\n",
       "      <th></th>\n",
       "      <th>Title</th>\n",
       "      <th>Body</th>\n",
       "      <th>Tags</th>\n",
       "      <th>Score</th>\n",
       "      <th>AnswerCount</th>\n",
       "      <th>CreationDate</th>\n",
       "      <th>ViewCount</th>\n",
       "      <th>title_tokens</th>\n",
       "      <th>body_tokens</th>\n",
       "    </tr>\n",
       "  </thead>\n",
       "  <tbody>\n",
       "    <tr>\n",
       "      <th>0</th>\n",
       "      <td>itms- : missing api declaration - privacy</td>\n",
       "      <td>why am i all of a suddent getting this on succ...</td>\n",
       "      <td>[ios, app-store, plist, appstore-approval, pri...</td>\n",
       "      <td>24</td>\n",
       "      <td>7</td>\n",
       "      <td>2024-03-14 22:55:18</td>\n",
       "      <td>3092</td>\n",
       "      <td>[itms, missing, api, declaration, privacy]</td>\n",
       "      <td>[suddent, getting, successful, builds, apple]</td>\n",
       "    </tr>\n",
       "    <tr>\n",
       "      <th>1</th>\n",
       "      <td>why is builtin sorted() slower for a list cont...</td>\n",
       "      <td>i sorted four similar lists. list consistently...</td>\n",
       "      <td>[python, algorithm, performance, sorting, time...</td>\n",
       "      <td>28</td>\n",
       "      <td>2</td>\n",
       "      <td>2024-03-05 15:21:50</td>\n",
       "      <td>2699</td>\n",
       "      <td>[builtin, sorted, slower, list, containing, de...</td>\n",
       "      <td>[sorted, four, similar, lists, list, consisten...</td>\n",
       "    </tr>\n",
       "    <tr>\n",
       "      <th>2</th>\n",
       "      <td>std::shared_mutex::unlock_shared() blocks even...</td>\n",
       "      <td>my team has encountered a deadlock that i susp...</td>\n",
       "      <td>[c++, windows, multithreading, stl, shared-lock]</td>\n",
       "      <td>26</td>\n",
       "      <td>5</td>\n",
       "      <td>2024-03-01 23:09:59</td>\n",
       "      <td>1388</td>\n",
       "      <td>[std, shared_mutex, unlock_shared, blocks, eve...</td>\n",
       "      <td>[team, encountered, deadlock, suspect, bug, wi...</td>\n",
       "    </tr>\n",
       "    <tr>\n",
       "      <th>3</th>\n",
       "      <td>did the rules for nullptr init of unique_ptr c...</td>\n",
       "      <td>this code compiles with msvc from vs in c++ mo...</td>\n",
       "      <td>[c++, visual-c++, language-lawyer, unique-ptr,...</td>\n",
       "      <td>15</td>\n",
       "      <td>1</td>\n",
       "      <td>2024-02-22 11:29:42</td>\n",
       "      <td>490</td>\n",
       "      <td>[rules, nullptr, init, unique_ptr, change, c++]</td>\n",
       "      <td>[code, compiles, msvc, c++, mode, failes, c++,...</td>\n",
       "    </tr>\n",
       "    <tr>\n",
       "      <th>4</th>\n",
       "      <td>where is the order in which elf relocations ar...</td>\n",
       "      <td>consider the following two files on a linux sy...</td>\n",
       "      <td>[c++, elf, dynamic-linking, abi, relocation]</td>\n",
       "      <td>16</td>\n",
       "      <td>1</td>\n",
       "      <td>2024-02-19 21:42:03</td>\n",
       "      <td>1746</td>\n",
       "      <td>[order, elf, relocations, applied, specified]</td>\n",
       "      <td>[consider, following, two, files, linux, syste...</td>\n",
       "    </tr>\n",
       "    <tr>\n",
       "      <th>...</th>\n",
       "      <td>...</td>\n",
       "      <td>...</td>\n",
       "      <td>...</td>\n",
       "      <td>...</td>\n",
       "      <td>...</td>\n",
       "      <td>...</td>\n",
       "      <td>...</td>\n",
       "      <td>...</td>\n",
       "      <td>...</td>\n",
       "    </tr>\n",
       "    <tr>\n",
       "      <th>49995</th>\n",
       "      <td>reverse engineer assembly code to c code</td>\n",
       "      <td>i think this is actually a pretty simple probl...</td>\n",
       "      <td>[c, assembly, reverse-engineering, x86-64, con...</td>\n",
       "      <td>10</td>\n",
       "      <td>3</td>\n",
       "      <td>2015-02-12 23:51:30</td>\n",
       "      <td>6771</td>\n",
       "      <td>[reverse, engineer, assembly, code, c, code]</td>\n",
       "      <td>[think, actually, pretty, simple, problem, rev...</td>\n",
       "    </tr>\n",
       "    <tr>\n",
       "      <th>49996</th>\n",
       "      <td>combining random forest models in scikit learn</td>\n",
       "      <td>i have two randomforestclassifier models, and ...</td>\n",
       "      <td>[python, python-2.7, scikit-learn, classificat...</td>\n",
       "      <td>21</td>\n",
       "      <td>2</td>\n",
       "      <td>2015-02-12 23:11:56</td>\n",
       "      <td>13071</td>\n",
       "      <td>[combining, random, forest, models, scikit, le...</td>\n",
       "      <td>[two, randomforestclassifier, models, would, l...</td>\n",
       "    </tr>\n",
       "    <tr>\n",
       "      <th>49997</th>\n",
       "      <td>how can i get the primary color from my app th...</td>\n",
       "      <td>in my android java code, how can i reference t...</td>\n",
       "      <td>[android, android-xml, android-theme, android-...</td>\n",
       "      <td>28</td>\n",
       "      <td>2</td>\n",
       "      <td>2015-02-12 22:58:22</td>\n",
       "      <td>20107</td>\n",
       "      <td>[get, primary, color, app, theme]</td>\n",
       "      <td>[android, java, code, reference, color, colorp...</td>\n",
       "    </tr>\n",
       "    <tr>\n",
       "      <th>49998</th>\n",
       "      <td>cors settings for iis .</td>\n",
       "      <td>how can i convert the following code for use i...</td>\n",
       "      <td>[asp.net, iis, cors, web-config, iis-7.5]</td>\n",
       "      <td>12</td>\n",
       "      <td>2</td>\n",
       "      <td>2015-02-12 21:53:34</td>\n",
       "      <td>56289</td>\n",
       "      <td>[cors, settings, iis]</td>\n",
       "      <td>[convert, following, code, use, web.config, ii...</td>\n",
       "    </tr>\n",
       "    <tr>\n",
       "      <th>49999</th>\n",
       "      <td>extending prototypes in javascript - good way?</td>\n",
       "      <td>i want to validate that the approach i'm using...</td>\n",
       "      <td>[javascript, oop, inheritance, prototype, extend]</td>\n",
       "      <td>11</td>\n",
       "      <td>7</td>\n",
       "      <td>2015-02-12 21:15:09</td>\n",
       "      <td>27124</td>\n",
       "      <td>[extending, prototypes, javascript, good, way]</td>\n",
       "      <td>[want, validate, approach, using, correct, com...</td>\n",
       "    </tr>\n",
       "  </tbody>\n",
       "</table>\n",
       "<p>49992 rows × 9 columns</p>\n",
       "</div>"
      ],
      "text/plain": [
       "                                                   Title  \\\n",
       "0              itms- : missing api declaration - privacy   \n",
       "1      why is builtin sorted() slower for a list cont...   \n",
       "2      std::shared_mutex::unlock_shared() blocks even...   \n",
       "3      did the rules for nullptr init of unique_ptr c...   \n",
       "4      where is the order in which elf relocations ar...   \n",
       "...                                                  ...   \n",
       "49995           reverse engineer assembly code to c code   \n",
       "49996     combining random forest models in scikit learn   \n",
       "49997  how can i get the primary color from my app th...   \n",
       "49998                           cors settings for iis .    \n",
       "49999     extending prototypes in javascript - good way?   \n",
       "\n",
       "                                                    Body  \\\n",
       "0      why am i all of a suddent getting this on succ...   \n",
       "1      i sorted four similar lists. list consistently...   \n",
       "2      my team has encountered a deadlock that i susp...   \n",
       "3      this code compiles with msvc from vs in c++ mo...   \n",
       "4      consider the following two files on a linux sy...   \n",
       "...                                                  ...   \n",
       "49995  i think this is actually a pretty simple probl...   \n",
       "49996  i have two randomforestclassifier models, and ...   \n",
       "49997  in my android java code, how can i reference t...   \n",
       "49998  how can i convert the following code for use i...   \n",
       "49999  i want to validate that the approach i'm using...   \n",
       "\n",
       "                                                    Tags  Score  AnswerCount  \\\n",
       "0      [ios, app-store, plist, appstore-approval, pri...     24            7   \n",
       "1      [python, algorithm, performance, sorting, time...     28            2   \n",
       "2       [c++, windows, multithreading, stl, shared-lock]     26            5   \n",
       "3      [c++, visual-c++, language-lawyer, unique-ptr,...     15            1   \n",
       "4           [c++, elf, dynamic-linking, abi, relocation]     16            1   \n",
       "...                                                  ...    ...          ...   \n",
       "49995  [c, assembly, reverse-engineering, x86-64, con...     10            3   \n",
       "49996  [python, python-2.7, scikit-learn, classificat...     21            2   \n",
       "49997  [android, android-xml, android-theme, android-...     28            2   \n",
       "49998          [asp.net, iis, cors, web-config, iis-7.5]     12            2   \n",
       "49999  [javascript, oop, inheritance, prototype, extend]     11            7   \n",
       "\n",
       "              CreationDate  ViewCount  \\\n",
       "0      2024-03-14 22:55:18       3092   \n",
       "1      2024-03-05 15:21:50       2699   \n",
       "2      2024-03-01 23:09:59       1388   \n",
       "3      2024-02-22 11:29:42        490   \n",
       "4      2024-02-19 21:42:03       1746   \n",
       "...                    ...        ...   \n",
       "49995  2015-02-12 23:51:30       6771   \n",
       "49996  2015-02-12 23:11:56      13071   \n",
       "49997  2015-02-12 22:58:22      20107   \n",
       "49998  2015-02-12 21:53:34      56289   \n",
       "49999  2015-02-12 21:15:09      27124   \n",
       "\n",
       "                                            title_tokens  \\\n",
       "0             [itms, missing, api, declaration, privacy]   \n",
       "1      [builtin, sorted, slower, list, containing, de...   \n",
       "2      [std, shared_mutex, unlock_shared, blocks, eve...   \n",
       "3        [rules, nullptr, init, unique_ptr, change, c++]   \n",
       "4          [order, elf, relocations, applied, specified]   \n",
       "...                                                  ...   \n",
       "49995       [reverse, engineer, assembly, code, c, code]   \n",
       "49996  [combining, random, forest, models, scikit, le...   \n",
       "49997                  [get, primary, color, app, theme]   \n",
       "49998                              [cors, settings, iis]   \n",
       "49999     [extending, prototypes, javascript, good, way]   \n",
       "\n",
       "                                             body_tokens  \n",
       "0          [suddent, getting, successful, builds, apple]  \n",
       "1      [sorted, four, similar, lists, list, consisten...  \n",
       "2      [team, encountered, deadlock, suspect, bug, wi...  \n",
       "3      [code, compiles, msvc, c++, mode, failes, c++,...  \n",
       "4      [consider, following, two, files, linux, syste...  \n",
       "...                                                  ...  \n",
       "49995  [think, actually, pretty, simple, problem, rev...  \n",
       "49996  [two, randomforestclassifier, models, would, l...  \n",
       "49997  [android, java, code, reference, color, colorp...  \n",
       "49998  [convert, following, code, use, web.config, ii...  \n",
       "49999  [want, validate, approach, using, correct, com...  \n",
       "\n",
       "[49992 rows x 9 columns]"
      ]
     },
     "execution_count": 3,
     "metadata": {},
     "output_type": "execute_result"
    }
   ],
   "source": [
    "df"
   ]
  },
  {
   "cell_type": "markdown",
   "metadata": {},
   "source": [
    "# FYI 🚧"
   ]
  },
  {
   "cell_type": "code",
   "execution_count": 4,
   "metadata": {},
   "outputs": [],
   "source": [
    "# items_to_keep = [\"s\", \"t\", \"d\"]\n",
    "# keep_set, exclude_set = words_filter(items_to_keep, \"add\", keep_set, exclude_set)\n",
    "\n",
    "# items_to_remove = [s for s in mutual if s not in items_to_keep]\n",
    "# keep_set, exclude_set = words_filter(items_to_remove, \"rm\", keep_set, exclude_set)"
   ]
  },
  {
   "cell_type": "markdown",
   "metadata": {},
   "source": [
    "# <a id='toc3_'></a>[Vocabulaire](#toc0_)"
   ]
  },
  {
   "cell_type": "markdown",
   "metadata": {},
   "source": [
    "### <a id='toc3_1_1_'></a>[🚧 Réécrire :](#toc0_)"
   ]
  },
  {
   "cell_type": "markdown",
   "metadata": {},
   "source": [
    "⚠️ le word_tokenize de NLTK sépare \"#\" du mot précédent, ce qui est gênant puisqu'utilisé pour plusieurs langages informatiques, très susceptibles d'être utilisés comme tags"
   ]
  },
  {
   "cell_type": "markdown",
   "metadata": {},
   "source": [
    "une technique consiste à utiliser la bibliothèque Multi-Word Tokenizer, mais elle déforme la sortie : (\"C\", \"#\") → \"C_#\""
   ]
  },
  {
   "cell_type": "markdown",
   "metadata": {},
   "source": [
    "le plus cohérent est de vérifier qu'un langage informatique avec cette configuration et de procéder à l'union des mots dans ce seul cas"
   ]
  },
  {
   "cell_type": "markdown",
   "metadata": {},
   "source": [
    "Création de 3 *bags-of-words* (abrégés *BOW*) séparés, contenant tout le vocabulaire d'un corpus :\n",
    "- titres\n",
    "- body\n",
    "- global"
   ]
  },
  {
   "cell_type": "markdown",
   "metadata": {},
   "source": [
    "## <a id='toc3_2_'></a>[Titres](#toc0_)"
   ]
  },
  {
   "cell_type": "code",
   "execution_count": 5,
   "metadata": {},
   "outputs": [
    {
     "name": "stdout",
     "output_type": "stream",
     "text": [
      "27467 tokens:\n",
      " ['composer', 'logout', 'channels', 'threat', 'requested', 'rs232', 'clock', 'setup', 'fs', 'generic']\n"
     ]
    }
   ],
   "source": [
    "bow_title = set()\n",
    "df[\"title_tokens\"].apply(lambda x: bow_title.update(set(x)))\n",
    "print(len(bow_title), \"tokens:\\n\", list(bow_title)[:10])"
   ]
  },
  {
   "cell_type": "markdown",
   "metadata": {},
   "source": [
    "## <a id='toc3_3_'></a>[Corps](#toc0_)"
   ]
  },
  {
   "cell_type": "code",
   "execution_count": 6,
   "metadata": {},
   "outputs": [
    {
     "name": "stdout",
     "output_type": "stream",
     "text": [
      "103820 tokens:\n",
      " ['schéma', 'executors.java', 'blueimp.github.io', 'logout', 'channels', 'gaurantees', 'declined', 'ccpizza', 'requested', 'clock']\n"
     ]
    }
   ],
   "source": [
    "bow_body = set()\n",
    "df[\"body_tokens\"].apply(lambda x: bow_body.update(set(x)))\n",
    "print(len(bow_body), \"tokens:\\n\", list(bow_body)[:10])"
   ]
  },
  {
   "cell_type": "markdown",
   "metadata": {},
   "source": [
    "## <a id='toc3_4_'></a>[Vocabulaire complet](#toc0_)"
   ]
  },
  {
   "cell_type": "code",
   "execution_count": 7,
   "metadata": {},
   "outputs": [
    {
     "name": "stdout",
     "output_type": "stream",
     "text": [
      "Total: 110288 tokens\n",
      "(27467 from title and 103820 from body)\n"
     ]
    }
   ],
   "source": [
    "# arhur\n",
    "rain_bow = bow_title | bow_body\n",
    "print(\n",
    "    f\"Total: {len(rain_bow)} tokens\\n({len(bow_title)} from title and {len(bow_body)} from body)\"\n",
    ")"
   ]
  },
  {
   "cell_type": "markdown",
   "metadata": {},
   "source": [
    "# <a id='toc6_'></a>[🦄🦄 CHECKPOINT 🦄🦄](#toc0_)"
   ]
  },
  {
   "cell_type": "markdown",
   "metadata": {},
   "source": [
    "# TF-IDF"
   ]
  },
  {
   "cell_type": "code",
   "execution_count": 8,
   "metadata": {},
   "outputs": [
    {
     "data": {
      "text/plain": [
       "array(['.a', '.d.ts', '.htaccess', ..., '≥3gb', 'ꭲᏻꮎꮅꮝꮤꮕ', 'ꮝꭶꮪꭹ'],\n",
       "      dtype=object)"
      ]
     },
     "execution_count": 8,
     "metadata": {},
     "output_type": "execute_result"
    }
   ],
   "source": [
    "from sklearn.feature_extraction.text import TfidfVectorizer\n",
    "\n",
    "corpus = df[\"title_tokens\"].apply(lambda x: \" \".join(x)).to_list()\n",
    "\n",
    "vectorizer = TfidfVectorizer(token_pattern=r\"\\S+\")\n",
    "X = vectorizer.fit_transform(corpus)\n",
    "vectorizer.get_feature_names_out()"
   ]
  },
  {
   "cell_type": "markdown",
   "metadata": {},
   "source": [
    "🚧 retrouver quelle est la valeur à choper : la plus grande ou la plus petite ?"
   ]
  },
  {
   "cell_type": "code",
   "execution_count": 9,
   "metadata": {},
   "outputs": [
    {
     "name": "stdout",
     "output_type": "stream",
     "text": [
      "zero-allocation\n"
     ]
    }
   ],
   "source": [
    "print(vectorizer.get_feature_names_out()[27374])"
   ]
  },
  {
   "cell_type": "code",
   "execution_count": 10,
   "metadata": {},
   "outputs": [
    {
     "name": "stdout",
     "output_type": "stream",
     "text": [
      "(49992, 27467)\n",
      "rules nullptr init unique_ptr change c++\n",
      "  (0, 3130)\t0.2834497346141111\n",
      "  (0, 3539)\t0.2899654868517161\n",
      "  (0, 25379)\t0.44353148817255206\n",
      "  (0, 11024)\t0.4337465763016716\n",
      "  (0, 16103)\t0.5227410752336996\n",
      "  (0, 20711)\t0.4212621027241501\n",
      "possible make zero-allocation coroutine runtime c++\n",
      "  (0, 20733)\t0.38323367323801016\n",
      "  (0, 4957)\t0.44759039077813456\n",
      "  (0, 27374)\t0.6106012392508993\n",
      "  (0, 13599)\t0.30367593187981645\n",
      "  (0, 18061)\t0.322079623372116\n",
      "  (0, 3130)\t0.28983886042117574\n",
      "combined c++ deducing conversion operator auto return type\n",
      "  (0, 24937)\t0.23851073947605095\n",
      "  (0, 20389)\t0.28451267433583277\n",
      "  (0, 1961)\t0.33663611732903503\n",
      "  (0, 16656)\t0.32927354874944426\n",
      "  (0, 4853)\t0.3606642271063403\n",
      "  (0, 5850)\t0.5117041064725818\n",
      "  (0, 4271)\t0.4259144731422853\n",
      "  (0, 3130)\t0.25903147332563975\n"
     ]
    }
   ],
   "source": [
    "print(X.shape)\n",
    "print(corpus[3])\n",
    "print(X[3])\n",
    "print(corpus[6])\n",
    "print(X[6])\n",
    "print(corpus[7])\n",
    "print(X[7])"
   ]
  },
  {
   "cell_type": "code",
   "execution_count": 11,
   "metadata": {},
   "outputs": [
    {
     "name": "stdout",
     "output_type": "stream",
     "text": [
      "(49992, 27467)\n"
     ]
    }
   ],
   "source": [
    "print(X.shape)"
   ]
  },
  {
   "cell_type": "markdown",
   "metadata": {},
   "source": []
  }
 ],
 "metadata": {
  "kernelspec": {
   "display_name": "Python 3 (ipykernel)",
   "language": "python",
   "name": "python3"
  },
  "language_info": {
   "codemirror_mode": {
    "name": "ipython",
    "version": 3
   },
   "file_extension": ".py",
   "mimetype": "text/x-python",
   "name": "python",
   "nbconvert_exporter": "python",
   "pygments_lexer": "ipython3",
   "version": "3.11.8"
  }
 },
 "nbformat": 4,
 "nbformat_minor": 2
}
