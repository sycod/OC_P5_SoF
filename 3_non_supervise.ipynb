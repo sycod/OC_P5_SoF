{
 "cells": [
  {
   "cell_type": "markdown",
   "metadata": {},
   "source": [
    "**Table of contents**<a id='toc0_'></a>    \n",
    "- [Mise en place](#toc1_)    \n",
    "  - [Chargement des données](#toc1_1_)    \n",
    "  - [Visualisations](#toc1_2_)    \n",
    "  - [Préparation des données](#toc1_3_)    \n",
    "- [Stratégie](#toc2_)    \n",
    "- [TF-IDF](#toc3_)    \n",
    "- [CountVectorizer](#toc4_)    \n",
    "- [🦄🦄 CHECKPOINT 🦄🦄](#toc5_)    \n",
    "- [LDA](#toc6_)    \n",
    "- [🚧 vrac utile](#toc7_)    \n",
    "\n",
    "<!-- vscode-jupyter-toc-config\n",
    "\tnumbering=false\n",
    "\tanchor=true\n",
    "\tflat=false\n",
    "\tminLevel=1\n",
    "\tmaxLevel=3\n",
    "\t/vscode-jupyter-toc-config -->\n",
    "<!-- THIS CELL WILL BE REPLACED ON TOC UPDATE. DO NOT WRITE YOUR TEXT IN THIS CELL -->"
   ]
  },
  {
   "cell_type": "markdown",
   "metadata": {},
   "source": [
    "# <a id='toc1_'></a>[Mise en place](#toc0_)"
   ]
  },
  {
   "cell_type": "code",
   "execution_count": 1,
   "metadata": {},
   "outputs": [],
   "source": [
    "# OS & env\n",
    "import os\n",
    "import logging\n",
    "\n",
    "# DS\n",
    "import numpy as np\n",
    "import pandas as pd\n",
    "import dill as pickle\n",
    "\n",
    "# ML\n",
    "from sklearn.feature_extraction.text import TfidfVectorizer\n",
    "from sklearn.feature_extraction.text import CountVectorizer\n",
    "\n",
    "# home made functions from the src folder\n",
    "from src.scrap_and_clean import words_filter\n",
    "from src.models import results_from_vec_matrix\n",
    "from src.models import get_lda_topics\n",
    "\n",
    "# logging configuration (see all outputs, even DEBUG or INFO)\n",
    "logger = logging.getLogger()\n",
    "logger.setLevel(logging.DEBUG)"
   ]
  },
  {
   "cell_type": "markdown",
   "metadata": {},
   "source": [
    "## <a id='toc1_1_'></a>[Chargement des données](#toc0_)"
   ]
  },
  {
   "cell_type": "code",
   "execution_count": 2,
   "metadata": {},
   "outputs": [],
   "source": [
    "if not os.path.exists(\"data/df_preprocessed.pkl\") or not os.path.exists(\n",
    "    \"data/stats_df.pkl\"\n",
    "):\n",
    "    logging.warning(\"Missing data: run EDA notebook first\")\n",
    "else:\n",
    "    with open(\"data/df_preprocessed.pkl\", \"rb\") as df:\n",
    "        df = pickle.load(df)\n",
    "    with open(\"data/stats_df.pkl\", \"rb\") as st:\n",
    "        stats_df = pickle.load(st)"
   ]
  },
  {
   "cell_type": "markdown",
   "metadata": {},
   "source": [
    "## <a id='toc1_2_'></a>[Visualisations](#toc0_)"
   ]
  },
  {
   "cell_type": "markdown",
   "metadata": {},
   "source": [
    "Jeu de données"
   ]
  },
  {
   "cell_type": "code",
   "execution_count": 3,
   "metadata": {},
   "outputs": [
    {
     "data": {
      "text/html": [
       "<div>\n",
       "<style scoped>\n",
       "    .dataframe tbody tr th:only-of-type {\n",
       "        vertical-align: middle;\n",
       "    }\n",
       "\n",
       "    .dataframe tbody tr th {\n",
       "        vertical-align: top;\n",
       "    }\n",
       "\n",
       "    .dataframe thead th {\n",
       "        text-align: right;\n",
       "    }\n",
       "</style>\n",
       "<table border=\"1\" class=\"dataframe\">\n",
       "  <thead>\n",
       "    <tr style=\"text-align: right;\">\n",
       "      <th></th>\n",
       "      <th>Title</th>\n",
       "      <th>Body</th>\n",
       "      <th>Tags</th>\n",
       "      <th>Score</th>\n",
       "      <th>AnswerCount</th>\n",
       "      <th>CreationDate</th>\n",
       "      <th>ViewCount</th>\n",
       "      <th>title_tokens</th>\n",
       "      <th>body_tokens</th>\n",
       "    </tr>\n",
       "  </thead>\n",
       "  <tbody>\n",
       "    <tr>\n",
       "      <th>0</th>\n",
       "      <td>itms- : missing api declaration - privacy</td>\n",
       "      <td>why am i all of a suddent getting this on succ...</td>\n",
       "      <td>[ios, app-store, plist, appstore-approval, pri...</td>\n",
       "      <td>24</td>\n",
       "      <td>7</td>\n",
       "      <td>2024-03-14 22:55:18</td>\n",
       "      <td>3092</td>\n",
       "      <td>[itms, missing, api, declaration, privacy]</td>\n",
       "      <td>[suddent, getting, successful, builds, apple]</td>\n",
       "    </tr>\n",
       "    <tr>\n",
       "      <th>1</th>\n",
       "      <td>why is builtin sorted() slower for a list cont...</td>\n",
       "      <td>i sorted four similar lists. list consistently...</td>\n",
       "      <td>[python, algorithm, performance, sorting, time...</td>\n",
       "      <td>28</td>\n",
       "      <td>2</td>\n",
       "      <td>2024-03-05 15:21:50</td>\n",
       "      <td>2699</td>\n",
       "      <td>[builtin, sorted, slower, list, containing, de...</td>\n",
       "      <td>[sorted, four, similar, lists, list, consisten...</td>\n",
       "    </tr>\n",
       "    <tr>\n",
       "      <th>2</th>\n",
       "      <td>std::shared_mutex::unlock_shared() blocks even...</td>\n",
       "      <td>my team has encountered a deadlock that i susp...</td>\n",
       "      <td>[c++, windows, multithreading, stl, shared-lock]</td>\n",
       "      <td>26</td>\n",
       "      <td>5</td>\n",
       "      <td>2024-03-01 23:09:59</td>\n",
       "      <td>1388</td>\n",
       "      <td>[std, shared_mutex, unlock_shared, blocks, eve...</td>\n",
       "      <td>[team, encountered, deadlock, suspect, bug, wi...</td>\n",
       "    </tr>\n",
       "    <tr>\n",
       "      <th>3</th>\n",
       "      <td>did the rules for nullptr init of unique_ptr c...</td>\n",
       "      <td>this code compiles with msvc from vs in c++ mo...</td>\n",
       "      <td>[c++, visual-c++, language-lawyer, unique-ptr,...</td>\n",
       "      <td>15</td>\n",
       "      <td>1</td>\n",
       "      <td>2024-02-22 11:29:42</td>\n",
       "      <td>490</td>\n",
       "      <td>[rules, nullptr, init, unique_ptr, change, c++]</td>\n",
       "      <td>[compiles, msvc, c++, mode, failes, c++, mode,...</td>\n",
       "    </tr>\n",
       "    <tr>\n",
       "      <th>4</th>\n",
       "      <td>where is the order in which elf relocations ar...</td>\n",
       "      <td>consider the following two files on a linux sy...</td>\n",
       "      <td>[c++, elf, dynamic-linking, abi, relocation]</td>\n",
       "      <td>16</td>\n",
       "      <td>1</td>\n",
       "      <td>2024-02-19 21:42:03</td>\n",
       "      <td>1746</td>\n",
       "      <td>[order, elf, relocations, applied, specified]</td>\n",
       "      <td>[consider, following, two, linux, system, use_...</td>\n",
       "    </tr>\n",
       "  </tbody>\n",
       "</table>\n",
       "</div>"
      ],
      "text/plain": [
       "                                               Title  \\\n",
       "0          itms- : missing api declaration - privacy   \n",
       "1  why is builtin sorted() slower for a list cont...   \n",
       "2  std::shared_mutex::unlock_shared() blocks even...   \n",
       "3  did the rules for nullptr init of unique_ptr c...   \n",
       "4  where is the order in which elf relocations ar...   \n",
       "\n",
       "                                                Body  \\\n",
       "0  why am i all of a suddent getting this on succ...   \n",
       "1  i sorted four similar lists. list consistently...   \n",
       "2  my team has encountered a deadlock that i susp...   \n",
       "3  this code compiles with msvc from vs in c++ mo...   \n",
       "4  consider the following two files on a linux sy...   \n",
       "\n",
       "                                                Tags  Score  AnswerCount  \\\n",
       "0  [ios, app-store, plist, appstore-approval, pri...     24            7   \n",
       "1  [python, algorithm, performance, sorting, time...     28            2   \n",
       "2   [c++, windows, multithreading, stl, shared-lock]     26            5   \n",
       "3  [c++, visual-c++, language-lawyer, unique-ptr,...     15            1   \n",
       "4       [c++, elf, dynamic-linking, abi, relocation]     16            1   \n",
       "\n",
       "          CreationDate  ViewCount  \\\n",
       "0  2024-03-14 22:55:18       3092   \n",
       "1  2024-03-05 15:21:50       2699   \n",
       "2  2024-03-01 23:09:59       1388   \n",
       "3  2024-02-22 11:29:42        490   \n",
       "4  2024-02-19 21:42:03       1746   \n",
       "\n",
       "                                        title_tokens  \\\n",
       "0         [itms, missing, api, declaration, privacy]   \n",
       "1  [builtin, sorted, slower, list, containing, de...   \n",
       "2  [std, shared_mutex, unlock_shared, blocks, eve...   \n",
       "3    [rules, nullptr, init, unique_ptr, change, c++]   \n",
       "4      [order, elf, relocations, applied, specified]   \n",
       "\n",
       "                                         body_tokens  \n",
       "0      [suddent, getting, successful, builds, apple]  \n",
       "1  [sorted, four, similar, lists, list, consisten...  \n",
       "2  [team, encountered, deadlock, suspect, bug, wi...  \n",
       "3  [compiles, msvc, c++, mode, failes, c++, mode,...  \n",
       "4  [consider, following, two, linux, system, use_...  "
      ]
     },
     "metadata": {},
     "output_type": "display_data"
    },
    {
     "name": "stdout",
     "output_type": "stream",
     "text": [
      "DF shape: (49991, 9)\n",
      "Corpus contains 110199 tokens\n"
     ]
    }
   ],
   "source": [
    "display(df.head())\n",
    "print(f\"DF shape: {df.shape}\")\n",
    "print(f'Corpus contains {len(stats_df[\"count_corpus\"])} tokens')"
   ]
  },
  {
   "cell_type": "markdown",
   "metadata": {},
   "source": [
    "## <a id='toc1_3_'></a>[Préparation des données](#toc0_)"
   ]
  },
  {
   "cell_type": "markdown",
   "metadata": {},
   "source": [
    "Passage des tokens à des listes de chaînes"
   ]
  },
  {
   "cell_type": "code",
   "execution_count": 4,
   "metadata": {},
   "outputs": [],
   "source": [
    "tags = df[\"Tags\"].apply(lambda x: \" \".join(x)).to_list()\n",
    "titles = df[\"title_tokens\"].apply(lambda x: \" \".join(x)).to_list()\n",
    "bodies = df[\"body_tokens\"].apply(lambda x: \" \".join(x)).to_list()\n",
    "corpus = (df[\"title_tokens\"] + df[\"body_tokens\"]).apply(lambda x: \" \".join(x)).to_list()"
   ]
  },
  {
   "cell_type": "markdown",
   "metadata": {},
   "source": [
    "# Approches Bag-of-words"
   ]
  },
  {
   "cell_type": "markdown",
   "metadata": {},
   "source": [
    "🚧 Pour tester ces modèles, les **entraînements se font sur les titres des questions**, partant du postulat que les titres des questions pertinentes sont proportionnellement plus représentatifs du contenu.\n",
    "\n",
    "🚧 ☝️ Pas forcément ☝️ :  \n",
    "c'est selon stats ds EDA et utiliser le corpus permet d'avoir un mot qui est dans title + body, ce qui le rend naturellement plus probable"
   ]
  },
  {
   "cell_type": "markdown",
   "metadata": {},
   "source": [
    "Création d'un titre fictif pour tests ultérieurs"
   ]
  },
  {
   "cell_type": "code",
   "execution_count": 5,
   "metadata": {},
   "outputs": [],
   "source": [
    "dummy_doc = \"i have a c# issue with overflow memory in library kazakhstanislas causing many problems in my code: how do you manage this? Here is an example: <code>int a = 1; int b = 2; int c = a + b;</code>\""
   ]
  },
  {
   "cell_type": "markdown",
   "metadata": {},
   "source": [
    "## <a id='toc3_'></a>[TF-IDF](#toc0_)"
   ]
  },
  {
   "cell_type": "markdown",
   "metadata": {},
   "source": [
    "[Documentation ScikitLearn](https://scikit-learn.org/stable/modules/generated/sklearn.feature_extraction.text.TfidfVectorizer.html)"
   ]
  },
  {
   "cell_type": "markdown",
   "metadata": {},
   "source": [
    "🚧 Un modèle simple de prédictions pourrait être de se baser sur les fréquences de monogrammes présents dans un corpus."
   ]
  },
  {
   "cell_type": "markdown",
   "metadata": {},
   "source": [
    "Entraînement du modèle sur le corpus"
   ]
  },
  {
   "cell_type": "code",
   "execution_count": 40,
   "metadata": {},
   "outputs": [],
   "source": [
    "tfidf_vectorizer = TfidfVectorizer(token_pattern=r\"\\S+\", min_df=10)\n",
    "tfidf_fitted = tfidf_vectorizer.fit(corpus)\n",
    "tfidf_names = tfidf_vectorizer.get_feature_names_out()"
   ]
  },
  {
   "cell_type": "markdown",
   "metadata": {},
   "source": [
    "# <a id='toc5_'></a>[🦄🦄 CHECKPOINT 🦄🦄](#toc0_)"
   ]
  },
  {
   "cell_type": "markdown",
   "metadata": {},
   "source": [
    "Prédiction sur un document existant (biaisé car dans l'entraînement, seulement pour l'exemple et la comparaison entre prédictions et tags existants)"
   ]
  },
  {
   "cell_type": "code",
   "execution_count": 41,
   "metadata": {},
   "outputs": [],
   "source": [
    "n_predictions = 5\n",
    "doc_index = 13371\n",
    "doc = corpus[doc_index]"
   ]
  },
  {
   "cell_type": "code",
   "execution_count": 42,
   "metadata": {},
   "outputs": [
    {
     "name": "stdout",
     "output_type": "stream",
     "text": [
      "1️⃣- Original document:\n",
      "    django sessions working expected heroku users keep getting logged sessions persisting django app heroku users log randomly logged out—even site anything wrong django heroku config currently running django standard dynos settings.py\n",
      "\n",
      "2️⃣- Predictions:\n",
      "    {'django': 0.5212935792595451, 'heroku': 0.49227563324098506, 'sessions': 0.3394822489281743, 'logged': 0.28716515499154116, 'users': 0.2215763034401152}\n",
      "\n",
      "3️⃣- Targetted tags:\n",
      "    python django session cookies redis\n"
     ]
    }
   ],
   "source": [
    "# predict\n",
    "X = tfidf_fitted.transform([doc])\n",
    "# display predictions\n",
    "predictions = results_from_vec_matrix(tfidf_vectorizer, X, n_predictions)\n",
    "\n",
    "print(f\"1️⃣- Original document:\\n    {doc}\\n\")\n",
    "print(f\"2️⃣- Predictions:\\n    {predictions}\\n\")\n",
    "print(f\"3️⃣- Targetted tags:\\n    {tags[doc_index]}\")"
   ]
  },
  {
   "cell_type": "markdown",
   "metadata": {},
   "source": [
    "Prédiction sur un document fictif"
   ]
  },
  {
   "cell_type": "markdown",
   "metadata": {},
   "source": [
    "🚧 inclure pipeline clean sur doc fictif"
   ]
  },
  {
   "cell_type": "code",
   "execution_count": 43,
   "metadata": {},
   "outputs": [],
   "source": [
    "doc = dummy_doc"
   ]
  },
  {
   "cell_type": "code",
   "execution_count": 56,
   "metadata": {},
   "outputs": [
    {
     "data": {
      "text/plain": [
       "({'int': 0.6084973211985404,\n",
       "  'overflow': 0.29825834886283686,\n",
       "  'manage': 0.2848828239471886,\n",
       "  'b': 0.2724742057720744,\n",
       "  'causing': 0.27012379126795866},\n",
       " [array([4508, 6241, 5294,  785, 1292], dtype=int32)])"
      ]
     },
     "execution_count": 56,
     "metadata": {},
     "output_type": "execute_result"
    }
   ],
   "source": [
    "def xxx(vectorizer, X, n_max) -> dict:\n",
    "    \"\"\"Predict a maximum of n_max results from a vectorizer and a transformed sparse matrix X.\"\"\"\n",
    "    d = X.data\n",
    "    i = X.indices\n",
    "\n",
    "    # get highest weights\n",
    "    weights = np.sort(d)[::-1][: min(len(i), n_max)].tolist()\n",
    "\n",
    "    # get corresponding indices\n",
    "    pred_indices = [i[np.argsort(-d)][: min(len(i), n_max)]]\n",
    "\n",
    "    # get corresponding words\n",
    "    preds = [vectorizer.get_feature_names_out()[x] for x in pred_indices[0]]\n",
    "\n",
    "    return dict(zip(preds, weights)), pred_indices\n",
    "\n",
    "_ = xxx(tfidf_vectorizer, X, 5)\n",
    "_"
   ]
  },
  {
   "cell_type": "code",
   "execution_count": 61,
   "metadata": {},
   "outputs": [
    {
     "data": {
      "text/plain": [
       "array(['int', 'overflow', 'manage', 'b', 'causing'], dtype=object)"
      ]
     },
     "execution_count": 61,
     "metadata": {},
     "output_type": "execute_result"
    }
   ],
   "source": [
    "tfidf_vectorizer.get_feature_names_out()[X.indices[np.argsort(-X.data)][: min(len(X.indices), 5)]]"
   ]
  },
  {
   "cell_type": "code",
   "execution_count": 44,
   "metadata": {},
   "outputs": [
    {
     "name": "stdout",
     "output_type": "stream",
     "text": [
      "1️⃣- Original document:\n",
      "    i have a c# issue with overflow memory in library kazakhstanislas causing many problems in my code: how do you manage this? Here is an example: <code>int a = 1; int b = 2; int c = a + b;</code>\n",
      "\n",
      "2️⃣- Predictions:\n",
      "    {'int': 0.6084973211985404, 'overflow': 0.29825834886283686, 'manage': 0.2848828239471886, 'b': 0.2724742057720744, 'causing': 0.27012379126795866}\n",
      "\n"
     ]
    }
   ],
   "source": [
    "# predict\n",
    "X = tfidf_fitted.transform([doc])\n",
    "# display predictions\n",
    "predictions = results_from_vec_matrix(tfidf_vectorizer, X, n_predictions)\n",
    "\n",
    "print(f\"1️⃣- Original document:\\n    {doc}\\n\")\n",
    "print(f\"2️⃣- Predictions:\\n    {predictions}\\n\")"
   ]
  },
  {
   "cell_type": "markdown",
   "metadata": {},
   "source": [
    "On constate que TF-IDF, par son fonctionnement, ne propose pas facilement des tags fréquents, tels que les noms de langages informatiques ou bibliothèques régulièrement utilisées : c'est là une des limites de cette approche simple."
   ]
  },
  {
   "cell_type": "code",
   "execution_count": null,
   "metadata": {},
   "outputs": [],
   "source": [
    "stop"
   ]
  },
  {
   "cell_type": "markdown",
   "metadata": {},
   "source": [
    "# 🚧🚧🚧🚧🚧🚧🚧🚧🚧🚧🚧🚧🚧🚧🚧🚧🚧🚧🚧🚧🚧🚧🚧🚧🚧🚧🚧🚧🚧🚧🚧🚧🚧🚧🚧🚧🚧🚧🚧\n",
    "\n",
    "- faire fonction qui récupère les indices des mots à partir d'une chaîne de tags"
   ]
  },
  {
   "cell_type": "code",
   "execution_count": 66,
   "metadata": {},
   "outputs": [
    {
     "data": {
      "text/plain": [
       "'python django session cookies redis'"
      ]
     },
     "execution_count": 66,
     "metadata": {},
     "output_type": "execute_result"
    }
   ],
   "source": [
    "tags[doc_index]"
   ]
  },
  {
   "cell_type": "code",
   "execution_count": 65,
   "metadata": {},
   "outputs": [
    {
     "name": "stdout",
     "output_type": "stream",
     "text": [
      "[4508 6241 5294  785 1292]\n"
     ]
    }
   ],
   "source": [
    "print(X.indices[np.argsort(-X.data)][: min(len(X.indices), 5)])"
   ]
  },
  {
   "cell_type": "code",
   "execution_count": 18,
   "metadata": {},
   "outputs": [],
   "source": [
    "import time\n",
    "import matplotlib.pyplot as plt\n",
    "\n",
    "from sklearn import cluster, metrics\n",
    "from sklearn import manifold, decomposition\n",
    "\n",
    "from nltk.stem import WordNetLemmatizer\n",
    "\n",
    "\n",
    "# Calcul Tsne, détermination des clusters et calcul ARI entre vrais catégorie et n° de clusters\n",
    "def ARI_fct(features, targets):\n",
    "    start_time = time.time()\n",
    "    # 🚧🚧🚧🚧🚧🚧🚧🚧🚧🚧🚧🚧🚧🚧🚧🚧🚧🚧🚧🚧🚧🚧🚧🚧🚧🚧🚧🚧🚧🚧🚧🚧🚧🚧🚧🚧🚧🚧🚧\n",
    "    # récupération des indices des mots les plus fréquents pour comparaison ARI (chiffres seulement)\n",
    "    f_ind = features.indices\n",
    "    f_data = features.data\n",
    "    pred_index_list = f_ind[np.argsort(-f_data)][: min(len(f_ind), 5)]\n",
    "    \n",
    "    targets_list = \n",
    "    # 🚧🚧🚧🚧🚧🚧🚧🚧🚧🚧🚧🚧🚧🚧🚧🚧🚧🚧🚧🚧🚧🚧🚧🚧🚧🚧🚧🚧🚧🚧🚧🚧🚧🚧🚧🚧🚧🚧🚧\n",
    "\n",
    "    tsne = manifold.TSNE(n_components=2, perplexity=30, n_iter=2000, \n",
    "                                 init='random', learning_rate=200, random_state=42)\n",
    "    X_tsne = tsne.fit_transform(features)\n",
    "    \n",
    "    # Détermination des clusters à partir des données après Tsne \n",
    "    # cls = cluster.KMeans(n_clusters=num_labels, n_init=100, random_state=42)\n",
    "    # cls.fit(X_tsne)\n",
    "    # ARI = np.round(metrics.adjusted_rand_score(🚧 CONVERT WORDS LISTS TO BOW INDEXES LISTS then compare both),4)\n",
    "    duration = np.round(time.time() - start_time,0)\n",
    "    print(\"ARI: \", ARI, \"Duration: \", duration)\n",
    "    \n",
    "    return ARI, X_tsne\n",
    "\n",
    "\n",
    "# visualisation du Tsne selon les vraies catégories et selon les clusters\n",
    "def TSNE_visu_fct(X_tsne, y_cat_num, labels, ARI) :\n",
    "    fig = plt.figure(figsize=(15,6))\n",
    "    \n",
    "    ax = fig.add_subplot(121)\n",
    "    scatter = ax.scatter(X_tsne[:,0],X_tsne[:,1], c=y_cat_num, cmap='Set1')\n",
    "    ax.legend(handles=scatter.legend_elements()[0], labels=l_cat, loc=\"best\", title=\"Categorie\")\n",
    "    plt.title('Représentation des tweets par catégories réelles')\n",
    "    \n",
    "    ax = fig.add_subplot(122)\n",
    "    scatter = ax.scatter(X_tsne[:,0],X_tsne[:,1], c=labels, cmap='Set1')\n",
    "    ax.legend(handles=scatter.legend_elements()[0], labels=set(labels), loc=\"best\", title=\"Clusters\")\n",
    "    plt.title('Représentation des tweets par clusters')\n",
    "    \n",
    "    plt.show()\n",
    "    print(\"ARI : \", ARI)\n",
    "\n",
    "\n"
   ]
  },
  {
   "cell_type": "code",
   "execution_count": null,
   "metadata": {},
   "outputs": [],
   "source": [
    "tfidf_vectorizer = TfidfVectorizer(token_pattern=r\"\\S+\", min_df=10)\n",
    "tfidf_fitted = tfidf_vectorizer.fit(corpus)\n",
    "tfidf_names = tfidf_vectorizer.get_feature_names_out()\n",
    "tfidf_transformed = tfidf_vectorizer.fit(corpus)"
   ]
  },
  {
   "cell_type": "code",
   "execution_count": null,
   "metadata": {},
   "outputs": [
    {
     "name": "stdout",
     "output_type": "stream",
     "text": [
      "Tf-idf : \n",
      "--------\n"
     ]
    },
    {
     "ename": "NameError",
     "evalue": "name 'l_cat' is not defined",
     "output_type": "error",
     "traceback": [
      "\u001b[0;31m---------------------------------------------------------------------------\u001b[0m",
      "\u001b[0;31mNameError\u001b[0m                                 Traceback (most recent call last)",
      "Cell \u001b[0;32mIn[26], line 3\u001b[0m\n\u001b[1;32m      1\u001b[0m \u001b[38;5;28mprint\u001b[39m(\u001b[38;5;124m\"\u001b[39m\u001b[38;5;124mTf-idf : \u001b[39m\u001b[38;5;124m\"\u001b[39m)\n\u001b[1;32m      2\u001b[0m \u001b[38;5;28mprint\u001b[39m(\u001b[38;5;124m\"\u001b[39m\u001b[38;5;124m--------\u001b[39m\u001b[38;5;124m\"\u001b[39m)\n\u001b[0;32m----> 3\u001b[0m ARI, X_tsne, labels \u001b[38;5;241m=\u001b[39m \u001b[43mARI_fct\u001b[49m\u001b[43m(\u001b[49m\u001b[43mtfidf_transformed\u001b[49m\u001b[43m)\u001b[49m\n",
      "Cell \u001b[0;32mIn[23], line 13\u001b[0m, in \u001b[0;36mARI_fct\u001b[0;34m(features)\u001b[0m\n\u001b[1;32m     11\u001b[0m \u001b[38;5;28;01mdef\u001b[39;00m \u001b[38;5;21mARI_fct\u001b[39m(features) :\n\u001b[1;32m     12\u001b[0m     time1 \u001b[38;5;241m=\u001b[39m time\u001b[38;5;241m.\u001b[39mtime()\n\u001b[0;32m---> 13\u001b[0m     num_labels\u001b[38;5;241m=\u001b[39m\u001b[38;5;28mlen\u001b[39m(\u001b[43ml_cat\u001b[49m)\n\u001b[1;32m     14\u001b[0m     tsne \u001b[38;5;241m=\u001b[39m manifold\u001b[38;5;241m.\u001b[39mTSNE(n_components\u001b[38;5;241m=\u001b[39m\u001b[38;5;241m2\u001b[39m, perplexity\u001b[38;5;241m=\u001b[39m\u001b[38;5;241m30\u001b[39m, n_iter\u001b[38;5;241m=\u001b[39m\u001b[38;5;241m2000\u001b[39m, \n\u001b[1;32m     15\u001b[0m                                  init\u001b[38;5;241m=\u001b[39m\u001b[38;5;124m'\u001b[39m\u001b[38;5;124mrandom\u001b[39m\u001b[38;5;124m'\u001b[39m, learning_rate\u001b[38;5;241m=\u001b[39m\u001b[38;5;241m200\u001b[39m, random_state\u001b[38;5;241m=\u001b[39m\u001b[38;5;241m42\u001b[39m)\n\u001b[1;32m     16\u001b[0m     X_tsne \u001b[38;5;241m=\u001b[39m tsne\u001b[38;5;241m.\u001b[39mfit_transform(features)\n",
      "\u001b[0;31mNameError\u001b[0m: name 'l_cat' is not defined"
     ]
    }
   ],
   "source": [
    "print(\"Tf-idf : \")\n",
    "print(\"--------\")\n",
    "ARI, X_tsne, labels = ARI_fct(tfidf_transformed)"
   ]
  },
  {
   "cell_type": "code",
   "execution_count": null,
   "metadata": {},
   "outputs": [],
   "source": [
    " TSNE_visu_fct(X_tsne, y_cat_num, labels, ARI)"
   ]
  },
  {
   "cell_type": "markdown",
   "metadata": {},
   "source": [
    "# <a id='toc4_'></a>[CountVectorizer](#toc0_)"
   ]
  },
  {
   "cell_type": "markdown",
   "metadata": {},
   "source": [
    "[Documentation ScikitLearn](https://scikit-learn.org/stable/modules/generated/sklearn.feature_extraction.text.CountVectorizer.html)"
   ]
  },
  {
   "cell_type": "markdown",
   "metadata": {},
   "source": [
    "🚧 Utilisation de CountVectorizer sur les données => LDA l'utilise en entrée"
   ]
  },
  {
   "cell_type": "markdown",
   "metadata": {},
   "source": [
    "Modèle de comptage vectoriel"
   ]
  },
  {
   "cell_type": "code",
   "execution_count": 36,
   "metadata": {},
   "outputs": [],
   "source": [
    "count_vectorizer = CountVectorizer(token_pattern=r\"\\S+\", dtype=np.uint16, min_df=10)"
   ]
  },
  {
   "cell_type": "markdown",
   "metadata": {},
   "source": [
    "Entraînement du modèle sur le corpus"
   ]
  },
  {
   "cell_type": "code",
   "execution_count": 37,
   "metadata": {},
   "outputs": [],
   "source": [
    "cv_fitted = count_vectorizer.fit(corpus)\n",
    "cv_names = count_vectorizer.get_feature_names_out()\n",
    "cv_transformed = cv_fitted.transform(corpus)"
   ]
  },
  {
   "cell_type": "markdown",
   "metadata": {},
   "source": [
    "Exemple sur un document fictif"
   ]
  },
  {
   "cell_type": "markdown",
   "metadata": {},
   "source": [
    "🚧 inclure pipeline clean sur doc fictif"
   ]
  },
  {
   "cell_type": "code",
   "execution_count": 38,
   "metadata": {},
   "outputs": [],
   "source": [
    "doc = dummy_doc"
   ]
  },
  {
   "cell_type": "code",
   "execution_count": 39,
   "metadata": {},
   "outputs": [
    {
     "name": "stdout",
     "output_type": "stream",
     "text": [
      "1️⃣- Original document:\n",
      "    i have a c# issue with overflow memory in library kazakhstanislas causing many problems in my code: how do you manage this? Here is an example: <code>int a = 1; int b = 2; int c = a + b;</code>\n",
      "\n",
      "2️⃣- Predictions:\n",
      "    {'int': 2, 'b': 1, 'c': 1, 'c#': 1, 'causing': 1}\n",
      "\n"
     ]
    }
   ],
   "source": [
    "# predict\n",
    "X = cv_fitted.transform([doc])\n",
    "# display predictions\n",
    "predictions = results_from_vec_matrix(count_vectorizer, X, n_predictions)\n",
    "\n",
    "print(f\"1️⃣- Original document:\\n    {doc}\\n\")\n",
    "print(f\"2️⃣- Predictions:\\n    {predictions}\\n\")"
   ]
  },
  {
   "cell_type": "markdown",
   "metadata": {},
   "source": [
    "# <a id='toc6_'></a>[LDA](#toc0_)"
   ]
  },
  {
   "cell_type": "markdown",
   "metadata": {},
   "source": [
    "[Documentation ScikitLearn](https://scikit-learn.org/stable/modules/generated/sklearn.decomposition.LatentDirichletAllocation.html)\n",
    "\n",
    "[LDA Gensim 1](https://radimrehurek.com/gensim/wiki.html#latent-dirichlet-allocation)\n",
    "[LDA Gensim 2](https://radimrehurek.com/gensim/models/ldamodel.html#gensim.models.ldamodel.LdaModel)"
   ]
  },
  {
   "cell_type": "markdown",
   "metadata": {},
   "source": [
    "Modèle LDA"
   ]
  },
  {
   "cell_type": "code",
   "execution_count": null,
   "metadata": {},
   "outputs": [],
   "source": [
    "from sklearn.decomposition import LatentDirichletAllocation\n",
    "\n",
    "# define a maximum number of topics (each represented by some words)\n",
    "n_topics = 20\n",
    "\n",
    "# LDA model\n",
    "lda = LatentDirichletAllocation(\n",
    "    n_components=n_topics,\n",
    "    max_iter=5,\n",
    "    learning_method=\"online\",\n",
    "    learning_offset=50.0,\n",
    "    random_state=0,\n",
    ")"
   ]
  },
  {
   "cell_type": "markdown",
   "metadata": {},
   "source": [
    "Entraînement et transformation"
   ]
  },
  {
   "cell_type": "code",
   "execution_count": null,
   "metadata": {},
   "outputs": [
    {
     "data": {
      "text/html": [
       "<style>#sk-container-id-1 {\n",
       "  /* Definition of color scheme common for light and dark mode */\n",
       "  --sklearn-color-text: black;\n",
       "  --sklearn-color-line: gray;\n",
       "  /* Definition of color scheme for unfitted estimators */\n",
       "  --sklearn-color-unfitted-level-0: #fff5e6;\n",
       "  --sklearn-color-unfitted-level-1: #f6e4d2;\n",
       "  --sklearn-color-unfitted-level-2: #ffe0b3;\n",
       "  --sklearn-color-unfitted-level-3: chocolate;\n",
       "  /* Definition of color scheme for fitted estimators */\n",
       "  --sklearn-color-fitted-level-0: #f0f8ff;\n",
       "  --sklearn-color-fitted-level-1: #d4ebff;\n",
       "  --sklearn-color-fitted-level-2: #b3dbfd;\n",
       "  --sklearn-color-fitted-level-3: cornflowerblue;\n",
       "\n",
       "  /* Specific color for light theme */\n",
       "  --sklearn-color-text-on-default-background: var(--sg-text-color, var(--theme-code-foreground, var(--jp-content-font-color1, black)));\n",
       "  --sklearn-color-background: var(--sg-background-color, var(--theme-background, var(--jp-layout-color0, white)));\n",
       "  --sklearn-color-border-box: var(--sg-text-color, var(--theme-code-foreground, var(--jp-content-font-color1, black)));\n",
       "  --sklearn-color-icon: #696969;\n",
       "\n",
       "  @media (prefers-color-scheme: dark) {\n",
       "    /* Redefinition of color scheme for dark theme */\n",
       "    --sklearn-color-text-on-default-background: var(--sg-text-color, var(--theme-code-foreground, var(--jp-content-font-color1, white)));\n",
       "    --sklearn-color-background: var(--sg-background-color, var(--theme-background, var(--jp-layout-color0, #111)));\n",
       "    --sklearn-color-border-box: var(--sg-text-color, var(--theme-code-foreground, var(--jp-content-font-color1, white)));\n",
       "    --sklearn-color-icon: #878787;\n",
       "  }\n",
       "}\n",
       "\n",
       "#sk-container-id-1 {\n",
       "  color: var(--sklearn-color-text);\n",
       "}\n",
       "\n",
       "#sk-container-id-1 pre {\n",
       "  padding: 0;\n",
       "}\n",
       "\n",
       "#sk-container-id-1 input.sk-hidden--visually {\n",
       "  border: 0;\n",
       "  clip: rect(1px 1px 1px 1px);\n",
       "  clip: rect(1px, 1px, 1px, 1px);\n",
       "  height: 1px;\n",
       "  margin: -1px;\n",
       "  overflow: hidden;\n",
       "  padding: 0;\n",
       "  position: absolute;\n",
       "  width: 1px;\n",
       "}\n",
       "\n",
       "#sk-container-id-1 div.sk-dashed-wrapped {\n",
       "  border: 1px dashed var(--sklearn-color-line);\n",
       "  margin: 0 0.4em 0.5em 0.4em;\n",
       "  box-sizing: border-box;\n",
       "  padding-bottom: 0.4em;\n",
       "  background-color: var(--sklearn-color-background);\n",
       "}\n",
       "\n",
       "#sk-container-id-1 div.sk-container {\n",
       "  /* jupyter's `normalize.less` sets `[hidden] { display: none; }`\n",
       "     but bootstrap.min.css set `[hidden] { display: none !important; }`\n",
       "     so we also need the `!important` here to be able to override the\n",
       "     default hidden behavior on the sphinx rendered scikit-learn.org.\n",
       "     See: https://github.com/scikit-learn/scikit-learn/issues/21755 */\n",
       "  display: inline-block !important;\n",
       "  position: relative;\n",
       "}\n",
       "\n",
       "#sk-container-id-1 div.sk-text-repr-fallback {\n",
       "  display: none;\n",
       "}\n",
       "\n",
       "div.sk-parallel-item,\n",
       "div.sk-serial,\n",
       "div.sk-item {\n",
       "  /* draw centered vertical line to link estimators */\n",
       "  background-image: linear-gradient(var(--sklearn-color-text-on-default-background), var(--sklearn-color-text-on-default-background));\n",
       "  background-size: 2px 100%;\n",
       "  background-repeat: no-repeat;\n",
       "  background-position: center center;\n",
       "}\n",
       "\n",
       "/* Parallel-specific style estimator block */\n",
       "\n",
       "#sk-container-id-1 div.sk-parallel-item::after {\n",
       "  content: \"\";\n",
       "  width: 100%;\n",
       "  border-bottom: 2px solid var(--sklearn-color-text-on-default-background);\n",
       "  flex-grow: 1;\n",
       "}\n",
       "\n",
       "#sk-container-id-1 div.sk-parallel {\n",
       "  display: flex;\n",
       "  align-items: stretch;\n",
       "  justify-content: center;\n",
       "  background-color: var(--sklearn-color-background);\n",
       "  position: relative;\n",
       "}\n",
       "\n",
       "#sk-container-id-1 div.sk-parallel-item {\n",
       "  display: flex;\n",
       "  flex-direction: column;\n",
       "}\n",
       "\n",
       "#sk-container-id-1 div.sk-parallel-item:first-child::after {\n",
       "  align-self: flex-end;\n",
       "  width: 50%;\n",
       "}\n",
       "\n",
       "#sk-container-id-1 div.sk-parallel-item:last-child::after {\n",
       "  align-self: flex-start;\n",
       "  width: 50%;\n",
       "}\n",
       "\n",
       "#sk-container-id-1 div.sk-parallel-item:only-child::after {\n",
       "  width: 0;\n",
       "}\n",
       "\n",
       "/* Serial-specific style estimator block */\n",
       "\n",
       "#sk-container-id-1 div.sk-serial {\n",
       "  display: flex;\n",
       "  flex-direction: column;\n",
       "  align-items: center;\n",
       "  background-color: var(--sklearn-color-background);\n",
       "  padding-right: 1em;\n",
       "  padding-left: 1em;\n",
       "}\n",
       "\n",
       "\n",
       "/* Toggleable style: style used for estimator/Pipeline/ColumnTransformer box that is\n",
       "clickable and can be expanded/collapsed.\n",
       "- Pipeline and ColumnTransformer use this feature and define the default style\n",
       "- Estimators will overwrite some part of the style using the `sk-estimator` class\n",
       "*/\n",
       "\n",
       "/* Pipeline and ColumnTransformer style (default) */\n",
       "\n",
       "#sk-container-id-1 div.sk-toggleable {\n",
       "  /* Default theme specific background. It is overwritten whether we have a\n",
       "  specific estimator or a Pipeline/ColumnTransformer */\n",
       "  background-color: var(--sklearn-color-background);\n",
       "}\n",
       "\n",
       "/* Toggleable label */\n",
       "#sk-container-id-1 label.sk-toggleable__label {\n",
       "  cursor: pointer;\n",
       "  display: block;\n",
       "  width: 100%;\n",
       "  margin-bottom: 0;\n",
       "  padding: 0.5em;\n",
       "  box-sizing: border-box;\n",
       "  text-align: center;\n",
       "}\n",
       "\n",
       "#sk-container-id-1 label.sk-toggleable__label-arrow:before {\n",
       "  /* Arrow on the left of the label */\n",
       "  content: \"▸\";\n",
       "  float: left;\n",
       "  margin-right: 0.25em;\n",
       "  color: var(--sklearn-color-icon);\n",
       "}\n",
       "\n",
       "#sk-container-id-1 label.sk-toggleable__label-arrow:hover:before {\n",
       "  color: var(--sklearn-color-text);\n",
       "}\n",
       "\n",
       "/* Toggleable content - dropdown */\n",
       "\n",
       "#sk-container-id-1 div.sk-toggleable__content {\n",
       "  max-height: 0;\n",
       "  max-width: 0;\n",
       "  overflow: hidden;\n",
       "  text-align: left;\n",
       "  /* unfitted */\n",
       "  background-color: var(--sklearn-color-unfitted-level-0);\n",
       "}\n",
       "\n",
       "#sk-container-id-1 div.sk-toggleable__content.fitted {\n",
       "  /* fitted */\n",
       "  background-color: var(--sklearn-color-fitted-level-0);\n",
       "}\n",
       "\n",
       "#sk-container-id-1 div.sk-toggleable__content pre {\n",
       "  margin: 0.2em;\n",
       "  border-radius: 0.25em;\n",
       "  color: var(--sklearn-color-text);\n",
       "  /* unfitted */\n",
       "  background-color: var(--sklearn-color-unfitted-level-0);\n",
       "}\n",
       "\n",
       "#sk-container-id-1 div.sk-toggleable__content.fitted pre {\n",
       "  /* unfitted */\n",
       "  background-color: var(--sklearn-color-fitted-level-0);\n",
       "}\n",
       "\n",
       "#sk-container-id-1 input.sk-toggleable__control:checked~div.sk-toggleable__content {\n",
       "  /* Expand drop-down */\n",
       "  max-height: 200px;\n",
       "  max-width: 100%;\n",
       "  overflow: auto;\n",
       "}\n",
       "\n",
       "#sk-container-id-1 input.sk-toggleable__control:checked~label.sk-toggleable__label-arrow:before {\n",
       "  content: \"▾\";\n",
       "}\n",
       "\n",
       "/* Pipeline/ColumnTransformer-specific style */\n",
       "\n",
       "#sk-container-id-1 div.sk-label input.sk-toggleable__control:checked~label.sk-toggleable__label {\n",
       "  color: var(--sklearn-color-text);\n",
       "  background-color: var(--sklearn-color-unfitted-level-2);\n",
       "}\n",
       "\n",
       "#sk-container-id-1 div.sk-label.fitted input.sk-toggleable__control:checked~label.sk-toggleable__label {\n",
       "  background-color: var(--sklearn-color-fitted-level-2);\n",
       "}\n",
       "\n",
       "/* Estimator-specific style */\n",
       "\n",
       "/* Colorize estimator box */\n",
       "#sk-container-id-1 div.sk-estimator input.sk-toggleable__control:checked~label.sk-toggleable__label {\n",
       "  /* unfitted */\n",
       "  background-color: var(--sklearn-color-unfitted-level-2);\n",
       "}\n",
       "\n",
       "#sk-container-id-1 div.sk-estimator.fitted input.sk-toggleable__control:checked~label.sk-toggleable__label {\n",
       "  /* fitted */\n",
       "  background-color: var(--sklearn-color-fitted-level-2);\n",
       "}\n",
       "\n",
       "#sk-container-id-1 div.sk-label label.sk-toggleable__label,\n",
       "#sk-container-id-1 div.sk-label label {\n",
       "  /* The background is the default theme color */\n",
       "  color: var(--sklearn-color-text-on-default-background);\n",
       "}\n",
       "\n",
       "/* On hover, darken the color of the background */\n",
       "#sk-container-id-1 div.sk-label:hover label.sk-toggleable__label {\n",
       "  color: var(--sklearn-color-text);\n",
       "  background-color: var(--sklearn-color-unfitted-level-2);\n",
       "}\n",
       "\n",
       "/* Label box, darken color on hover, fitted */\n",
       "#sk-container-id-1 div.sk-label.fitted:hover label.sk-toggleable__label.fitted {\n",
       "  color: var(--sklearn-color-text);\n",
       "  background-color: var(--sklearn-color-fitted-level-2);\n",
       "}\n",
       "\n",
       "/* Estimator label */\n",
       "\n",
       "#sk-container-id-1 div.sk-label label {\n",
       "  font-family: monospace;\n",
       "  font-weight: bold;\n",
       "  display: inline-block;\n",
       "  line-height: 1.2em;\n",
       "}\n",
       "\n",
       "#sk-container-id-1 div.sk-label-container {\n",
       "  text-align: center;\n",
       "}\n",
       "\n",
       "/* Estimator-specific */\n",
       "#sk-container-id-1 div.sk-estimator {\n",
       "  font-family: monospace;\n",
       "  border: 1px dotted var(--sklearn-color-border-box);\n",
       "  border-radius: 0.25em;\n",
       "  box-sizing: border-box;\n",
       "  margin-bottom: 0.5em;\n",
       "  /* unfitted */\n",
       "  background-color: var(--sklearn-color-unfitted-level-0);\n",
       "}\n",
       "\n",
       "#sk-container-id-1 div.sk-estimator.fitted {\n",
       "  /* fitted */\n",
       "  background-color: var(--sklearn-color-fitted-level-0);\n",
       "}\n",
       "\n",
       "/* on hover */\n",
       "#sk-container-id-1 div.sk-estimator:hover {\n",
       "  /* unfitted */\n",
       "  background-color: var(--sklearn-color-unfitted-level-2);\n",
       "}\n",
       "\n",
       "#sk-container-id-1 div.sk-estimator.fitted:hover {\n",
       "  /* fitted */\n",
       "  background-color: var(--sklearn-color-fitted-level-2);\n",
       "}\n",
       "\n",
       "/* Specification for estimator info (e.g. \"i\" and \"?\") */\n",
       "\n",
       "/* Common style for \"i\" and \"?\" */\n",
       "\n",
       ".sk-estimator-doc-link,\n",
       "a:link.sk-estimator-doc-link,\n",
       "a:visited.sk-estimator-doc-link {\n",
       "  float: right;\n",
       "  font-size: smaller;\n",
       "  line-height: 1em;\n",
       "  font-family: monospace;\n",
       "  background-color: var(--sklearn-color-background);\n",
       "  border-radius: 1em;\n",
       "  height: 1em;\n",
       "  width: 1em;\n",
       "  text-decoration: none !important;\n",
       "  margin-left: 1ex;\n",
       "  /* unfitted */\n",
       "  border: var(--sklearn-color-unfitted-level-1) 1pt solid;\n",
       "  color: var(--sklearn-color-unfitted-level-1);\n",
       "}\n",
       "\n",
       ".sk-estimator-doc-link.fitted,\n",
       "a:link.sk-estimator-doc-link.fitted,\n",
       "a:visited.sk-estimator-doc-link.fitted {\n",
       "  /* fitted */\n",
       "  border: var(--sklearn-color-fitted-level-1) 1pt solid;\n",
       "  color: var(--sklearn-color-fitted-level-1);\n",
       "}\n",
       "\n",
       "/* On hover */\n",
       "div.sk-estimator:hover .sk-estimator-doc-link:hover,\n",
       ".sk-estimator-doc-link:hover,\n",
       "div.sk-label-container:hover .sk-estimator-doc-link:hover,\n",
       ".sk-estimator-doc-link:hover {\n",
       "  /* unfitted */\n",
       "  background-color: var(--sklearn-color-unfitted-level-3);\n",
       "  color: var(--sklearn-color-background);\n",
       "  text-decoration: none;\n",
       "}\n",
       "\n",
       "div.sk-estimator.fitted:hover .sk-estimator-doc-link.fitted:hover,\n",
       ".sk-estimator-doc-link.fitted:hover,\n",
       "div.sk-label-container:hover .sk-estimator-doc-link.fitted:hover,\n",
       ".sk-estimator-doc-link.fitted:hover {\n",
       "  /* fitted */\n",
       "  background-color: var(--sklearn-color-fitted-level-3);\n",
       "  color: var(--sklearn-color-background);\n",
       "  text-decoration: none;\n",
       "}\n",
       "\n",
       "/* Span, style for the box shown on hovering the info icon */\n",
       ".sk-estimator-doc-link span {\n",
       "  display: none;\n",
       "  z-index: 9999;\n",
       "  position: relative;\n",
       "  font-weight: normal;\n",
       "  right: .2ex;\n",
       "  padding: .5ex;\n",
       "  margin: .5ex;\n",
       "  width: min-content;\n",
       "  min-width: 20ex;\n",
       "  max-width: 50ex;\n",
       "  color: var(--sklearn-color-text);\n",
       "  box-shadow: 2pt 2pt 4pt #999;\n",
       "  /* unfitted */\n",
       "  background: var(--sklearn-color-unfitted-level-0);\n",
       "  border: .5pt solid var(--sklearn-color-unfitted-level-3);\n",
       "}\n",
       "\n",
       ".sk-estimator-doc-link.fitted span {\n",
       "  /* fitted */\n",
       "  background: var(--sklearn-color-fitted-level-0);\n",
       "  border: var(--sklearn-color-fitted-level-3);\n",
       "}\n",
       "\n",
       ".sk-estimator-doc-link:hover span {\n",
       "  display: block;\n",
       "}\n",
       "\n",
       "/* \"?\"-specific style due to the `<a>` HTML tag */\n",
       "\n",
       "#sk-container-id-1 a.estimator_doc_link {\n",
       "  float: right;\n",
       "  font-size: 1rem;\n",
       "  line-height: 1em;\n",
       "  font-family: monospace;\n",
       "  background-color: var(--sklearn-color-background);\n",
       "  border-radius: 1rem;\n",
       "  height: 1rem;\n",
       "  width: 1rem;\n",
       "  text-decoration: none;\n",
       "  /* unfitted */\n",
       "  color: var(--sklearn-color-unfitted-level-1);\n",
       "  border: var(--sklearn-color-unfitted-level-1) 1pt solid;\n",
       "}\n",
       "\n",
       "#sk-container-id-1 a.estimator_doc_link.fitted {\n",
       "  /* fitted */\n",
       "  border: var(--sklearn-color-fitted-level-1) 1pt solid;\n",
       "  color: var(--sklearn-color-fitted-level-1);\n",
       "}\n",
       "\n",
       "/* On hover */\n",
       "#sk-container-id-1 a.estimator_doc_link:hover {\n",
       "  /* unfitted */\n",
       "  background-color: var(--sklearn-color-unfitted-level-3);\n",
       "  color: var(--sklearn-color-background);\n",
       "  text-decoration: none;\n",
       "}\n",
       "\n",
       "#sk-container-id-1 a.estimator_doc_link.fitted:hover {\n",
       "  /* fitted */\n",
       "  background-color: var(--sklearn-color-fitted-level-3);\n",
       "}\n",
       "</style><div id=\"sk-container-id-1\" class=\"sk-top-container\"><div class=\"sk-text-repr-fallback\"><pre>LatentDirichletAllocation(learning_method=&#x27;online&#x27;, learning_offset=50.0,\n",
       "                          max_iter=5, n_components=20, random_state=0)</pre><b>In a Jupyter environment, please rerun this cell to show the HTML representation or trust the notebook. <br />On GitHub, the HTML representation is unable to render, please try loading this page with nbviewer.org.</b></div><div class=\"sk-container\" hidden><div class=\"sk-item\"><div class=\"sk-estimator fitted sk-toggleable\"><input class=\"sk-toggleable__control sk-hidden--visually\" id=\"sk-estimator-id-1\" type=\"checkbox\" checked><label for=\"sk-estimator-id-1\" class=\"sk-toggleable__label fitted sk-toggleable__label-arrow fitted\">&nbsp;&nbsp;LatentDirichletAllocation<a class=\"sk-estimator-doc-link fitted\" rel=\"noreferrer\" target=\"_blank\" href=\"https://scikit-learn.org/1.4/modules/generated/sklearn.decomposition.LatentDirichletAllocation.html\">?<span>Documentation for LatentDirichletAllocation</span></a><span class=\"sk-estimator-doc-link fitted\">i<span>Fitted</span></span></label><div class=\"sk-toggleable__content fitted\"><pre>LatentDirichletAllocation(learning_method=&#x27;online&#x27;, learning_offset=50.0,\n",
       "                          max_iter=5, n_components=20, random_state=0)</pre></div> </div></div></div></div>"
      ],
      "text/plain": [
       "LatentDirichletAllocation(learning_method='online', learning_offset=50.0,\n",
       "                          max_iter=5, n_components=20, random_state=0)"
      ]
     },
     "execution_count": 16,
     "metadata": {},
     "output_type": "execute_result"
    }
   ],
   "source": [
    "lda.fit(cv_transformed)"
   ]
  },
  {
   "cell_type": "markdown",
   "metadata": {},
   "source": [
    "Affichage des topics"
   ]
  },
  {
   "cell_type": "code",
   "execution_count": null,
   "metadata": {},
   "outputs": [
    {
     "data": {
      "text/plain": [
       "['model json object field property custom django entity attribute class',\n",
       " 'windows python command running tried get install version following installed',\n",
       " 'array data values python list get output column dataframe value',\n",
       " 'apache remote disable camera profile ssh disabled forms xamarin device',\n",
       " 'test tests thread testing unit event task call method async',\n",
       " 'type query key string sql convert name plot format following',\n",
       " 'data would way want need know one get new help',\n",
       " 'view problem swift update screen also see change works one',\n",
       " 'question would one memory different difference used two also seems',\n",
       " 'table database node view laravel date spark controller npm child',\n",
       " 'android project studio build visual version app gradle device sdk',\n",
       " 'app ios xcode react native color rails background apps facebook',\n",
       " 'function method class object type return call value following variable',\n",
       " 'time firebase number stream seconds takes times process slow audio',\n",
       " '.net framework core set layout item xml c# items list',\n",
       " 'spring java application exception boot database class filter mysql configuration',\n",
       " 'mode repository git github job bootstrap queue branch repo jenkins',\n",
       " 'server api user request http client web service application app',\n",
       " 'image page quot button html chrome text video images click',\n",
       " 'project module library angular import get tried folder application trying']"
      ]
     },
     "execution_count": 17,
     "metadata": {},
     "output_type": "execute_result"
    }
   ],
   "source": [
    "n_top_words = 10\n",
    "topics = get_lda_topics(lda, cv_names, n_top_words)\n",
    "topics"
   ]
  },
  {
   "cell_type": "markdown",
   "metadata": {},
   "source": [
    "Exemple sur un document du corpus (biaisé car dans l'entraînement : pour exemple et comparaison des tags seulement)"
   ]
  },
  {
   "cell_type": "code",
   "execution_count": null,
   "metadata": {},
   "outputs": [],
   "source": [
    "n_predictions = 5\n",
    "doc_index = 13371\n",
    "doc = corpus[doc_index]"
   ]
  },
  {
   "cell_type": "code",
   "execution_count": null,
   "metadata": {},
   "outputs": [
    {
     "name": "stdout",
     "output_type": "stream",
     "text": [
      "🔹 Original document:\n",
      "    django sessions working expected heroku users keep getting logged sessions persisting django app heroku users log randomly logged out—even site anything wrong django heroku config currently running django standard dynos settings.py\n",
      "\n",
      "🔹 Token count:\n",
      "    {'django': 4, 'heroku': 3, 'logged': 2, 'users': 2, 'sessions': 2}\n",
      "\n"
     ]
    }
   ],
   "source": [
    "doc_cv = cv_fitted.transform([doc])\n",
    "doc_tokens_count = results_from_vec_matrix(count_vectorizer, doc_cv, n_predictions)\n",
    "\n",
    "print(f\"🔹 Original document:\\n    {doc}\\n\")\n",
    "print(f\"🔹 Token count:\\n    {doc_tokens_count}\\n\")"
   ]
  },
  {
   "cell_type": "code",
   "execution_count": null,
   "metadata": {},
   "outputs": [
    {
     "name": "stdout",
     "output_type": "stream",
     "text": [
      "🔹 Top 5 topics:\n",
      "    Topic 17 (weight 0.3786462815115825):\n",
      "        server api user request http client web service application app\n",
      "    Topic 19 (weight 0.333126503477579):\n",
      "        project module library angular import get tried folder application trying\n",
      "    Topic 0 (weight 0.1588245321386544):\n",
      "        model json object field property custom django entity attribute class\n",
      "    Topic 6 (weight 0.05851810512542113):\n",
      "        data would way want need know one get new help\n",
      "    Topic 13 (weight 0.045884577427807244):\n",
      "        time firebase number stream seconds takes times process slow audio\n"
     ]
    }
   ],
   "source": [
    "# predict topics\n",
    "topic_preds = lda.transform(doc_cv)[0]\n",
    "# sort predictions by descending order\n",
    "n_top_topics = 5\n",
    "top_topics = topic_preds.argsort()[:-n_top_topics-1 :-1]\n",
    "print(f\"🔹 Top {n_top_topics} topics:\")\n",
    "for topic in top_topics:\n",
    "    print(f\"    Topic {topic} (weight {topic_preds[topic]}):\\n        {topics[topic]}\")"
   ]
  },
  {
   "cell_type": "markdown",
   "metadata": {},
   "source": [
    "# 🚧 gensim LDA ?"
   ]
  },
  {
   "cell_type": "markdown",
   "metadata": {},
   "source": [
    "# 🚧 calcul matriciel pour predictions avec LDA"
   ]
  },
  {
   "cell_type": "markdown",
   "metadata": {},
   "source": [
    "# 🚧 NMF"
   ]
  },
  {
   "cell_type": "markdown",
   "metadata": {},
   "source": [
    "# <a id='toc7_'></a>[🚧 vrac utile](#toc0_)"
   ]
  },
  {
   "cell_type": "code",
   "execution_count": null,
   "metadata": {},
   "outputs": [
    {
     "data": {
      "text/html": [
       "<div>\n",
       "<style scoped>\n",
       "    .dataframe tbody tr th:only-of-type {\n",
       "        vertical-align: middle;\n",
       "    }\n",
       "\n",
       "    .dataframe tbody tr th {\n",
       "        vertical-align: top;\n",
       "    }\n",
       "\n",
       "    .dataframe thead th {\n",
       "        text-align: right;\n",
       "    }\n",
       "</style>\n",
       "<table border=\"1\" class=\"dataframe\">\n",
       "  <thead>\n",
       "    <tr style=\"text-align: right;\">\n",
       "      <th></th>\n",
       "      <th>token</th>\n",
       "      <th>count_corpus</th>\n",
       "      <th>freq_corpus</th>\n",
       "      <th>count_tags</th>\n",
       "      <th>freq_tags</th>\n",
       "      <th>count_title</th>\n",
       "      <th>freq_title</th>\n",
       "      <th>count_body</th>\n",
       "      <th>freq_body</th>\n",
       "    </tr>\n",
       "  </thead>\n",
       "  <tbody>\n",
       "    <tr>\n",
       "      <th>6471</th>\n",
       "      <td>android</td>\n",
       "      <td>7848</td>\n",
       "      <td>0.002476</td>\n",
       "      <td>4762</td>\n",
       "      <td>0.019051</td>\n",
       "      <td>2038</td>\n",
       "      <td>0.006975</td>\n",
       "      <td>5810</td>\n",
       "      <td>0.002019</td>\n",
       "    </tr>\n",
       "    <tr>\n",
       "      <th>76811</th>\n",
       "      <td>python</td>\n",
       "      <td>7636</td>\n",
       "      <td>0.002409</td>\n",
       "      <td>7301</td>\n",
       "      <td>0.029209</td>\n",
       "      <td>1916</td>\n",
       "      <td>0.006557</td>\n",
       "      <td>5720</td>\n",
       "      <td>0.001988</td>\n",
       "    </tr>\n",
       "    <tr>\n",
       "      <th>7807</th>\n",
       "      <td>app</td>\n",
       "      <td>15812</td>\n",
       "      <td>0.004988</td>\n",
       "      <td>0</td>\n",
       "      <td>0.000000</td>\n",
       "      <td>1423</td>\n",
       "      <td>0.004870</td>\n",
       "      <td>14389</td>\n",
       "      <td>0.005000</td>\n",
       "    </tr>\n",
       "    <tr>\n",
       "      <th>90332</th>\n",
       "      <td>spring</td>\n",
       "      <td>4756</td>\n",
       "      <td>0.001500</td>\n",
       "      <td>1579</td>\n",
       "      <td>0.006317</td>\n",
       "      <td>1377</td>\n",
       "      <td>0.004712</td>\n",
       "      <td>3379</td>\n",
       "      <td>0.001174</td>\n",
       "    </tr>\n",
       "    <tr>\n",
       "      <th>39069</th>\n",
       "      <td>get</td>\n",
       "      <td>21012</td>\n",
       "      <td>0.006628</td>\n",
       "      <td>34</td>\n",
       "      <td>0.000136</td>\n",
       "      <td>1323</td>\n",
       "      <td>0.004528</td>\n",
       "      <td>19689</td>\n",
       "      <td>0.006842</td>\n",
       "    </tr>\n",
       "    <tr>\n",
       "      <th>...</th>\n",
       "      <td>...</td>\n",
       "      <td>...</td>\n",
       "      <td>...</td>\n",
       "      <td>...</td>\n",
       "      <td>...</td>\n",
       "      <td>...</td>\n",
       "      <td>...</td>\n",
       "      <td>...</td>\n",
       "      <td>...</td>\n",
       "    </tr>\n",
       "    <tr>\n",
       "      <th>30037</th>\n",
       "      <td>dropout</td>\n",
       "      <td>77</td>\n",
       "      <td>0.000024</td>\n",
       "      <td>3</td>\n",
       "      <td>0.000012</td>\n",
       "      <td>11</td>\n",
       "      <td>0.000038</td>\n",
       "      <td>66</td>\n",
       "      <td>0.000023</td>\n",
       "    </tr>\n",
       "    <tr>\n",
       "      <th>75194</th>\n",
       "      <td>producing</td>\n",
       "      <td>121</td>\n",
       "      <td>0.000038</td>\n",
       "      <td>0</td>\n",
       "      <td>0.000000</td>\n",
       "      <td>11</td>\n",
       "      <td>0.000038</td>\n",
       "      <td>110</td>\n",
       "      <td>0.000038</td>\n",
       "    </tr>\n",
       "    <tr>\n",
       "      <th>95187</th>\n",
       "      <td>tablet</td>\n",
       "      <td>86</td>\n",
       "      <td>0.000027</td>\n",
       "      <td>8</td>\n",
       "      <td>0.000032</td>\n",
       "      <td>11</td>\n",
       "      <td>0.000038</td>\n",
       "      <td>75</td>\n",
       "      <td>0.000026</td>\n",
       "    </tr>\n",
       "    <tr>\n",
       "      <th>40107</th>\n",
       "      <td>glue</td>\n",
       "      <td>55</td>\n",
       "      <td>0.000017</td>\n",
       "      <td>0</td>\n",
       "      <td>0.000000</td>\n",
       "      <td>11</td>\n",
       "      <td>0.000038</td>\n",
       "      <td>44</td>\n",
       "      <td>0.000015</td>\n",
       "    </tr>\n",
       "    <tr>\n",
       "      <th>27206</th>\n",
       "      <td>detail</td>\n",
       "      <td>366</td>\n",
       "      <td>0.000115</td>\n",
       "      <td>0</td>\n",
       "      <td>0.000000</td>\n",
       "      <td>11</td>\n",
       "      <td>0.000038</td>\n",
       "      <td>355</td>\n",
       "      <td>0.000123</td>\n",
       "    </tr>\n",
       "  </tbody>\n",
       "</table>\n",
       "<p>3432 rows × 9 columns</p>\n",
       "</div>"
      ],
      "text/plain": [
       "           token  count_corpus  freq_corpus  count_tags  freq_tags  \\\n",
       "6471     android          7848     0.002476        4762   0.019051   \n",
       "76811     python          7636     0.002409        7301   0.029209   \n",
       "7807         app         15812     0.004988           0   0.000000   \n",
       "90332     spring          4756     0.001500        1579   0.006317   \n",
       "39069        get         21012     0.006628          34   0.000136   \n",
       "...          ...           ...          ...         ...        ...   \n",
       "30037    dropout            77     0.000024           3   0.000012   \n",
       "75194  producing           121     0.000038           0   0.000000   \n",
       "95187     tablet            86     0.000027           8   0.000032   \n",
       "40107       glue            55     0.000017           0   0.000000   \n",
       "27206     detail           366     0.000115           0   0.000000   \n",
       "\n",
       "       count_title  freq_title  count_body  freq_body  \n",
       "6471          2038    0.006975        5810   0.002019  \n",
       "76811         1916    0.006557        5720   0.001988  \n",
       "7807          1423    0.004870       14389   0.005000  \n",
       "90332         1377    0.004712        3379   0.001174  \n",
       "39069         1323    0.004528       19689   0.006842  \n",
       "...            ...         ...         ...        ...  \n",
       "30037           11    0.000038          66   0.000023  \n",
       "75194           11    0.000038         110   0.000038  \n",
       "95187           11    0.000038          75   0.000026  \n",
       "40107           11    0.000038          44   0.000015  \n",
       "27206           11    0.000038         355   0.000123  \n",
       "\n",
       "[3432 rows x 9 columns]"
      ]
     },
     "execution_count": 21,
     "metadata": {},
     "output_type": "execute_result"
    }
   ],
   "source": [
    "stats_df.loc[stats_df.count_title > 10].sort_values(by=\"count_title\", ascending=False)"
   ]
  }
 ],
 "metadata": {
  "kernelspec": {
   "display_name": "Python 3 (ipykernel)",
   "language": "python",
   "name": "python3"
  },
  "language_info": {
   "codemirror_mode": {
    "name": "ipython",
    "version": 3
   },
   "file_extension": ".py",
   "mimetype": "text/x-python",
   "name": "python",
   "nbconvert_exporter": "python",
   "pygments_lexer": "ipython3",
   "version": "3.11.8"
  }
 },
 "nbformat": 4,
 "nbformat_minor": 2
}
