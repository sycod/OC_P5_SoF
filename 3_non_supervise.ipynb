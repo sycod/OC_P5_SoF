{
 "cells": [
  {
   "cell_type": "markdown",
   "metadata": {},
   "source": [
    "**Table of contents**<a id='toc0_'></a>    \n",
    "- [Mise en place](#toc1_)    \n",
    "  - [Chargement des données](#toc1_1_)    \n",
    "  - [Préparation des données](#toc1_2_)    \n",
    "- [Approches Bag-of-words](#toc2_)    \n",
    "  - [TF-IDF](#toc2_1_)    \n",
    "- [🦄🦄 CHECKPOINT 🦄🦄](#toc3_)    \n",
    "- [CountVectorizer](#toc4_)    \n",
    "- [LDA](#toc5_)    \n",
    "- [🚧 gensim LDA ?](#toc6_)    \n",
    "- [🚧 calcul matriciel pour predictions avec LDA](#toc7_)    \n",
    "- [🚧 NMF](#toc8_)    \n",
    "- [🚧 vrac utile](#toc9_)    \n",
    "\n",
    "<!-- vscode-jupyter-toc-config\n",
    "\tnumbering=false\n",
    "\tanchor=true\n",
    "\tflat=false\n",
    "\tminLevel=1\n",
    "\tmaxLevel=2\n",
    "\t/vscode-jupyter-toc-config -->\n",
    "<!-- THIS CELL WILL BE REPLACED ON TOC UPDATE. DO NOT WRITE YOUR TEXT IN THIS CELL -->"
   ]
  },
  {
   "cell_type": "markdown",
   "metadata": {},
   "source": [
    "# <a id='toc1_'></a>[Mise en place](#toc0_)"
   ]
  },
  {
   "cell_type": "code",
   "execution_count": 1,
   "metadata": {},
   "outputs": [],
   "source": [
    "# OS & env\n",
    "import os\n",
    "import logging\n",
    "import time\n",
    "\n",
    "# DS\n",
    "import numpy as np\n",
    "import pandas as pd\n",
    "import dill as pickle\n",
    "import matplotlib.pyplot as plt\n",
    "from matplotlib import colors\n",
    "\n",
    "# ML\n",
    "from sklearn.feature_extraction.text import TfidfVectorizer\n",
    "from sklearn.feature_extraction.text import CountVectorizer\n",
    "from sklearn.model_selection import train_test_split\n",
    "from sklearn.metrics import adjusted_rand_score\n",
    "from sklearn.cluster import KMeans\n",
    "from sklearn.manifold import TSNE\n",
    "from sklearn.decomposition import LatentDirichletAllocation\n",
    "from Levenshtein import ratio\n",
    "\n",
    "# home made functions from the src folder\n",
    "from src.scrap_and_clean import words_filter\n",
    "from src.models import results_from_vec_matrix\n",
    "from src.models import get_5_tags_from_matrix\n",
    "from src.models import score_reduce\n",
    "from src.models import get_lda_topics\n",
    "\n",
    "# logging configuration (see all outputs, even DEBUG or INFO)\n",
    "logger = logging.getLogger()\n",
    "logger.setLevel(logging.DEBUG)"
   ]
  },
  {
   "cell_type": "markdown",
   "metadata": {},
   "source": [
    "## <a id='toc1_1_'></a>[Chargement des données](#toc0_)"
   ]
  },
  {
   "cell_type": "markdown",
   "metadata": {},
   "source": [
    "### 🚧 Si pas de données pré-traitées, faire pré-traitement au lieu de message \"run EDA NB\""
   ]
  },
  {
   "cell_type": "code",
   "execution_count": 2,
   "metadata": {},
   "outputs": [],
   "source": [
    "if not os.path.exists(\"data/data_preprocessed.pkl\"):\n",
    "    logging.warning(\"Missing data: run EDA notebook first\")\n",
    "else:\n",
    "    with open(\"data/data_preprocessed.pkl\", \"rb\") as df:\n",
    "        df = pickle.load(df)"
   ]
  },
  {
   "cell_type": "code",
   "execution_count": 3,
   "metadata": {},
   "outputs": [
    {
     "name": "stdout",
     "output_type": "stream",
     "text": [
      "DF shape: (50000, 10)\n"
     ]
    },
    {
     "data": {
      "text/html": [
       "<div>\n",
       "<style scoped>\n",
       "    .dataframe tbody tr th:only-of-type {\n",
       "        vertical-align: middle;\n",
       "    }\n",
       "\n",
       "    .dataframe tbody tr th {\n",
       "        vertical-align: top;\n",
       "    }\n",
       "\n",
       "    .dataframe thead th {\n",
       "        text-align: right;\n",
       "    }\n",
       "</style>\n",
       "<table border=\"1\" class=\"dataframe\">\n",
       "  <thead>\n",
       "    <tr style=\"text-align: right;\">\n",
       "      <th></th>\n",
       "      <th>Title</th>\n",
       "      <th>Body</th>\n",
       "      <th>Tags</th>\n",
       "      <th>Score</th>\n",
       "      <th>AnswerCount</th>\n",
       "      <th>CreationDate</th>\n",
       "      <th>ViewCount</th>\n",
       "      <th>title_bow</th>\n",
       "      <th>body_bow</th>\n",
       "      <th>doc_bow</th>\n",
       "    </tr>\n",
       "  </thead>\n",
       "  <tbody>\n",
       "    <tr>\n",
       "      <th>0</th>\n",
       "      <td>ITMS-91053: Missing API declaration - Privacy</td>\n",
       "      <td>&lt;p&gt;Why am I all of a suddent getting this on s...</td>\n",
       "      <td>[ios, app-store, plist, appstore-approval, pri...</td>\n",
       "      <td>24</td>\n",
       "      <td>7</td>\n",
       "      <td>2024-03-14 22:55:18</td>\n",
       "      <td>3092</td>\n",
       "      <td>itms-91053 missing api declaration privacy</td>\n",
       "      <td>suddent getting successful builds apple</td>\n",
       "      <td>itms-91053 missing api declaration privacy sud...</td>\n",
       "    </tr>\n",
       "    <tr>\n",
       "      <th>1</th>\n",
       "      <td>Why is builtin sorted() slower for a list cont...</td>\n",
       "      <td>&lt;p&gt;I sorted four similar lists. List &lt;code&gt;d&lt;/...</td>\n",
       "      <td>[python, algorithm, performance, sorting, time...</td>\n",
       "      <td>28</td>\n",
       "      <td>2</td>\n",
       "      <td>2024-03-05 15:21:50</td>\n",
       "      <td>2699</td>\n",
       "      <td>builtin sorted slower list containing descendi...</td>\n",
       "      <td>sorted four similar lists list consistently ta...</td>\n",
       "      <td>builtin sorted slower list containing descendi...</td>\n",
       "    </tr>\n",
       "    <tr>\n",
       "      <th>2</th>\n",
       "      <td>std::shared_mutex::unlock_shared() blocks even...</td>\n",
       "      <td>&lt;p&gt;My team has encountered a deadlock that I s...</td>\n",
       "      <td>[c++, windows, multithreading, stl, shared-lock]</td>\n",
       "      <td>26</td>\n",
       "      <td>5</td>\n",
       "      <td>2024-03-01 23:09:59</td>\n",
       "      <td>1388</td>\n",
       "      <td>std :shared_mutex :unlock_shared blocks even t...</td>\n",
       "      <td>team encountered deadlock suspect bug windows ...</td>\n",
       "      <td>std :shared_mutex :unlock_shared blocks even t...</td>\n",
       "    </tr>\n",
       "    <tr>\n",
       "      <th>3</th>\n",
       "      <td>Did the rules for nullptr init of unique_ptr c...</td>\n",
       "      <td>&lt;p&gt;This code compiles with MSVC from VS 2022 i...</td>\n",
       "      <td>[c++, visual-c++, language-lawyer, unique-ptr,...</td>\n",
       "      <td>15</td>\n",
       "      <td>1</td>\n",
       "      <td>2024-02-22 11:29:42</td>\n",
       "      <td>490</td>\n",
       "      <td>rules nullptr init unique_ptr change c++23</td>\n",
       "      <td>compiles msvc c++20 mode failes c++23 mode cur...</td>\n",
       "      <td>rules nullptr init unique_ptr change c++23 com...</td>\n",
       "    </tr>\n",
       "    <tr>\n",
       "      <th>4</th>\n",
       "      <td>Where is the order in which ELF relocations ar...</td>\n",
       "      <td>&lt;p&gt;Consider the following two files on a Linux...</td>\n",
       "      <td>[c++, elf, dynamic-linking, abi, relocation]</td>\n",
       "      <td>16</td>\n",
       "      <td>1</td>\n",
       "      <td>2024-02-19 21:42:03</td>\n",
       "      <td>1746</td>\n",
       "      <td>order elf relocations applied specified</td>\n",
       "      <td>consider following two linux system use_messag...</td>\n",
       "      <td>order elf relocations applied specified consid...</td>\n",
       "    </tr>\n",
       "  </tbody>\n",
       "</table>\n",
       "</div>"
      ],
      "text/plain": [
       "                                               Title  \\\n",
       "0      ITMS-91053: Missing API declaration - Privacy   \n",
       "1  Why is builtin sorted() slower for a list cont...   \n",
       "2  std::shared_mutex::unlock_shared() blocks even...   \n",
       "3  Did the rules for nullptr init of unique_ptr c...   \n",
       "4  Where is the order in which ELF relocations ar...   \n",
       "\n",
       "                                                Body  \\\n",
       "0  <p>Why am I all of a suddent getting this on s...   \n",
       "1  <p>I sorted four similar lists. List <code>d</...   \n",
       "2  <p>My team has encountered a deadlock that I s...   \n",
       "3  <p>This code compiles with MSVC from VS 2022 i...   \n",
       "4  <p>Consider the following two files on a Linux...   \n",
       "\n",
       "                                                Tags  Score  AnswerCount  \\\n",
       "0  [ios, app-store, plist, appstore-approval, pri...     24            7   \n",
       "1  [python, algorithm, performance, sorting, time...     28            2   \n",
       "2   [c++, windows, multithreading, stl, shared-lock]     26            5   \n",
       "3  [c++, visual-c++, language-lawyer, unique-ptr,...     15            1   \n",
       "4       [c++, elf, dynamic-linking, abi, relocation]     16            1   \n",
       "\n",
       "          CreationDate  ViewCount  \\\n",
       "0  2024-03-14 22:55:18       3092   \n",
       "1  2024-03-05 15:21:50       2699   \n",
       "2  2024-03-01 23:09:59       1388   \n",
       "3  2024-02-22 11:29:42        490   \n",
       "4  2024-02-19 21:42:03       1746   \n",
       "\n",
       "                                           title_bow  \\\n",
       "0         itms-91053 missing api declaration privacy   \n",
       "1  builtin sorted slower list containing descendi...   \n",
       "2  std :shared_mutex :unlock_shared blocks even t...   \n",
       "3         rules nullptr init unique_ptr change c++23   \n",
       "4            order elf relocations applied specified   \n",
       "\n",
       "                                            body_bow  \\\n",
       "0            suddent getting successful builds apple   \n",
       "1  sorted four similar lists list consistently ta...   \n",
       "2  team encountered deadlock suspect bug windows ...   \n",
       "3  compiles msvc c++20 mode failes c++23 mode cur...   \n",
       "4  consider following two linux system use_messag...   \n",
       "\n",
       "                                             doc_bow  \n",
       "0  itms-91053 missing api declaration privacy sud...  \n",
       "1  builtin sorted slower list containing descendi...  \n",
       "2  std :shared_mutex :unlock_shared blocks even t...  \n",
       "3  rules nullptr init unique_ptr change c++23 com...  \n",
       "4  order elf relocations applied specified consid...  "
      ]
     },
     "metadata": {},
     "output_type": "display_data"
    }
   ],
   "source": [
    "print(f\"DF shape: {df.shape}\")\n",
    "display(df.head())"
   ]
  },
  {
   "cell_type": "markdown",
   "metadata": {},
   "source": [
    "## <a id='toc1_2_'></a>[Préparation des données](#toc0_)"
   ]
  },
  {
   "cell_type": "markdown",
   "metadata": {},
   "source": [
    "Données communes"
   ]
  },
  {
   "cell_type": "code",
   "execution_count": 4,
   "metadata": {},
   "outputs": [],
   "source": [
    "tags = df[\"Tags\"].apply(lambda x: \" \".join(x)).to_list()\n",
    "titles = df[\"title_bow\"].to_list()\n",
    "bodies = df[\"body_bow\"].to_list()\n",
    "corpus = df[\"doc_bow\"].to_list()"
   ]
  },
  {
   "cell_type": "markdown",
   "metadata": {},
   "source": [
    "Séparation de 1000 documents pour les tests, le reste pour l'entraînement des modèles"
   ]
  },
  {
   "cell_type": "code",
   "execution_count": 5,
   "metadata": {},
   "outputs": [],
   "source": [
    "random_state = 42\n",
    "\n",
    "# isolate target\n",
    "X_df = df.loc[:, df.columns != \"Tags\"]\n",
    "\n",
    "# split entire DF for further use\n",
    "X_train_df, X_test_df, y_train, y_test = train_test_split(\n",
    "    X_df, tags, test_size=1000, random_state=random_state\n",
    ")\n",
    "\n",
    "# then set genuine features for models\n",
    "X_train = X_train_df[\"doc_bow\"].to_list()\n",
    "X_test = X_test_df[\"doc_bow\"].to_list()"
   ]
  },
  {
   "cell_type": "markdown",
   "metadata": {},
   "source": [
    "# <a id='toc2_'></a>[Approches Bag-of-words](#toc0_)"
   ]
  },
  {
   "cell_type": "markdown",
   "metadata": {},
   "source": [
    "## Méthode de scoring"
   ]
  },
  {
   "cell_type": "markdown",
   "metadata": {},
   "source": [
    "On cherche à évaluer l'efficacité d'un modèle qui renvoie deux listes de termes, sans toutefois appliquer de solution binaire comme la présence ou non du terme exact dans les deux listes, au vu de la diversité des termes employés.\n",
    "\n",
    "Un moyen simple d'utiliser le meilleur ratio de Levenshtein (similarité entre chaînes de caractères) avec un seuil cohérent et de le diviser par le nombre de termes."
   ]
  },
  {
   "cell_type": "markdown",
   "metadata": {},
   "source": [
    "> Une similarité de 70% permet par exemple de mettre une similarité de 0 entre 'c' et 'c#', une similarité de 0.71 entre 'spring' et 'spring-boot' mais de 0 entre 'spring-boot' et 'boot'.\n",
    "\n"
   ]
  },
  {
   "cell_type": "markdown",
   "metadata": {},
   "source": [
    "- le score maximum de 1 équivaut à tous les termes exacts trouvés,\n",
    "- le minimum de 0 signifie qu'il n'y a pas eu de terme suffisamment proche pour passer le seuil défini"
   ]
  },
  {
   "cell_type": "code",
   "execution_count": 6,
   "metadata": {},
   "outputs": [],
   "source": [
    "def score_terms(pred_words, target_words, cutoff=0.7) -> float:\n",
    "    \"\"\"Return a score of terms similarity between 2 lists of strings\"\"\"\n",
    "    score = 0\n",
    "    for p_w in pred_words:\n",
    "        score += max(ratio(t, p_w, score_cutoff=cutoff) for t in target_words)\n",
    "    score = np.round(score / len(pred_words), 3)\n",
    "    \n",
    "    return score"
   ]
  },
  {
   "cell_type": "markdown",
   "metadata": {},
   "source": [
    "## <a id='toc2_1_'></a>[TF-IDF](#toc0_)"
   ]
  },
  {
   "cell_type": "markdown",
   "metadata": {},
   "source": [
    "[Documentation ScikitLearn](https://scikit-learn.org/stable/modules/generated/sklearn.feature_extraction.text.TfidfVectorizer.html)"
   ]
  },
  {
   "cell_type": "markdown",
   "metadata": {},
   "source": [
    "Un modèle simple de prédictions se basant sur les fréquences de monogrammes présents dans un corpus."
   ]
  },
  {
   "cell_type": "markdown",
   "metadata": {},
   "source": [
    "🚧 Expliquer algo"
   ]
  },
  {
   "cell_type": "markdown",
   "metadata": {},
   "source": [
    "Entraînement du modèle sur le corpus"
   ]
  },
  {
   "cell_type": "code",
   "execution_count": 7,
   "metadata": {},
   "outputs": [],
   "source": [
    "tfidf_vectorizer = TfidfVectorizer(token_pattern=r\"\\S+\", min_df=10)\n",
    "tfidf_fitted = tfidf_vectorizer.fit(X_train)\n",
    "tfidf_names = tfidf_vectorizer.get_feature_names_out()"
   ]
  },
  {
   "cell_type": "markdown",
   "metadata": {},
   "source": [
    "Exemple sur un document du test"
   ]
  },
  {
   "cell_type": "code",
   "execution_count": 8,
   "metadata": {},
   "outputs": [
    {
     "name": "stdout",
     "output_type": "stream",
     "text": [
      "🔹 Original document:\n",
      "\t['Motion/Moving effect with animation on still image'\n",
      " '<p>I am trying to implement animation in a still image in a user-guided direction, something like this:</p>\\n\\n<p><strong>Original image</strong></p>\\n\\n<p><a href=\"https://i.stack.imgur.com/U0JTq.png\" rel=\"noreferrer\"><img src=\"https://i.stack.imgur.com/U0JTq.png\" alt=\"original image\"></a></p>\\n\\n<p><strong>Expected result</strong></p>\\n\\n<p><a href=\"https://i.stack.imgur.com/BSgEC.gif\" rel=\"noreferrer\"><img src=\"https://i.stack.imgur.com/BSgEC.gif\" alt=\"expected result\"></a></p>\\n\\n<p>For this, I have tried the <code>CIBumpDistortionLinear</code> <code>CIFilter</code>. It is animating, but the animation is not exactly like that. </p>\\n\\n<pre><code>let bumpDistortionLinearParams: [String: AnyObject] = [\\n    kCIInputImageKey: coreImage!,\\n    \"inputCenter\" : CIVector(string: coordStr),\\n    \"inputRadius\": 300.0 as AnyObject,\\n    \"inputAngle\" : 90.0 as AnyObject,\\n    \"inputScale\" : 0.1 as AnyObject\\n]\\n\\nlet bumpDistortionLinear = CIFilter(name: \"CIBumpDistortionLinear\", parameters: bumpDistortionLinearParams)\\n</code></pre>\\n']\n",
      "\n",
      "🔹 Preprocessed data:\n",
      "\tmotion/moving effect animation still image trying implement animation still image user-guided direction something original image expected result tried animating animation exactly\n",
      "\n",
      "🔹 Predictions:\n",
      "\t['animation', 'image', 'animating', 'still', 'direction']\n",
      "\n",
      "🔹 Targetted tags:\n",
      "\t['ios', 'swift', 'core-animation', 'core-image', 'glkit']\n",
      "\n",
      "🔹 Score:\n",
      "\t0.157\n",
      "\n"
     ]
    }
   ],
   "source": [
    "# create a random example in test set\n",
    "example_doc_index = 42\n",
    "doc = X_test[example_doc_index]\n",
    "origin_doc = X_test_df.iloc[example_doc_index]\n",
    "\n",
    "# get the target\n",
    "y = y_test[example_doc_index].split(\" \")\n",
    "\n",
    "# predict\n",
    "X = tfidf_fitted.transform(X_test)\n",
    "doc_transformed = X[example_doc_index]\n",
    "\n",
    "# display predictions\n",
    "predictions = results_from_vec_matrix(tfidf_names, doc_transformed)\n",
    "pred_words = [p[0] for p in predictions]\n",
    "\n",
    "print(f\"🔹 Original document:\\n\\t{origin_doc[['Title', 'Body']].values}\\n\")\n",
    "print(f\"🔹 Preprocessed data:\\n\\t{doc}\\n\")\n",
    "print(f\"🔹 Predictions:\\n\\t{pred_words}\\n\")\n",
    "print(f\"🔹 Targetted tags:\\n\\t{y}\\n\")\n",
    "print(f\"🔹 Score:\\n\\t{score_terms(pred_words, y)}\\n\")"
   ]
  },
  {
   "cell_type": "markdown",
   "metadata": {},
   "source": [
    "Application sur nos données de test"
   ]
  },
  {
   "cell_type": "code",
   "execution_count": 9,
   "metadata": {},
   "outputs": [
    {
     "name": "stdout",
     "output_type": "stream",
     "text": [
      "Score:  0.232 - Duration:  16.0\n"
     ]
    }
   ],
   "source": [
    "_ = score_reduce(tfidf_names, tfidf_fitted.transform(X_test), y_test)"
   ]
  },
  {
   "cell_type": "markdown",
   "metadata": {},
   "source": [
    "# <a id='toc3_'></a>[🦄🦄 CHECKPOINT 🦄🦄](#toc0_)\n",
    "\n",
    "- trouver une façon de plotter\n",
    "    - utiliser NB OC avec t-SNE\n",
    "    - colorer document par score pour voir\n",
    "\n",
    "[cf. pipeline et autres ici](https://github.com/sycod/OC_projects/blob/main/P3/P3_ML_1_GHGE.ipynb)"
   ]
  },
  {
   "cell_type": "markdown",
   "metadata": {},
   "source": [
    "Vérification"
   ]
  },
  {
   "cell_type": "code",
   "execution_count": 10,
   "metadata": {},
   "outputs": [
    {
     "name": "stdout",
     "output_type": "stream",
     "text": [
      "0.232\n",
      "['animation', 'image', 'animating', 'still', 'direction']\n",
      "0.157\n"
     ]
    }
   ],
   "source": [
    "print(_[0])\n",
    "print(_[1][42])\n",
    "print(_[2][42])"
   ]
  },
  {
   "cell_type": "code",
   "execution_count": 11,
   "metadata": {},
   "outputs": [],
   "source": [
    "\n",
    "# def plot_model(X_tsne, y_cat_num, labels, ARI) :\n",
    "#     \"\"\"TSNE plotting \"\"\"\n",
    "#     \"\"\"visualisation du Tsne selon les vraies catégories et selon les clusters\"\"\"\n",
    "#     fig = plt.figure(figsize=(15,6))\n",
    "    \n",
    "#     ax = fig.add_subplot(121)\n",
    "#     scatter = ax.scatter(X_tsne[:,0],X_tsne[:,1], c=y_cat_num, cmap='Set1')\n",
    "#     ax.legend(handles=scatter.legend_elements()[0], labels=l_cat, loc=\"best\", title=\"Categorie\")\n",
    "#     plt.title('Représentation des tweets par catégories réelles')\n",
    "    \n",
    "#     ax = fig.add_subplot(122)\n",
    "#     scatter = ax.scatter(X_tsne[:,0],X_tsne[:,1], c=labels, cmap='Set1')\n",
    "#     ax.legend(handles=scatter.legend_elements()[0], labels=set(labels), loc=\"best\", title=\"Clusters\")\n",
    "#     plt.title('Représentation des tweets par clusters')\n",
    "    \n",
    "\n",
    "    # JL ok works for left part (scores)\n",
    "    # JL ok works for left part (scores)\n",
    "    # JL ok works for left part (scores)\n",
    "\n",
    "    # fig, axs = plt.subplots(1, 2, tight_layout=True)\n",
    "    # N, bins, patches = axs[0].hist(scores, bins=10)\n",
    "\n",
    "    # # color by score (bin)\n",
    "    # fracs = bins / bins.max()\n",
    "    # norm = colors.Normalize(0, 1)\n",
    "    # # loop through objects and set color of each\n",
    "    # for thisfrac, thispatch in zip(fracs, patches):\n",
    "    #     color = plt.cm.viridis(norm(thisfrac))\n",
    "    #     thispatch.set_facecolor(color)\n",
    "\n",
    "    # axs[0].set_title(f\"Score: {model_score}\")\n",
    "    # axs[0].set_xlabel('Score')\n",
    "    # axs[0].set_ylabel('Count')\n",
    "\n",
    "    # We can also normalize our inputs by the total number of counts\n",
    "    # axs[1].hist(_[\"score\"], bins=20, density=True)\n",
    "\n",
    "    # Now we format the y-axis to display percentage\n",
    "    # axs[1].yaxis.set_major_formatter(PercentFormatter(xmax=1))\n",
    "\n",
    "    # plt.show()\n",
    "\n",
    "    # JL ok works for left part (scores)\n",
    "    # JL ok works for left part (scores)\n",
    "    # JL ok works for left part (scores)\n",
    "\n"
   ]
  },
  {
   "cell_type": "code",
   "execution_count": 12,
   "metadata": {},
   "outputs": [
    {
     "ename": "NameError",
     "evalue": "name 'scores' is not defined",
     "output_type": "error",
     "traceback": [
      "\u001b[0;31m---------------------------------------------------------------------------\u001b[0m",
      "\u001b[0;31mNameError\u001b[0m                                 Traceback (most recent call last)",
      "Cell \u001b[0;32mIn[12], line 2\u001b[0m\n\u001b[1;32m      1\u001b[0m fig, axs \u001b[38;5;241m=\u001b[39m plt\u001b[38;5;241m.\u001b[39msubplots(\u001b[38;5;241m1\u001b[39m, \u001b[38;5;241m2\u001b[39m, tight_layout\u001b[38;5;241m=\u001b[39m\u001b[38;5;28;01mTrue\u001b[39;00m)\n\u001b[0;32m----> 2\u001b[0m N, bins, patches \u001b[38;5;241m=\u001b[39m axs[\u001b[38;5;241m0\u001b[39m]\u001b[38;5;241m.\u001b[39mhist(\u001b[43mscores\u001b[49m, bins\u001b[38;5;241m=\u001b[39m\u001b[38;5;241m10\u001b[39m)\n\u001b[1;32m      4\u001b[0m \u001b[38;5;66;03m# color by score (bin)\u001b[39;00m\n\u001b[1;32m      5\u001b[0m fracs \u001b[38;5;241m=\u001b[39m bins \u001b[38;5;241m/\u001b[39m bins\u001b[38;5;241m.\u001b[39mmax()\n",
      "\u001b[0;31mNameError\u001b[0m: name 'scores' is not defined"
     ]
    },
    {
     "data": {
      "image/png": "[encoded data removed]",
      "text/plain": [
       "<Figure size 640x480 with 2 Axes>"
      ]
     },
     "metadata": {},
     "output_type": "display_data"
    }
   ],
   "source": [
    "fig, axs = plt.subplots(1, 2, tight_layout=True)\n",
    "N, bins, patches = axs[0].hist(scores, bins=10)\n",
    "\n",
    "# color by score (bin)\n",
    "fracs = bins / bins.max()\n",
    "norm = colors.Normalize(0, 1)\n",
    "# loop through objects and set color of each\n",
    "for thisfrac, thispatch in zip(fracs, patches):\n",
    "    color = plt.cm.viridis(norm(thisfrac))\n",
    "    thispatch.set_facecolor(color)\n",
    "\n",
    "axs[0].set_title(f\"Score: {model_score}\")\n",
    "axs[0].set_xlabel('Score')\n",
    "axs[0].set_ylabel('Count')\n",
    "\n",
    "# We can also normalize our inputs by the total number of counts\n",
    "# axs[1].hist(_[\"score\"], bins=20, density=True)\n",
    "\n",
    "# Now we format the y-axis to display percentage\n",
    "# axs[1].yaxis.set_major_formatter(PercentFormatter(xmax=1))\n",
    "\n",
    "plt.show()"
   ]
  },
  {
   "cell_type": "markdown",
   "metadata": {},
   "source": [
    "De par son fonctionnement, **TF-IDF ne propose pas les tags les plus fréquents**, tels que les noms de langages informatiques ou bibliothèques régulièrement utilisées : c'est là une des limites de cette approche simple."
   ]
  },
  {
   "cell_type": "markdown",
   "metadata": {},
   "source": [
    "# <a id='toc4_'></a>[CountVectorizer](#toc0_)"
   ]
  },
  {
   "cell_type": "markdown",
   "metadata": {},
   "source": [
    "[Documentation ScikitLearn](https://scikit-learn.org/stable/modules/generated/sklearn.feature_extraction.text.CountVectorizer.html)"
   ]
  },
  {
   "cell_type": "markdown",
   "metadata": {},
   "source": [
    "🚧 Utilisation de CountVectorizer sur les données => LDA l'utilise en entrée"
   ]
  },
  {
   "cell_type": "markdown",
   "metadata": {},
   "source": [
    "Modèle de comptage vectoriel"
   ]
  },
  {
   "cell_type": "code",
   "execution_count": null,
   "metadata": {},
   "outputs": [],
   "source": [
    "count_vectorizer = CountVectorizer(token_pattern=r\"\\S+\", dtype=np.uint16, min_df=10)"
   ]
  },
  {
   "cell_type": "markdown",
   "metadata": {},
   "source": [
    "Entraînement du modèle sur le corpus"
   ]
  },
  {
   "cell_type": "code",
   "execution_count": null,
   "metadata": {},
   "outputs": [],
   "source": [
    "cv_fitted = count_vectorizer.fit(corpus)\n",
    "cv_names = count_vectorizer.get_feature_names_out()\n",
    "cv_transformed = cv_fitted.transform(corpus)"
   ]
  },
  {
   "cell_type": "markdown",
   "metadata": {},
   "source": [
    "Exemple sur un document fictif"
   ]
  },
  {
   "cell_type": "markdown",
   "metadata": {},
   "source": [
    "🚧 inclure pipeline clean sur doc fictif"
   ]
  },
  {
   "cell_type": "code",
   "execution_count": null,
   "metadata": {},
   "outputs": [],
   "source": [
    "doc = dummy_doc"
   ]
  },
  {
   "cell_type": "code",
   "execution_count": null,
   "metadata": {},
   "outputs": [
    {
     "name": "stdout",
     "output_type": "stream",
     "text": [
      "1️⃣- Original document:\n",
      "    i have a c# issue with overflow memory in library kazakhstanislas causing many problems in my code: how do you manage this? Here is an example: <code>int a = 1; int b = 2; int c = a + b;</code>\n",
      "\n",
      "2️⃣- Predictions:\n",
      "    {'int': 2, 'b': 1, 'c': 1, 'c#': 1, 'causing': 1}\n",
      "\n"
     ]
    }
   ],
   "source": [
    "# predict\n",
    "X = cv_fitted.transform([doc])\n",
    "# display predictions\n",
    "predictions = results_from_vec_matrix(count_vectorizer, X, n_predictions)\n",
    "\n",
    "print(f\"🔹 Original document:\\n    {doc}\\n\")\n",
    "print(f\"🔹 Predictions:\\n    {predictions}\\n\")"
   ]
  },
  {
   "cell_type": "markdown",
   "metadata": {},
   "source": [
    "# <a id='toc5_'></a>[LDA](#toc0_)"
   ]
  },
  {
   "cell_type": "markdown",
   "metadata": {},
   "source": [
    "[Documentation ScikitLearn](https://scikit-learn.org/stable/modules/generated/sklearn.decomposition.LatentDirichletAllocation.html)\n",
    "\n",
    "[pyLDAvis for visualization](https://medium.com/@sherryqixuan/topic-modeling-and-pyldavis-visualization-86a543e21f58)\n",
    "\n",
    "[LDA Gensim 1](https://radimrehurek.com/gensim/wiki.html#latent-dirichlet-allocation)\n",
    "[LDA Gensim 2](https://radimrehurek.com/gensim/models/ldamodel.html#gensim.models.ldamodel.LdaModel)"
   ]
  },
  {
   "cell_type": "markdown",
   "metadata": {},
   "source": [
    "Modèle LDA"
   ]
  },
  {
   "cell_type": "code",
   "execution_count": null,
   "metadata": {},
   "outputs": [],
   "source": [
    "# define a maximum number of topics (each represented by some words)\n",
    "n_topics = 20\n",
    "\n",
    "# LDA model\n",
    "lda = LatentDirichletAllocation(\n",
    "    n_components=n_topics,\n",
    "    max_iter=5,\n",
    "    learning_method=\"online\",\n",
    "    learning_offset=50.0,\n",
    "    random_state=0,\n",
    ")"
   ]
  },
  {
   "cell_type": "markdown",
   "metadata": {},
   "source": [
    "Entraînement et transformation"
   ]
  },
  {
   "cell_type": "code",
   "execution_count": null,
   "metadata": {},
   "outputs": [
    {
     "data": {
      "text/html": [
       "<style>#sk-container-id-1 {\n",
       "  /* Definition of color scheme common for light and dark mode */\n",
       "  --sklearn-color-text: black;\n",
       "  --sklearn-color-line: gray;\n",
       "  /* Definition of color scheme for unfitted estimators */\n",
       "  --sklearn-color-unfitted-level-0: #fff5e6;\n",
       "  --sklearn-color-unfitted-level-1: #f6e4d2;\n",
       "  --sklearn-color-unfitted-level-2: #ffe0b3;\n",
       "  --sklearn-color-unfitted-level-3: chocolate;\n",
       "  /* Definition of color scheme for fitted estimators */\n",
       "  --sklearn-color-fitted-level-0: #f0f8ff;\n",
       "  --sklearn-color-fitted-level-1: #d4ebff;\n",
       "  --sklearn-color-fitted-level-2: #b3dbfd;\n",
       "  --sklearn-color-fitted-level-3: cornflowerblue;\n",
       "\n",
       "  /* Specific color for light theme */\n",
       "  --sklearn-color-text-on-default-background: var(--sg-text-color, var(--theme-code-foreground, var(--jp-content-font-color1, black)));\n",
       "  --sklearn-color-background: var(--sg-background-color, var(--theme-background, var(--jp-layout-color0, white)));\n",
       "  --sklearn-color-border-box: var(--sg-text-color, var(--theme-code-foreground, var(--jp-content-font-color1, black)));\n",
       "  --sklearn-color-icon: #696969;\n",
       "\n",
       "  @media (prefers-color-scheme: dark) {\n",
       "    /* Redefinition of color scheme for dark theme */\n",
       "    --sklearn-color-text-on-default-background: var(--sg-text-color, var(--theme-code-foreground, var(--jp-content-font-color1, white)));\n",
       "    --sklearn-color-background: var(--sg-background-color, var(--theme-background, var(--jp-layout-color0, #111)));\n",
       "    --sklearn-color-border-box: var(--sg-text-color, var(--theme-code-foreground, var(--jp-content-font-color1, white)));\n",
       "    --sklearn-color-icon: #878787;\n",
       "  }\n",
       "}\n",
       "\n",
       "#sk-container-id-1 {\n",
       "  color: var(--sklearn-color-text);\n",
       "}\n",
       "\n",
       "#sk-container-id-1 pre {\n",
       "  padding: 0;\n",
       "}\n",
       "\n",
       "#sk-container-id-1 input.sk-hidden--visually {\n",
       "  border: 0;\n",
       "  clip: rect(1px 1px 1px 1px);\n",
       "  clip: rect(1px, 1px, 1px, 1px);\n",
       "  height: 1px;\n",
       "  margin: -1px;\n",
       "  overflow: hidden;\n",
       "  padding: 0;\n",
       "  position: absolute;\n",
       "  width: 1px;\n",
       "}\n",
       "\n",
       "#sk-container-id-1 div.sk-dashed-wrapped {\n",
       "  border: 1px dashed var(--sklearn-color-line);\n",
       "  margin: 0 0.4em 0.5em 0.4em;\n",
       "  box-sizing: border-box;\n",
       "  padding-bottom: 0.4em;\n",
       "  background-color: var(--sklearn-color-background);\n",
       "}\n",
       "\n",
       "#sk-container-id-1 div.sk-container {\n",
       "  /* jupyter's `normalize.less` sets `[hidden] { display: none; }`\n",
       "     but bootstrap.min.css set `[hidden] { display: none !important; }`\n",
       "     so we also need the `!important` here to be able to override the\n",
       "     default hidden behavior on the sphinx rendered scikit-learn.org.\n",
       "     See: https://github.com/scikit-learn/scikit-learn/issues/21755 */\n",
       "  display: inline-block !important;\n",
       "  position: relative;\n",
       "}\n",
       "\n",
       "#sk-container-id-1 div.sk-text-repr-fallback {\n",
       "  display: none;\n",
       "}\n",
       "\n",
       "div.sk-parallel-item,\n",
       "div.sk-serial,\n",
       "div.sk-item {\n",
       "  /* draw centered vertical line to link estimators */\n",
       "  background-image: linear-gradient(var(--sklearn-color-text-on-default-background), var(--sklearn-color-text-on-default-background));\n",
       "  background-size: 2px 100%;\n",
       "  background-repeat: no-repeat;\n",
       "  background-position: center center;\n",
       "}\n",
       "\n",
       "/* Parallel-specific style estimator block */\n",
       "\n",
       "#sk-container-id-1 div.sk-parallel-item::after {\n",
       "  content: \"\";\n",
       "  width: 100%;\n",
       "  border-bottom: 2px solid var(--sklearn-color-text-on-default-background);\n",
       "  flex-grow: 1;\n",
       "}\n",
       "\n",
       "#sk-container-id-1 div.sk-parallel {\n",
       "  display: flex;\n",
       "  align-items: stretch;\n",
       "  justify-content: center;\n",
       "  background-color: var(--sklearn-color-background);\n",
       "  position: relative;\n",
       "}\n",
       "\n",
       "#sk-container-id-1 div.sk-parallel-item {\n",
       "  display: flex;\n",
       "  flex-direction: column;\n",
       "}\n",
       "\n",
       "#sk-container-id-1 div.sk-parallel-item:first-child::after {\n",
       "  align-self: flex-end;\n",
       "  width: 50%;\n",
       "}\n",
       "\n",
       "#sk-container-id-1 div.sk-parallel-item:last-child::after {\n",
       "  align-self: flex-start;\n",
       "  width: 50%;\n",
       "}\n",
       "\n",
       "#sk-container-id-1 div.sk-parallel-item:only-child::after {\n",
       "  width: 0;\n",
       "}\n",
       "\n",
       "/* Serial-specific style estimator block */\n",
       "\n",
       "#sk-container-id-1 div.sk-serial {\n",
       "  display: flex;\n",
       "  flex-direction: column;\n",
       "  align-items: center;\n",
       "  background-color: var(--sklearn-color-background);\n",
       "  padding-right: 1em;\n",
       "  padding-left: 1em;\n",
       "}\n",
       "\n",
       "\n",
       "/* Toggleable style: style used for estimator/Pipeline/ColumnTransformer box that is\n",
       "clickable and can be expanded/collapsed.\n",
       "- Pipeline and ColumnTransformer use this feature and define the default style\n",
       "- Estimators will overwrite some part of the style using the `sk-estimator` class\n",
       "*/\n",
       "\n",
       "/* Pipeline and ColumnTransformer style (default) */\n",
       "\n",
       "#sk-container-id-1 div.sk-toggleable {\n",
       "  /* Default theme specific background. It is overwritten whether we have a\n",
       "  specific estimator or a Pipeline/ColumnTransformer */\n",
       "  background-color: var(--sklearn-color-background);\n",
       "}\n",
       "\n",
       "/* Toggleable label */\n",
       "#sk-container-id-1 label.sk-toggleable__label {\n",
       "  cursor: pointer;\n",
       "  display: block;\n",
       "  width: 100%;\n",
       "  margin-bottom: 0;\n",
       "  padding: 0.5em;\n",
       "  box-sizing: border-box;\n",
       "  text-align: center;\n",
       "}\n",
       "\n",
       "#sk-container-id-1 label.sk-toggleable__label-arrow:before {\n",
       "  /* Arrow on the left of the label */\n",
       "  content: \"▸\";\n",
       "  float: left;\n",
       "  margin-right: 0.25em;\n",
       "  color: var(--sklearn-color-icon);\n",
       "}\n",
       "\n",
       "#sk-container-id-1 label.sk-toggleable__label-arrow:hover:before {\n",
       "  color: var(--sklearn-color-text);\n",
       "}\n",
       "\n",
       "/* Toggleable content - dropdown */\n",
       "\n",
       "#sk-container-id-1 div.sk-toggleable__content {\n",
       "  max-height: 0;\n",
       "  max-width: 0;\n",
       "  overflow: hidden;\n",
       "  text-align: left;\n",
       "  /* unfitted */\n",
       "  background-color: var(--sklearn-color-unfitted-level-0);\n",
       "}\n",
       "\n",
       "#sk-container-id-1 div.sk-toggleable__content.fitted {\n",
       "  /* fitted */\n",
       "  background-color: var(--sklearn-color-fitted-level-0);\n",
       "}\n",
       "\n",
       "#sk-container-id-1 div.sk-toggleable__content pre {\n",
       "  margin: 0.2em;\n",
       "  border-radius: 0.25em;\n",
       "  color: var(--sklearn-color-text);\n",
       "  /* unfitted */\n",
       "  background-color: var(--sklearn-color-unfitted-level-0);\n",
       "}\n",
       "\n",
       "#sk-container-id-1 div.sk-toggleable__content.fitted pre {\n",
       "  /* unfitted */\n",
       "  background-color: var(--sklearn-color-fitted-level-0);\n",
       "}\n",
       "\n",
       "#sk-container-id-1 input.sk-toggleable__control:checked~div.sk-toggleable__content {\n",
       "  /* Expand drop-down */\n",
       "  max-height: 200px;\n",
       "  max-width: 100%;\n",
       "  overflow: auto;\n",
       "}\n",
       "\n",
       "#sk-container-id-1 input.sk-toggleable__control:checked~label.sk-toggleable__label-arrow:before {\n",
       "  content: \"▾\";\n",
       "}\n",
       "\n",
       "/* Pipeline/ColumnTransformer-specific style */\n",
       "\n",
       "#sk-container-id-1 div.sk-label input.sk-toggleable__control:checked~label.sk-toggleable__label {\n",
       "  color: var(--sklearn-color-text);\n",
       "  background-color: var(--sklearn-color-unfitted-level-2);\n",
       "}\n",
       "\n",
       "#sk-container-id-1 div.sk-label.fitted input.sk-toggleable__control:checked~label.sk-toggleable__label {\n",
       "  background-color: var(--sklearn-color-fitted-level-2);\n",
       "}\n",
       "\n",
       "/* Estimator-specific style */\n",
       "\n",
       "/* Colorize estimator box */\n",
       "#sk-container-id-1 div.sk-estimator input.sk-toggleable__control:checked~label.sk-toggleable__label {\n",
       "  /* unfitted */\n",
       "  background-color: var(--sklearn-color-unfitted-level-2);\n",
       "}\n",
       "\n",
       "#sk-container-id-1 div.sk-estimator.fitted input.sk-toggleable__control:checked~label.sk-toggleable__label {\n",
       "  /* fitted */\n",
       "  background-color: var(--sklearn-color-fitted-level-2);\n",
       "}\n",
       "\n",
       "#sk-container-id-1 div.sk-label label.sk-toggleable__label,\n",
       "#sk-container-id-1 div.sk-label label {\n",
       "  /* The background is the default theme color */\n",
       "  color: var(--sklearn-color-text-on-default-background);\n",
       "}\n",
       "\n",
       "/* On hover, darken the color of the background */\n",
       "#sk-container-id-1 div.sk-label:hover label.sk-toggleable__label {\n",
       "  color: var(--sklearn-color-text);\n",
       "  background-color: var(--sklearn-color-unfitted-level-2);\n",
       "}\n",
       "\n",
       "/* Label box, darken color on hover, fitted */\n",
       "#sk-container-id-1 div.sk-label.fitted:hover label.sk-toggleable__label.fitted {\n",
       "  color: var(--sklearn-color-text);\n",
       "  background-color: var(--sklearn-color-fitted-level-2);\n",
       "}\n",
       "\n",
       "/* Estimator label */\n",
       "\n",
       "#sk-container-id-1 div.sk-label label {\n",
       "  font-family: monospace;\n",
       "  font-weight: bold;\n",
       "  display: inline-block;\n",
       "  line-height: 1.2em;\n",
       "}\n",
       "\n",
       "#sk-container-id-1 div.sk-label-container {\n",
       "  text-align: center;\n",
       "}\n",
       "\n",
       "/* Estimator-specific */\n",
       "#sk-container-id-1 div.sk-estimator {\n",
       "  font-family: monospace;\n",
       "  border: 1px dotted var(--sklearn-color-border-box);\n",
       "  border-radius: 0.25em;\n",
       "  box-sizing: border-box;\n",
       "  margin-bottom: 0.5em;\n",
       "  /* unfitted */\n",
       "  background-color: var(--sklearn-color-unfitted-level-0);\n",
       "}\n",
       "\n",
       "#sk-container-id-1 div.sk-estimator.fitted {\n",
       "  /* fitted */\n",
       "  background-color: var(--sklearn-color-fitted-level-0);\n",
       "}\n",
       "\n",
       "/* on hover */\n",
       "#sk-container-id-1 div.sk-estimator:hover {\n",
       "  /* unfitted */\n",
       "  background-color: var(--sklearn-color-unfitted-level-2);\n",
       "}\n",
       "\n",
       "#sk-container-id-1 div.sk-estimator.fitted:hover {\n",
       "  /* fitted */\n",
       "  background-color: var(--sklearn-color-fitted-level-2);\n",
       "}\n",
       "\n",
       "/* Specification for estimator info (e.g. \"i\" and \"?\") */\n",
       "\n",
       "/* Common style for \"i\" and \"?\" */\n",
       "\n",
       ".sk-estimator-doc-link,\n",
       "a:link.sk-estimator-doc-link,\n",
       "a:visited.sk-estimator-doc-link {\n",
       "  float: right;\n",
       "  font-size: smaller;\n",
       "  line-height: 1em;\n",
       "  font-family: monospace;\n",
       "  background-color: var(--sklearn-color-background);\n",
       "  border-radius: 1em;\n",
       "  height: 1em;\n",
       "  width: 1em;\n",
       "  text-decoration: none !important;\n",
       "  margin-left: 1ex;\n",
       "  /* unfitted */\n",
       "  border: var(--sklearn-color-unfitted-level-1) 1pt solid;\n",
       "  color: var(--sklearn-color-unfitted-level-1);\n",
       "}\n",
       "\n",
       ".sk-estimator-doc-link.fitted,\n",
       "a:link.sk-estimator-doc-link.fitted,\n",
       "a:visited.sk-estimator-doc-link.fitted {\n",
       "  /* fitted */\n",
       "  border: var(--sklearn-color-fitted-level-1) 1pt solid;\n",
       "  color: var(--sklearn-color-fitted-level-1);\n",
       "}\n",
       "\n",
       "/* On hover */\n",
       "div.sk-estimator:hover .sk-estimator-doc-link:hover,\n",
       ".sk-estimator-doc-link:hover,\n",
       "div.sk-label-container:hover .sk-estimator-doc-link:hover,\n",
       ".sk-estimator-doc-link:hover {\n",
       "  /* unfitted */\n",
       "  background-color: var(--sklearn-color-unfitted-level-3);\n",
       "  color: var(--sklearn-color-background);\n",
       "  text-decoration: none;\n",
       "}\n",
       "\n",
       "div.sk-estimator.fitted:hover .sk-estimator-doc-link.fitted:hover,\n",
       ".sk-estimator-doc-link.fitted:hover,\n",
       "div.sk-label-container:hover .sk-estimator-doc-link.fitted:hover,\n",
       ".sk-estimator-doc-link.fitted:hover {\n",
       "  /* fitted */\n",
       "  background-color: var(--sklearn-color-fitted-level-3);\n",
       "  color: var(--sklearn-color-background);\n",
       "  text-decoration: none;\n",
       "}\n",
       "\n",
       "/* Span, style for the box shown on hovering the info icon */\n",
       ".sk-estimator-doc-link span {\n",
       "  display: none;\n",
       "  z-index: 9999;\n",
       "  position: relative;\n",
       "  font-weight: normal;\n",
       "  right: .2ex;\n",
       "  padding: .5ex;\n",
       "  margin: .5ex;\n",
       "  width: min-content;\n",
       "  min-width: 20ex;\n",
       "  max-width: 50ex;\n",
       "  color: var(--sklearn-color-text);\n",
       "  box-shadow: 2pt 2pt 4pt #999;\n",
       "  /* unfitted */\n",
       "  background: var(--sklearn-color-unfitted-level-0);\n",
       "  border: .5pt solid var(--sklearn-color-unfitted-level-3);\n",
       "}\n",
       "\n",
       ".sk-estimator-doc-link.fitted span {\n",
       "  /* fitted */\n",
       "  background: var(--sklearn-color-fitted-level-0);\n",
       "  border: var(--sklearn-color-fitted-level-3);\n",
       "}\n",
       "\n",
       ".sk-estimator-doc-link:hover span {\n",
       "  display: block;\n",
       "}\n",
       "\n",
       "/* \"?\"-specific style due to the `<a>` HTML tag */\n",
       "\n",
       "#sk-container-id-1 a.estimator_doc_link {\n",
       "  float: right;\n",
       "  font-size: 1rem;\n",
       "  line-height: 1em;\n",
       "  font-family: monospace;\n",
       "  background-color: var(--sklearn-color-background);\n",
       "  border-radius: 1rem;\n",
       "  height: 1rem;\n",
       "  width: 1rem;\n",
       "  text-decoration: none;\n",
       "  /* unfitted */\n",
       "  color: var(--sklearn-color-unfitted-level-1);\n",
       "  border: var(--sklearn-color-unfitted-level-1) 1pt solid;\n",
       "}\n",
       "\n",
       "#sk-container-id-1 a.estimator_doc_link.fitted {\n",
       "  /* fitted */\n",
       "  border: var(--sklearn-color-fitted-level-1) 1pt solid;\n",
       "  color: var(--sklearn-color-fitted-level-1);\n",
       "}\n",
       "\n",
       "/* On hover */\n",
       "#sk-container-id-1 a.estimator_doc_link:hover {\n",
       "  /* unfitted */\n",
       "  background-color: var(--sklearn-color-unfitted-level-3);\n",
       "  color: var(--sklearn-color-background);\n",
       "  text-decoration: none;\n",
       "}\n",
       "\n",
       "#sk-container-id-1 a.estimator_doc_link.fitted:hover {\n",
       "  /* fitted */\n",
       "  background-color: var(--sklearn-color-fitted-level-3);\n",
       "}\n",
       "</style><div id=\"sk-container-id-1\" class=\"sk-top-container\"><div class=\"sk-text-repr-fallback\"><pre>LatentDirichletAllocation(learning_method=&#x27;online&#x27;, learning_offset=50.0,\n",
       "                          max_iter=5, n_components=20, random_state=0)</pre><b>In a Jupyter environment, please rerun this cell to show the HTML representation or trust the notebook. <br />On GitHub, the HTML representation is unable to render, please try loading this page with nbviewer.org.</b></div><div class=\"sk-container\" hidden><div class=\"sk-item\"><div class=\"sk-estimator fitted sk-toggleable\"><input class=\"sk-toggleable__control sk-hidden--visually\" id=\"sk-estimator-id-1\" type=\"checkbox\" checked><label for=\"sk-estimator-id-1\" class=\"sk-toggleable__label fitted sk-toggleable__label-arrow fitted\">&nbsp;&nbsp;LatentDirichletAllocation<a class=\"sk-estimator-doc-link fitted\" rel=\"noreferrer\" target=\"_blank\" href=\"https://scikit-learn.org/1.4/modules/generated/sklearn.decomposition.LatentDirichletAllocation.html\">?<span>Documentation for LatentDirichletAllocation</span></a><span class=\"sk-estimator-doc-link fitted\">i<span>Fitted</span></span></label><div class=\"sk-toggleable__content fitted\"><pre>LatentDirichletAllocation(learning_method=&#x27;online&#x27;, learning_offset=50.0,\n",
       "                          max_iter=5, n_components=20, random_state=0)</pre></div> </div></div></div></div>"
      ],
      "text/plain": [
       "LatentDirichletAllocation(learning_method='online', learning_offset=50.0,\n",
       "                          max_iter=5, n_components=20, random_state=0)"
      ]
     },
     "execution_count": 16,
     "metadata": {},
     "output_type": "execute_result"
    }
   ],
   "source": [
    "lda.fit(cv_transformed)"
   ]
  },
  {
   "cell_type": "markdown",
   "metadata": {},
   "source": [
    "Affichage des topics"
   ]
  },
  {
   "cell_type": "code",
   "execution_count": null,
   "metadata": {},
   "outputs": [
    {
     "data": {
      "text/plain": [
       "['model json object field property custom django entity attribute class',\n",
       " 'windows python command running tried get install version following installed',\n",
       " 'array data values python list get output column dataframe value',\n",
       " 'apache remote disable camera profile ssh disabled forms xamarin device',\n",
       " 'test tests thread testing unit event task call method async',\n",
       " 'type query key string sql convert name plot format following',\n",
       " 'data would way want need know one get new help',\n",
       " 'view problem swift update screen also see change works one',\n",
       " 'question would one memory different difference used two also seems',\n",
       " 'table database node view laravel date spark controller npm child',\n",
       " 'android project studio build visual version app gradle device sdk',\n",
       " 'app ios xcode react native color rails background apps facebook',\n",
       " 'function method class object type return call value following variable',\n",
       " 'time firebase number stream seconds takes times process slow audio',\n",
       " '.net framework core set layout item xml c# items list',\n",
       " 'spring java application exception boot database class filter mysql configuration',\n",
       " 'mode repository git github job bootstrap queue branch repo jenkins',\n",
       " 'server api user request http client web service application app',\n",
       " 'image page quot button html chrome text video images click',\n",
       " 'project module library angular import get tried folder application trying']"
      ]
     },
     "execution_count": 17,
     "metadata": {},
     "output_type": "execute_result"
    }
   ],
   "source": [
    "n_top_words = 10\n",
    "topics = get_lda_topics(lda, cv_names, n_top_words)\n",
    "topics"
   ]
  },
  {
   "cell_type": "markdown",
   "metadata": {},
   "source": [
    "Exemple sur un document du corpus (biaisé car dans l'entraînement : pour exemple et comparaison des tags seulement)"
   ]
  },
  {
   "cell_type": "code",
   "execution_count": null,
   "metadata": {},
   "outputs": [],
   "source": [
    "n_predictions = 5\n",
    "doc_index = 13371\n",
    "doc = corpus[doc_index]"
   ]
  },
  {
   "cell_type": "code",
   "execution_count": null,
   "metadata": {},
   "outputs": [
    {
     "name": "stdout",
     "output_type": "stream",
     "text": [
      "🔹 Original document:\n",
      "    django sessions working expected heroku users keep getting logged sessions persisting django app heroku users log randomly logged out—even site anything wrong django heroku config currently running django standard dynos settings.py\n",
      "\n",
      "🔹 Token count:\n",
      "    {'django': 4, 'heroku': 3, 'logged': 2, 'users': 2, 'sessions': 2}\n",
      "\n"
     ]
    }
   ],
   "source": [
    "doc_cv = cv_fitted.transform([doc])\n",
    "doc_tokens_count = results_from_vec_matrix(count_vectorizer, doc_cv, n_predictions)\n",
    "\n",
    "print(f\"🔹 Original document:\\n    {doc}\\n\")\n",
    "print(f\"🔹 Token count:\\n    {doc_tokens_count}\\n\")"
   ]
  },
  {
   "cell_type": "code",
   "execution_count": null,
   "metadata": {},
   "outputs": [
    {
     "name": "stdout",
     "output_type": "stream",
     "text": [
      "🔹 Top 5 topics:\n",
      "    Topic 17 (weight 0.3786462815115825):\n",
      "        server api user request http client web service application app\n",
      "    Topic 19 (weight 0.333126503477579):\n",
      "        project module library angular import get tried folder application trying\n",
      "    Topic 0 (weight 0.1588245321386544):\n",
      "        model json object field property custom django entity attribute class\n",
      "    Topic 6 (weight 0.05851810512542113):\n",
      "        data would way want need know one get new help\n",
      "    Topic 13 (weight 0.045884577427807244):\n",
      "        time firebase number stream seconds takes times process slow audio\n"
     ]
    }
   ],
   "source": [
    "# predict topics\n",
    "topic_preds = lda.transform(doc_cv)[0]\n",
    "# sort predictions by descending order\n",
    "n_top_topics = 5\n",
    "top_topics = topic_preds.argsort()[: -n_top_topics - 1 : -1]\n",
    "print(f\"🔹 Top {n_top_topics} topics:\")\n",
    "for topic in top_topics:\n",
    "    print(f\"    Topic {topic} (weight {topic_preds[topic]}):\\n        {topics[topic]}\")"
   ]
  },
  {
   "cell_type": "markdown",
   "metadata": {},
   "source": [
    "# <a id='toc6_'></a>[🚧 gensim LDA ?](#toc0_)"
   ]
  },
  {
   "cell_type": "markdown",
   "metadata": {},
   "source": [
    "# <a id='toc7_'></a>[🚧 calcul matriciel pour predictions avec LDA](#toc0_)"
   ]
  },
  {
   "cell_type": "markdown",
   "metadata": {},
   "source": [
    "# <a id='toc8_'></a>[🚧 NMF](#toc0_)"
   ]
  },
  {
   "cell_type": "markdown",
   "metadata": {},
   "source": [
    "# <a id='toc9_'></a>[🚧 vrac utile](#toc0_)"
   ]
  },
  {
   "cell_type": "markdown",
   "metadata": {},
   "source": [
    "Création d'un titre fictif pour tests ultérieurs"
   ]
  },
  {
   "cell_type": "code",
   "execution_count": null,
   "metadata": {},
   "outputs": [],
   "source": [
    "dummy_doc = \"i have a c# issue with overflow memory in library kazakhstanislas causing many problems in my code: how do you manage this? Here is an example: <code>int a = 1; int b = 2; int c = a + b;</code>\""
   ]
  },
  {
   "cell_type": "code",
   "execution_count": null,
   "metadata": {},
   "outputs": [
    {
     "data": {
      "text/html": [
       "<div>\n",
       "<style scoped>\n",
       "    .dataframe tbody tr th:only-of-type {\n",
       "        vertical-align: middle;\n",
       "    }\n",
       "\n",
       "    .dataframe tbody tr th {\n",
       "        vertical-align: top;\n",
       "    }\n",
       "\n",
       "    .dataframe thead th {\n",
       "        text-align: right;\n",
       "    }\n",
       "</style>\n",
       "<table border=\"1\" class=\"dataframe\">\n",
       "  <thead>\n",
       "    <tr style=\"text-align: right;\">\n",
       "      <th></th>\n",
       "      <th>token</th>\n",
       "      <th>count_corpus</th>\n",
       "      <th>freq_corpus</th>\n",
       "      <th>count_tags</th>\n",
       "      <th>freq_tags</th>\n",
       "      <th>count_title</th>\n",
       "      <th>freq_title</th>\n",
       "      <th>count_body</th>\n",
       "      <th>freq_body</th>\n",
       "    </tr>\n",
       "  </thead>\n",
       "  <tbody>\n",
       "    <tr>\n",
       "      <th>6471</th>\n",
       "      <td>android</td>\n",
       "      <td>7848</td>\n",
       "      <td>0.002476</td>\n",
       "      <td>4762</td>\n",
       "      <td>0.019051</td>\n",
       "      <td>2038</td>\n",
       "      <td>0.006975</td>\n",
       "      <td>5810</td>\n",
       "      <td>0.002019</td>\n",
       "    </tr>\n",
       "    <tr>\n",
       "      <th>76811</th>\n",
       "      <td>python</td>\n",
       "      <td>7636</td>\n",
       "      <td>0.002409</td>\n",
       "      <td>7301</td>\n",
       "      <td>0.029209</td>\n",
       "      <td>1916</td>\n",
       "      <td>0.006557</td>\n",
       "      <td>5720</td>\n",
       "      <td>0.001988</td>\n",
       "    </tr>\n",
       "    <tr>\n",
       "      <th>7807</th>\n",
       "      <td>app</td>\n",
       "      <td>15812</td>\n",
       "      <td>0.004988</td>\n",
       "      <td>0</td>\n",
       "      <td>0.000000</td>\n",
       "      <td>1423</td>\n",
       "      <td>0.004870</td>\n",
       "      <td>14389</td>\n",
       "      <td>0.005000</td>\n",
       "    </tr>\n",
       "    <tr>\n",
       "      <th>90332</th>\n",
       "      <td>spring</td>\n",
       "      <td>4756</td>\n",
       "      <td>0.001500</td>\n",
       "      <td>1579</td>\n",
       "      <td>0.006317</td>\n",
       "      <td>1377</td>\n",
       "      <td>0.004712</td>\n",
       "      <td>3379</td>\n",
       "      <td>0.001174</td>\n",
       "    </tr>\n",
       "    <tr>\n",
       "      <th>39069</th>\n",
       "      <td>get</td>\n",
       "      <td>21012</td>\n",
       "      <td>0.006628</td>\n",
       "      <td>34</td>\n",
       "      <td>0.000136</td>\n",
       "      <td>1323</td>\n",
       "      <td>0.004528</td>\n",
       "      <td>19689</td>\n",
       "      <td>0.006842</td>\n",
       "    </tr>\n",
       "    <tr>\n",
       "      <th>...</th>\n",
       "      <td>...</td>\n",
       "      <td>...</td>\n",
       "      <td>...</td>\n",
       "      <td>...</td>\n",
       "      <td>...</td>\n",
       "      <td>...</td>\n",
       "      <td>...</td>\n",
       "      <td>...</td>\n",
       "      <td>...</td>\n",
       "    </tr>\n",
       "    <tr>\n",
       "      <th>30037</th>\n",
       "      <td>dropout</td>\n",
       "      <td>77</td>\n",
       "      <td>0.000024</td>\n",
       "      <td>3</td>\n",
       "      <td>0.000012</td>\n",
       "      <td>11</td>\n",
       "      <td>0.000038</td>\n",
       "      <td>66</td>\n",
       "      <td>0.000023</td>\n",
       "    </tr>\n",
       "    <tr>\n",
       "      <th>75194</th>\n",
       "      <td>producing</td>\n",
       "      <td>121</td>\n",
       "      <td>0.000038</td>\n",
       "      <td>0</td>\n",
       "      <td>0.000000</td>\n",
       "      <td>11</td>\n",
       "      <td>0.000038</td>\n",
       "      <td>110</td>\n",
       "      <td>0.000038</td>\n",
       "    </tr>\n",
       "    <tr>\n",
       "      <th>95187</th>\n",
       "      <td>tablet</td>\n",
       "      <td>86</td>\n",
       "      <td>0.000027</td>\n",
       "      <td>8</td>\n",
       "      <td>0.000032</td>\n",
       "      <td>11</td>\n",
       "      <td>0.000038</td>\n",
       "      <td>75</td>\n",
       "      <td>0.000026</td>\n",
       "    </tr>\n",
       "    <tr>\n",
       "      <th>40107</th>\n",
       "      <td>glue</td>\n",
       "      <td>55</td>\n",
       "      <td>0.000017</td>\n",
       "      <td>0</td>\n",
       "      <td>0.000000</td>\n",
       "      <td>11</td>\n",
       "      <td>0.000038</td>\n",
       "      <td>44</td>\n",
       "      <td>0.000015</td>\n",
       "    </tr>\n",
       "    <tr>\n",
       "      <th>27206</th>\n",
       "      <td>detail</td>\n",
       "      <td>366</td>\n",
       "      <td>0.000115</td>\n",
       "      <td>0</td>\n",
       "      <td>0.000000</td>\n",
       "      <td>11</td>\n",
       "      <td>0.000038</td>\n",
       "      <td>355</td>\n",
       "      <td>0.000123</td>\n",
       "    </tr>\n",
       "  </tbody>\n",
       "</table>\n",
       "<p>3432 rows × 9 columns</p>\n",
       "</div>"
      ],
      "text/plain": [
       "           token  count_corpus  freq_corpus  count_tags  freq_tags  \\\n",
       "6471     android          7848     0.002476        4762   0.019051   \n",
       "76811     python          7636     0.002409        7301   0.029209   \n",
       "7807         app         15812     0.004988           0   0.000000   \n",
       "90332     spring          4756     0.001500        1579   0.006317   \n",
       "39069        get         21012     0.006628          34   0.000136   \n",
       "...          ...           ...          ...         ...        ...   \n",
       "30037    dropout            77     0.000024           3   0.000012   \n",
       "75194  producing           121     0.000038           0   0.000000   \n",
       "95187     tablet            86     0.000027           8   0.000032   \n",
       "40107       glue            55     0.000017           0   0.000000   \n",
       "27206     detail           366     0.000115           0   0.000000   \n",
       "\n",
       "       count_title  freq_title  count_body  freq_body  \n",
       "6471          2038    0.006975        5810   0.002019  \n",
       "76811         1916    0.006557        5720   0.001988  \n",
       "7807          1423    0.004870       14389   0.005000  \n",
       "90332         1377    0.004712        3379   0.001174  \n",
       "39069         1323    0.004528       19689   0.006842  \n",
       "...            ...         ...         ...        ...  \n",
       "30037           11    0.000038          66   0.000023  \n",
       "75194           11    0.000038         110   0.000038  \n",
       "95187           11    0.000038          75   0.000026  \n",
       "40107           11    0.000038          44   0.000015  \n",
       "27206           11    0.000038         355   0.000123  \n",
       "\n",
       "[3432 rows x 9 columns]"
      ]
     },
     "execution_count": 21,
     "metadata": {},
     "output_type": "execute_result"
    }
   ],
   "source": [
    "stats_df.loc[stats_df.count_title > 10].sort_values(by=\"count_title\", ascending=False)"
   ]
  }
 ],
 "metadata": {
  "kernelspec": {
   "display_name": "Python 3 (ipykernel)",
   "language": "python",
   "name": "python3"
  },
  "language_info": {
   "codemirror_mode": {
    "name": "ipython",
    "version": 3
   },
   "file_extension": ".py",
   "mimetype": "text/x-python",
   "name": "python",
   "nbconvert_exporter": "python",
   "pygments_lexer": "ipython3",
   "version": "3.11.8"
  }
 },
 "nbformat": 4,
 "nbformat_minor": 2
}
