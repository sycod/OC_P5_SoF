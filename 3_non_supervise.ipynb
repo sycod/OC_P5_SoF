{
 "cells": [
  {
   "cell_type": "markdown",
   "metadata": {},
   "source": [
    "**Table of contents**<a id='toc0_'></a>    \n",
    "- [Mise en place](#toc1_)    \n",
    "  - [Chargement des données](#toc1_1_)    \n",
    "- [FYI 🚧](#toc2_)    \n",
    "- [🦄🦄 CHECKPOINT 🦄🦄](#toc3_)    \n",
    "- [🚧 TODO](#toc4_)    \n",
    "- [TF-IDF](#toc5_)    \n",
    "\n",
    "<!-- vscode-jupyter-toc-config\n",
    "\tnumbering=false\n",
    "\tanchor=true\n",
    "\tflat=false\n",
    "\tminLevel=1\n",
    "\tmaxLevel=3\n",
    "\t/vscode-jupyter-toc-config -->\n",
    "<!-- THIS CELL WILL BE REPLACED ON TOC UPDATE. DO NOT WRITE YOUR TEXT IN THIS CELL -->"
   ]
  },
  {
   "cell_type": "markdown",
   "metadata": {},
   "source": [
    "# <a id='toc1_'></a>[Mise en place](#toc0_)"
   ]
  },
  {
   "cell_type": "code",
   "execution_count": 66,
   "metadata": {},
   "outputs": [],
   "source": [
    "# OS & env\n",
    "import os\n",
    "import logging\n",
    "\n",
    "# DS\n",
    "import numpy as np\n",
    "import pandas as pd\n",
    "import dill as pickle\n",
    "\n",
    "# ML\n",
    "from sklearn.feature_extraction.text import TfidfVectorizer\n",
    "\n",
    "# home made functions from the src folder\n",
    "from src.scrap_and_clean import words_filter\n",
    "\n",
    "# logging configuration (see all outputs, even DEBUG or INFO)\n",
    "logger = logging.getLogger()\n",
    "logger.setLevel(logging.DEBUG)"
   ]
  },
  {
   "cell_type": "markdown",
   "metadata": {},
   "source": [
    "## <a id='toc1_1_'></a>[Chargement des données](#toc0_)"
   ]
  },
  {
   "cell_type": "markdown",
   "metadata": {},
   "source": [
    "Données prétraitées :"
   ]
  },
  {
   "cell_type": "code",
   "execution_count": 2,
   "metadata": {},
   "outputs": [],
   "source": [
    "if not os.path.exists(\"data/df_preprocessed.pkl\"):\n",
    "    logging.warning(\"No data: run EDA notebook first\")\n",
    "else:\n",
    "    with open(\"data/df_preprocessed.pkl\", \"rb\") as f:\n",
    "        df = pickle.load(f)"
   ]
  },
  {
   "cell_type": "markdown",
   "metadata": {},
   "source": [
    "Vocabulaire :"
   ]
  },
  {
   "cell_type": "code",
   "execution_count": 3,
   "metadata": {},
   "outputs": [],
   "source": [
    "if (\n",
    "    not os.path.exists(\"data/bow_corpus.pkl\")\n",
    "    or not os.path.exists(\"data/bow_tags.pkl\")\n",
    "    or not os.path.exists(\"data/bow_title.pkl\")\n",
    "    or not os.path.exists(\"data/bow_body.pkl\")\n",
    "):\n",
    "    logging.warning(\"Missing bag of word: run EDA notebook first\")\n",
    "else:\n",
    "    with open(\"data/bow_corpus.pkl\", \"rb\") as b_c:\n",
    "        bow_corpus = pickle.load(b_c)\n",
    "    with open(\"data/bow_tags.pkl\", \"rb\") as b_ta:\n",
    "        bow_tags = pickle.load(b_ta)\n",
    "    with open(\"data/bow_title.pkl\", \"rb\") as b_ti:\n",
    "        bow_title = pickle.load(b_ti)\n",
    "    with open(\"data/bow_body.pkl\", \"rb\") as b_b:\n",
    "        bow_body = pickle.load(b_b)"
   ]
  },
  {
   "cell_type": "markdown",
   "metadata": {},
   "source": [
    "Visualisation des données :"
   ]
  },
  {
   "cell_type": "code",
   "execution_count": 18,
   "metadata": {},
   "outputs": [
    {
     "name": "stdout",
     "output_type": "stream",
     "text": [
      "Data shape: (49992, 9)\n"
     ]
    },
    {
     "data": {
      "text/html": [
       "<div>\n",
       "<style scoped>\n",
       "    .dataframe tbody tr th:only-of-type {\n",
       "        vertical-align: middle;\n",
       "    }\n",
       "\n",
       "    .dataframe tbody tr th {\n",
       "        vertical-align: top;\n",
       "    }\n",
       "\n",
       "    .dataframe thead th {\n",
       "        text-align: right;\n",
       "    }\n",
       "</style>\n",
       "<table border=\"1\" class=\"dataframe\">\n",
       "  <thead>\n",
       "    <tr style=\"text-align: right;\">\n",
       "      <th></th>\n",
       "      <th>Title</th>\n",
       "      <th>Body</th>\n",
       "      <th>Tags</th>\n",
       "      <th>Score</th>\n",
       "      <th>AnswerCount</th>\n",
       "      <th>CreationDate</th>\n",
       "      <th>ViewCount</th>\n",
       "      <th>title_tokens</th>\n",
       "      <th>body_tokens</th>\n",
       "    </tr>\n",
       "  </thead>\n",
       "  <tbody>\n",
       "    <tr>\n",
       "      <th>0</th>\n",
       "      <td>itms- : missing api declaration - privacy</td>\n",
       "      <td>why am i all of a suddent getting this on succ...</td>\n",
       "      <td>[ios, app-store, plist, appstore-approval, pri...</td>\n",
       "      <td>24</td>\n",
       "      <td>7</td>\n",
       "      <td>2024-03-14 22:55:18</td>\n",
       "      <td>3092</td>\n",
       "      <td>[itms, missing, api, declaration, privacy]</td>\n",
       "      <td>[suddent, getting, successful, builds, apple]</td>\n",
       "    </tr>\n",
       "    <tr>\n",
       "      <th>1</th>\n",
       "      <td>why is builtin sorted() slower for a list cont...</td>\n",
       "      <td>i sorted four similar lists. list consistently...</td>\n",
       "      <td>[python, algorithm, performance, sorting, time...</td>\n",
       "      <td>28</td>\n",
       "      <td>2</td>\n",
       "      <td>2024-03-05 15:21:50</td>\n",
       "      <td>2699</td>\n",
       "      <td>[builtin, sorted, slower, list, containing, de...</td>\n",
       "      <td>[sorted, four, similar, lists, list, consisten...</td>\n",
       "    </tr>\n",
       "    <tr>\n",
       "      <th>2</th>\n",
       "      <td>std::shared_mutex::unlock_shared() blocks even...</td>\n",
       "      <td>my team has encountered a deadlock that i susp...</td>\n",
       "      <td>[c++, windows, multithreading, stl, shared-lock]</td>\n",
       "      <td>26</td>\n",
       "      <td>5</td>\n",
       "      <td>2024-03-01 23:09:59</td>\n",
       "      <td>1388</td>\n",
       "      <td>[std, shared_mutex, unlock_shared, blocks, eve...</td>\n",
       "      <td>[team, encountered, deadlock, suspect, bug, wi...</td>\n",
       "    </tr>\n",
       "    <tr>\n",
       "      <th>3</th>\n",
       "      <td>did the rules for nullptr init of unique_ptr c...</td>\n",
       "      <td>this code compiles with msvc from vs in c++ mo...</td>\n",
       "      <td>[c++, visual-c++, language-lawyer, unique-ptr,...</td>\n",
       "      <td>15</td>\n",
       "      <td>1</td>\n",
       "      <td>2024-02-22 11:29:42</td>\n",
       "      <td>490</td>\n",
       "      <td>[rules, nullptr, init, unique_ptr, change, c++]</td>\n",
       "      <td>[code, compiles, msvc, c++, mode, failes, c++,...</td>\n",
       "    </tr>\n",
       "    <tr>\n",
       "      <th>4</th>\n",
       "      <td>where is the order in which elf relocations ar...</td>\n",
       "      <td>consider the following two files on a linux sy...</td>\n",
       "      <td>[c++, elf, dynamic-linking, abi, relocation]</td>\n",
       "      <td>16</td>\n",
       "      <td>1</td>\n",
       "      <td>2024-02-19 21:42:03</td>\n",
       "      <td>1746</td>\n",
       "      <td>[order, elf, relocations, applied, specified]</td>\n",
       "      <td>[consider, following, two, files, linux, syste...</td>\n",
       "    </tr>\n",
       "  </tbody>\n",
       "</table>\n",
       "</div>"
      ],
      "text/plain": [
       "                                               Title  \\\n",
       "0          itms- : missing api declaration - privacy   \n",
       "1  why is builtin sorted() slower for a list cont...   \n",
       "2  std::shared_mutex::unlock_shared() blocks even...   \n",
       "3  did the rules for nullptr init of unique_ptr c...   \n",
       "4  where is the order in which elf relocations ar...   \n",
       "\n",
       "                                                Body  \\\n",
       "0  why am i all of a suddent getting this on succ...   \n",
       "1  i sorted four similar lists. list consistently...   \n",
       "2  my team has encountered a deadlock that i susp...   \n",
       "3  this code compiles with msvc from vs in c++ mo...   \n",
       "4  consider the following two files on a linux sy...   \n",
       "\n",
       "                                                Tags  Score  AnswerCount  \\\n",
       "0  [ios, app-store, plist, appstore-approval, pri...     24            7   \n",
       "1  [python, algorithm, performance, sorting, time...     28            2   \n",
       "2   [c++, windows, multithreading, stl, shared-lock]     26            5   \n",
       "3  [c++, visual-c++, language-lawyer, unique-ptr,...     15            1   \n",
       "4       [c++, elf, dynamic-linking, abi, relocation]     16            1   \n",
       "\n",
       "          CreationDate  ViewCount  \\\n",
       "0  2024-03-14 22:55:18       3092   \n",
       "1  2024-03-05 15:21:50       2699   \n",
       "2  2024-03-01 23:09:59       1388   \n",
       "3  2024-02-22 11:29:42        490   \n",
       "4  2024-02-19 21:42:03       1746   \n",
       "\n",
       "                                        title_tokens  \\\n",
       "0         [itms, missing, api, declaration, privacy]   \n",
       "1  [builtin, sorted, slower, list, containing, de...   \n",
       "2  [std, shared_mutex, unlock_shared, blocks, eve...   \n",
       "3    [rules, nullptr, init, unique_ptr, change, c++]   \n",
       "4      [order, elf, relocations, applied, specified]   \n",
       "\n",
       "                                         body_tokens  \n",
       "0      [suddent, getting, successful, builds, apple]  \n",
       "1  [sorted, four, similar, lists, list, consisten...  \n",
       "2  [team, encountered, deadlock, suspect, bug, wi...  \n",
       "3  [code, compiles, msvc, c++, mode, failes, c++,...  \n",
       "4  [consider, following, two, files, linux, syste...  "
      ]
     },
     "metadata": {},
     "output_type": "display_data"
    },
    {
     "name": "stdout",
     "output_type": "stream",
     "text": [
      "Corpus contains 110288 tokens:\n",
      "- tags: 16975 tokens\n",
      "- title: 27467 tokens\n",
      "- body: 103820 tokens\n"
     ]
    }
   ],
   "source": [
    "print(f\"Data shape: {df.shape}\")\n",
    "display(df.head())\n",
    "print(f\"Corpus contains {len(bow_corpus)} tokens:\")\n",
    "print(f\"- tags: {len(bow_tags)} tokens\")\n",
    "print(f\"- title: {len(bow_title)} tokens\")\n",
    "print(f\"- body: {len(bow_body)} tokens\")"
   ]
  },
  {
   "cell_type": "markdown",
   "metadata": {},
   "source": [
    "# <a id='toc2_'></a>[FYI 🚧](#toc0_)"
   ]
  },
  {
   "cell_type": "markdown",
   "metadata": {},
   "source": [
    "🚧 add / remove item"
   ]
  },
  {
   "cell_type": "code",
   "execution_count": 5,
   "metadata": {},
   "outputs": [],
   "source": [
    "# items_to_keep = [\"s\", \"t\", \"d\"]\n",
    "# keep_set, exclude_set = words_filter(items_to_keep, \"add\", keep_set, exclude_set)\n",
    "\n",
    "# items_to_remove = [s for s in mutual if s not in items_to_keep]\n",
    "# keep_set, exclude_set = words_filter(items_to_remove, \"rm\", keep_set, exclude_set)"
   ]
  },
  {
   "cell_type": "markdown",
   "metadata": {},
   "source": [
    "# <a id='toc3_'></a>[🦄🦄 CHECKPOINT 🦄🦄](#toc0_)"
   ]
  },
  {
   "cell_type": "markdown",
   "metadata": {},
   "source": [
    "# <a id='toc4_'></a>[🚧 TODO](#toc0_)\n",
    "\n",
    "- aller sur les modèles (non supervisé puis supervisé puis word2vec, cf. ci-dessous)\n",
    "- voir NMF et LDA et leurs différences, points forts et usages\n",
    "- non supervisé : faire un premier algo simple (régression logistique, SGD ... et voir comment faire pour deviner plusieurs labels (regarder avec predict_proba aussi)\n",
    "- faire des prédictions\n",
    "- aller jusqu’au bout de l’exercice et voir après\n",
    "- regarder si des classes de mots (par exemple les adjectifs) sont à enlever à un moment pour améliorer les capacités"
   ]
  },
  {
   "cell_type": "markdown",
   "metadata": {},
   "source": [
    "# <a id='toc5_'></a>[TF-IDF](#toc0_)"
   ]
  },
  {
   "cell_type": "code",
   "execution_count": 9,
   "metadata": {},
   "outputs": [
    {
     "data": {
      "text/plain": [
       "array(['.a', '.d.ts', '.htaccess', ..., '≥3gb', 'ꭲᏻꮎꮅꮝꮤꮕ', 'ꮝꭶꮪꭹ'],\n",
       "      dtype=object)"
      ]
     },
     "execution_count": 9,
     "metadata": {},
     "output_type": "execute_result"
    }
   ],
   "source": [
    "corpus = df[\"title_tokens\"].apply(lambda x: \" \".join(x)).to_list()\n",
    "\n",
    "vectorizer = TfidfVectorizer(token_pattern=r\"\\S+\")\n",
    "X = vectorizer.fit_transform(corpus)\n",
    "vectorizer.get_feature_names_out()"
   ]
  },
  {
   "cell_type": "markdown",
   "metadata": {},
   "source": [
    "🚧 retrouver quelle est la valeur à choper : la plus grande ou la plus petite ?"
   ]
  },
  {
   "cell_type": "code",
   "execution_count": 19,
   "metadata": {},
   "outputs": [
    {
     "name": "stdout",
     "output_type": "stream",
     "text": [
      "zero-allocation\n",
      "deducing\n"
     ]
    }
   ],
   "source": [
    "print(vectorizer.get_feature_names_out()[27374])\n",
    "print(vectorizer.get_feature_names_out()[5850])"
   ]
  },
  {
   "cell_type": "code",
   "execution_count": 23,
   "metadata": {},
   "outputs": [
    {
     "name": "stdout",
     "output_type": "stream",
     "text": [
      "(49992, 27467)\n",
      "rules nullptr init unique_ptr change c++\n",
      "  (0, 3130)\t0.2834497346141111\n",
      "  (0, 3539)\t0.2899654868517161\n",
      "  (0, 25379)\t0.44353148817255206\n",
      "  (0, 11024)\t0.4337465763016716\n",
      "  (0, 16103)\t0.5227410752336996\n",
      "  (0, 20711)\t0.4212621027241501\n",
      "possible make zero-allocation coroutine runtime c++\n",
      "  (0, 20733)\t0.38323367323801016\n",
      "  (0, 4957)\t0.44759039077813456\n",
      "  (0, 27374)\t0.6106012392508993\n",
      "  (0, 13599)\t0.30367593187981645\n",
      "  (0, 18061)\t0.322079623372116\n",
      "  (0, 3130)\t0.28983886042117574\n",
      "combined c++ deducing conversion operator auto return type\n",
      "  (0, 24937)\t0.23851073947605095\n",
      "  (0, 20389)\t0.28451267433583277\n",
      "  (0, 1961)\t0.33663611732903503\n",
      "  (0, 16656)\t0.32927354874944426\n",
      "  (0, 4853)\t0.3606642271063403\n",
      "  (0, 5850)\t0.5117041064725818\n",
      "  (0, 4271)\t0.4259144731422853\n",
      "  (0, 3130)\t0.25903147332563975\n"
     ]
    }
   ],
   "source": [
    "print(X.shape)\n",
    "print(corpus[3])\n",
    "print(X[3])\n",
    "print(corpus[6])\n",
    "print(X[6])\n",
    "print(corpus[7])\n",
    "print(X[7])"
   ]
  },
  {
   "cell_type": "code",
   "execution_count": 121,
   "metadata": {},
   "outputs": [
    {
     "name": "stdout",
     "output_type": "stream",
     "text": [
      "[0.28344973 0.28996549 0.44353149 0.43374658 0.52274108 0.4212621 ]\n",
      "[ 3130  3539 25379 11024 16103 20711]\n",
      "  (0, 3130)\t0.2834497346141111\n",
      "  (0, 3539)\t0.2899654868517161\n",
      "  (0, 25379)\t0.44353148817255206\n",
      "  (0, 11024)\t0.4337465763016716\n",
      "  (0, 16103)\t0.5227410752336996\n",
      "  (0, 20711)\t0.4212621027241501\n",
      "[0 1 5 3 2 4]\n",
      "[4 2 3 5 1 0]\n",
      "[16103 25379 11024]\n",
      "rules nullptr init unique_ptr change c++\n"
     ]
    },
    {
     "data": {
      "text/plain": [
       "([['nullptr', 'unique_ptr', 'init']],\n",
       " [array([0.52274108, 0.44353149, 0.43374658])])"
      ]
     },
     "execution_count": 121,
     "metadata": {},
     "output_type": "execute_result"
    }
   ],
   "source": [
    "_ = X[3].copy()\n",
    "d = X[3].copy().data\n",
    "i = X[3].copy().indices\n",
    "\n",
    "print(d)\n",
    "print(i)\n",
    "print(_)\n",
    "\n",
    "sorted_x = np.argsort(d)\n",
    "print(sorted_x)\n",
    "sorted_x = np.argsort(-d)\n",
    "print(sorted_x)\n",
    "\n",
    "def predict_idf(vectorizer, X, n_max):\n",
    "    \"\"\"Predict a maximum of n_max results from a vectorizer and a transformed sparse matrix X.\"\"\"\n",
    "    d = X.data ; i = X.indices\n",
    "\n",
    "    # get highest weights\n",
    "    weights = [np.sort(d)[::-1][:min(len(i), n_max)]]\n",
    "\n",
    "    # get corresponding indices\n",
    "    pred_indices = [i[np.argsort(-d)][:min(len(i), n_max)]]\n",
    "\n",
    "    # get corresponding words\n",
    "    preds = [\n",
    "        [vectorizer.get_feature_names_out()[x] for x in pred_indices[0]]\n",
    "    ]\n",
    "\n",
    "    return preds, weights\n",
    "\n",
    "print(i[np.argsort(-d)][:min(len(i), 3)])\n",
    "\n",
    "print(corpus[3])\n",
    "predict_idf(vectorizer, X[3], 3)\n",
    "\n",
    "\n",
    "# def predict_idf(vectorizer, X, n_max):\n",
    "#     results = []\n",
    "#     for i, e in enumerate(X.data):\n",
    "#         results.append(vectorizer.get_feature_names_out()[x])\n",
    "#     return results\n",
    "\n",
    "# for x in i:\n",
    "#     results.append(vectorizer.get_feature_names_out()[x])\n",
    "# results"
   ]
  },
  {
   "cell_type": "code",
   "execution_count": 69,
   "metadata": {},
   "outputs": [
    {
     "name": "stdout",
     "output_type": "stream",
     "text": [
      "(49992, 27467)\n"
     ]
    }
   ],
   "source": [
    "print(X.shape)"
   ]
  },
  {
   "cell_type": "markdown",
   "metadata": {},
   "source": []
  }
 ],
 "metadata": {
  "kernelspec": {
   "display_name": "Python 3 (ipykernel)",
   "language": "python",
   "name": "python3"
  }
 },
 "nbformat": 4,
 "nbformat_minor": 2
}
