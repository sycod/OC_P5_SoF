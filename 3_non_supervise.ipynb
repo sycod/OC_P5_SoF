{
 "cells": [
  {
   "cell_type": "markdown",
   "metadata": {},
   "source": [
    "**Table of contents**<a id='toc0_'></a>    \n",
    "- [Mise en place](#toc1_)    \n",
    "  - [Chargement des données](#toc1_1_)    \n",
    "  - [Visualisations](#toc1_2_)    \n",
    "  - [Préparation des données](#toc1_3_)    \n",
    "- [Stratégie](#toc2_)    \n",
    "- [TF-IDF](#toc3_)    \n",
    "- [CountVectorizer](#toc4_)    \n",
    "- [🦄🦄 CHECKPOINT 🦄🦄](#toc5_)    \n",
    "- [LDA](#toc6_)    \n",
    "- [🚧 vrac utile](#toc7_)    \n",
    "\n",
    "<!-- vscode-jupyter-toc-config\n",
    "\tnumbering=false\n",
    "\tanchor=true\n",
    "\tflat=false\n",
    "\tminLevel=1\n",
    "\tmaxLevel=3\n",
    "\t/vscode-jupyter-toc-config -->\n",
    "<!-- THIS CELL WILL BE REPLACED ON TOC UPDATE. DO NOT WRITE YOUR TEXT IN THIS CELL -->"
   ]
  },
  {
   "cell_type": "markdown",
   "metadata": {},
   "source": [
    "# <a id='toc1_'></a>[Mise en place](#toc0_)"
   ]
  },
  {
   "cell_type": "code",
   "execution_count": 19,
   "metadata": {},
   "outputs": [],
   "source": [
    "# OS & env\n",
    "import os\n",
    "import logging\n",
    "\n",
    "# DS\n",
    "import numpy as np\n",
    "import pandas as pd\n",
    "import dill as pickle\n",
    "\n",
    "# ML\n",
    "from sklearn.feature_extraction.text import TfidfVectorizer\n",
    "from sklearn.feature_extraction.text import CountVectorizer\n",
    "\n",
    "# home made functions from the src folder\n",
    "from src.scrap_and_clean import words_filter\n",
    "from src.models import results_from_vec_matrix\n",
    "\n",
    "# logging configuration (see all outputs, even DEBUG or INFO)\n",
    "logger = logging.getLogger()\n",
    "logger.setLevel(logging.DEBUG)"
   ]
  },
  {
   "cell_type": "markdown",
   "metadata": {},
   "source": [
    "## <a id='toc1_1_'></a>[Chargement des données](#toc0_)"
   ]
  },
  {
   "cell_type": "code",
   "execution_count": 2,
   "metadata": {},
   "outputs": [],
   "source": [
    "if not os.path.exists(\"data/df_preprocessed.pkl\") or not os.path.exists(\n",
    "    \"data/stats_df.pkl\"\n",
    "):\n",
    "    logging.warning(\"Missing data: run EDA notebook first\")\n",
    "else:\n",
    "    with open(\"data/df_preprocessed.pkl\", \"rb\") as df:\n",
    "        df = pickle.load(df)\n",
    "    with open(\"data/stats_df.pkl\", \"rb\") as st:\n",
    "        stats_df = pickle.load(st)"
   ]
  },
  {
   "cell_type": "markdown",
   "metadata": {},
   "source": [
    "## <a id='toc1_2_'></a>[Visualisations](#toc0_)"
   ]
  },
  {
   "cell_type": "markdown",
   "metadata": {},
   "source": [
    "Jeu de données"
   ]
  },
  {
   "cell_type": "code",
   "execution_count": 3,
   "metadata": {},
   "outputs": [
    {
     "data": {
      "text/html": [
       "<div>\n",
       "<style scoped>\n",
       "    .dataframe tbody tr th:only-of-type {\n",
       "        vertical-align: middle;\n",
       "    }\n",
       "\n",
       "    .dataframe tbody tr th {\n",
       "        vertical-align: top;\n",
       "    }\n",
       "\n",
       "    .dataframe thead th {\n",
       "        text-align: right;\n",
       "    }\n",
       "</style>\n",
       "<table border=\"1\" class=\"dataframe\">\n",
       "  <thead>\n",
       "    <tr style=\"text-align: right;\">\n",
       "      <th></th>\n",
       "      <th>Title</th>\n",
       "      <th>Body</th>\n",
       "      <th>Tags</th>\n",
       "      <th>Score</th>\n",
       "      <th>AnswerCount</th>\n",
       "      <th>CreationDate</th>\n",
       "      <th>ViewCount</th>\n",
       "      <th>title_tokens</th>\n",
       "      <th>body_tokens</th>\n",
       "    </tr>\n",
       "  </thead>\n",
       "  <tbody>\n",
       "    <tr>\n",
       "      <th>0</th>\n",
       "      <td>itms- : missing api declaration - privacy</td>\n",
       "      <td>why am i all of a suddent getting this on succ...</td>\n",
       "      <td>[ios, app-store, plist, appstore-approval, pri...</td>\n",
       "      <td>24</td>\n",
       "      <td>7</td>\n",
       "      <td>2024-03-14 22:55:18</td>\n",
       "      <td>3092</td>\n",
       "      <td>[itms, missing, api, declaration, privacy]</td>\n",
       "      <td>[suddent, getting, successful, builds, apple]</td>\n",
       "    </tr>\n",
       "    <tr>\n",
       "      <th>1</th>\n",
       "      <td>why is builtin sorted() slower for a list cont...</td>\n",
       "      <td>i sorted four similar lists. list consistently...</td>\n",
       "      <td>[python, algorithm, performance, sorting, time...</td>\n",
       "      <td>28</td>\n",
       "      <td>2</td>\n",
       "      <td>2024-03-05 15:21:50</td>\n",
       "      <td>2699</td>\n",
       "      <td>[builtin, sorted, slower, list, containing, de...</td>\n",
       "      <td>[sorted, four, similar, lists, list, consisten...</td>\n",
       "    </tr>\n",
       "    <tr>\n",
       "      <th>2</th>\n",
       "      <td>std::shared_mutex::unlock_shared() blocks even...</td>\n",
       "      <td>my team has encountered a deadlock that i susp...</td>\n",
       "      <td>[c++, windows, multithreading, stl, shared-lock]</td>\n",
       "      <td>26</td>\n",
       "      <td>5</td>\n",
       "      <td>2024-03-01 23:09:59</td>\n",
       "      <td>1388</td>\n",
       "      <td>[std, shared_mutex, unlock_shared, blocks, eve...</td>\n",
       "      <td>[team, encountered, deadlock, suspect, bug, wi...</td>\n",
       "    </tr>\n",
       "    <tr>\n",
       "      <th>3</th>\n",
       "      <td>did the rules for nullptr init of unique_ptr c...</td>\n",
       "      <td>this code compiles with msvc from vs in c++ mo...</td>\n",
       "      <td>[c++, visual-c++, language-lawyer, unique-ptr,...</td>\n",
       "      <td>15</td>\n",
       "      <td>1</td>\n",
       "      <td>2024-02-22 11:29:42</td>\n",
       "      <td>490</td>\n",
       "      <td>[rules, nullptr, init, unique_ptr, change, c++]</td>\n",
       "      <td>[compiles, msvc, c++, mode, failes, c++, mode,...</td>\n",
       "    </tr>\n",
       "    <tr>\n",
       "      <th>4</th>\n",
       "      <td>where is the order in which elf relocations ar...</td>\n",
       "      <td>consider the following two files on a linux sy...</td>\n",
       "      <td>[c++, elf, dynamic-linking, abi, relocation]</td>\n",
       "      <td>16</td>\n",
       "      <td>1</td>\n",
       "      <td>2024-02-19 21:42:03</td>\n",
       "      <td>1746</td>\n",
       "      <td>[order, elf, relocations, applied, specified]</td>\n",
       "      <td>[consider, following, two, linux, system, use_...</td>\n",
       "    </tr>\n",
       "  </tbody>\n",
       "</table>\n",
       "</div>"
      ],
      "text/plain": [
       "                                               Title  \\\n",
       "0          itms- : missing api declaration - privacy   \n",
       "1  why is builtin sorted() slower for a list cont...   \n",
       "2  std::shared_mutex::unlock_shared() blocks even...   \n",
       "3  did the rules for nullptr init of unique_ptr c...   \n",
       "4  where is the order in which elf relocations ar...   \n",
       "\n",
       "                                                Body  \\\n",
       "0  why am i all of a suddent getting this on succ...   \n",
       "1  i sorted four similar lists. list consistently...   \n",
       "2  my team has encountered a deadlock that i susp...   \n",
       "3  this code compiles with msvc from vs in c++ mo...   \n",
       "4  consider the following two files on a linux sy...   \n",
       "\n",
       "                                                Tags  Score  AnswerCount  \\\n",
       "0  [ios, app-store, plist, appstore-approval, pri...     24            7   \n",
       "1  [python, algorithm, performance, sorting, time...     28            2   \n",
       "2   [c++, windows, multithreading, stl, shared-lock]     26            5   \n",
       "3  [c++, visual-c++, language-lawyer, unique-ptr,...     15            1   \n",
       "4       [c++, elf, dynamic-linking, abi, relocation]     16            1   \n",
       "\n",
       "          CreationDate  ViewCount  \\\n",
       "0  2024-03-14 22:55:18       3092   \n",
       "1  2024-03-05 15:21:50       2699   \n",
       "2  2024-03-01 23:09:59       1388   \n",
       "3  2024-02-22 11:29:42        490   \n",
       "4  2024-02-19 21:42:03       1746   \n",
       "\n",
       "                                        title_tokens  \\\n",
       "0         [itms, missing, api, declaration, privacy]   \n",
       "1  [builtin, sorted, slower, list, containing, de...   \n",
       "2  [std, shared_mutex, unlock_shared, blocks, eve...   \n",
       "3    [rules, nullptr, init, unique_ptr, change, c++]   \n",
       "4      [order, elf, relocations, applied, specified]   \n",
       "\n",
       "                                         body_tokens  \n",
       "0      [suddent, getting, successful, builds, apple]  \n",
       "1  [sorted, four, similar, lists, list, consisten...  \n",
       "2  [team, encountered, deadlock, suspect, bug, wi...  \n",
       "3  [compiles, msvc, c++, mode, failes, c++, mode,...  \n",
       "4  [consider, following, two, linux, system, use_...  "
      ]
     },
     "metadata": {},
     "output_type": "display_data"
    },
    {
     "name": "stdout",
     "output_type": "stream",
     "text": [
      "DF shape: (49991, 9)\n",
      "Corpus contains 110199 tokens\n"
     ]
    }
   ],
   "source": [
    "display(df.head())\n",
    "print(f\"DF shape: {df.shape}\")\n",
    "print(f'Corpus contains {len(stats_df[\"count_corpus\"])} tokens')"
   ]
  },
  {
   "cell_type": "markdown",
   "metadata": {},
   "source": [
    "## <a id='toc1_3_'></a>[Préparation des données](#toc0_)"
   ]
  },
  {
   "cell_type": "markdown",
   "metadata": {},
   "source": [
    "Passage des tokens à des listes de chaînes"
   ]
  },
  {
   "cell_type": "code",
   "execution_count": 4,
   "metadata": {},
   "outputs": [],
   "source": [
    "tags = df[\"Tags\"].apply(lambda x: \" \".join(x)).to_list()\n",
    "titles = df[\"title_tokens\"].apply(lambda x: \" \".join(x)).to_list()\n",
    "bodies = df[\"body_tokens\"].apply(lambda x: \" \".join(x)).to_list()\n",
    "corpus = titles + bodies"
   ]
  },
  {
   "cell_type": "markdown",
   "metadata": {},
   "source": [
    "# <a id='toc2_'></a>[Stratégie](#toc0_)"
   ]
  },
  {
   "cell_type": "markdown",
   "metadata": {},
   "source": [
    "Pour tester ces modèles, les **entraînements se font sur les titres des questions**, partant du postulat que les titres des questions pertinentes sont proportionnellement plus représentatifs du contenu."
   ]
  },
  {
   "cell_type": "markdown",
   "metadata": {},
   "source": [
    "Création d'un titre fictif pour tests ultérieurs"
   ]
  },
  {
   "cell_type": "code",
   "execution_count": null,
   "metadata": {},
   "outputs": [],
   "source": [
    "dummy_title = [\n",
    "    \"i have a c# issue with overflow memory in library kazakhstanislas causing many problems in my code\"\n",
    "]"
   ]
  },
  {
   "cell_type": "markdown",
   "metadata": {},
   "source": [
    "# <a id='toc3_'></a>[TF-IDF](#toc0_)"
   ]
  },
  {
   "cell_type": "markdown",
   "metadata": {},
   "source": [
    "[Documentation ScikitLearn](https://scikit-learn.org/stable/modules/generated/sklearn.feature_extraction.text.TfidfVectorizer.html)"
   ]
  },
  {
   "cell_type": "markdown",
   "metadata": {},
   "source": [
    "🚧 Un modèle simple de prédictions pourrait être de se baser sur les fréquences de monogrammes présents dans un corpus."
   ]
  },
  {
   "cell_type": "markdown",
   "metadata": {},
   "source": [
    "Entraînement du modèle sur les titres"
   ]
  },
  {
   "cell_type": "code",
   "execution_count": 6,
   "metadata": {},
   "outputs": [],
   "source": [
    "tfidf_vectorizer = TfidfVectorizer(token_pattern=r\"\\S+\", min_df=10)\n",
    "tfidf_fitted_on_titles = tfidf_vectorizer.fit(titles)\n",
    "tfidf_names = tfidf_vectorizer.get_feature_names_out()"
   ]
  },
  {
   "cell_type": "markdown",
   "metadata": {},
   "source": [
    "Prédiction sur un titre fictif"
   ]
  },
  {
   "cell_type": "code",
   "execution_count": 34,
   "metadata": {},
   "outputs": [],
   "source": [
    "X = tfidf_fitted_on_titles.transform(dummy_title)"
   ]
  },
  {
   "cell_type": "code",
   "execution_count": 35,
   "metadata": {},
   "outputs": [
    {
     "name": "stdout",
     "output_type": "stream",
     "text": [
      "  (0, 2406)\t0.4225848164936134\n",
      "  (0, 2183)\t0.43017407326637275\n",
      "  (0, 1910)\t0.3212781028824765\n",
      "  (0, 1865)\t0.38769906625276496\n",
      "  (0, 1751)\t0.30575535188555975\n",
      "  (0, 428)\t0.429166067593399\n",
      "  (0, 380)\t0.32430279895986563\n"
     ]
    }
   ],
   "source": [
    "print(X)"
   ]
  },
  {
   "cell_type": "code",
   "execution_count": 39,
   "metadata": {},
   "outputs": [
    {
     "name": "stdout",
     "output_type": "stream",
     "text": [
      "['overflow', 'causing', 'problems', 'many', 'c#']\n",
      "[0.43017407326637275, 0.429166067593399, 0.4225848164936134, 0.38769906625276496, 0.32430279895986563]\n"
     ]
    }
   ],
   "source": [
    "predictions = results_from_vec_matrix(tfidf_vectorizer, X, 5)\n",
    "print(predictions[\"tokens\"])\n",
    "print(predictions[\"weights\"])"
   ]
  },
  {
   "cell_type": "markdown",
   "metadata": {},
   "source": [
    "On constate que TF-IDF, par son fonctionnement, ne propose pas facilement des tags fréquents, tels que les noms de langages informatiques ou bibliothèques régulièrement utilisées : c'est là une des limites de cette approche simple."
   ]
  },
  {
   "cell_type": "markdown",
   "metadata": {},
   "source": [
    "# <a id='toc4_'></a>[CountVectorizer](#toc0_)"
   ]
  },
  {
   "cell_type": "markdown",
   "metadata": {},
   "source": [
    "[Documentation ScikitLearn](https://scikit-learn.org/stable/modules/generated/sklearn.feature_extraction.text.CountVectorizer.html)"
   ]
  },
  {
   "cell_type": "markdown",
   "metadata": {},
   "source": [
    "🚧 Réutilisation de CountVectorizer sur les données => LDA l'utilise en entrée"
   ]
  },
  {
   "cell_type": "markdown",
   "metadata": {},
   "source": [
    "Modèle de comptage vectoriel"
   ]
  },
  {
   "cell_type": "markdown",
   "metadata": {},
   "source": [
    "# <a id='toc5_'></a>[🦄🦄 CHECKPOINT 🦄🦄](#toc0_)\n",
    "\n",
    "🚧 refaire comme TFIDF (filtres, etc.)"
   ]
  },
  {
   "cell_type": "code",
   "execution_count": 9,
   "metadata": {},
   "outputs": [],
   "source": [
    "count_vectorizer = CountVectorizer(token_pattern=r\"\\S+\", dtype=np.uint16)"
   ]
  },
  {
   "cell_type": "markdown",
   "metadata": {},
   "source": [
    "Matrice des titres"
   ]
  },
  {
   "cell_type": "code",
   "execution_count": 10,
   "metadata": {},
   "outputs": [],
   "source": [
    "cv_fitted_on_titles = count_vectorizer.fit(titles)\n",
    "cv_titles = cv_fitted_on_titles.transform(titles)\n",
    "names_titles = count_vectorizer.get_feature_names_out()"
   ]
  },
  {
   "cell_type": "markdown",
   "metadata": {},
   "source": [
    "Exemple avec un titre fictif"
   ]
  },
  {
   "cell_type": "code",
   "execution_count": 11,
   "metadata": {},
   "outputs": [
    {
     "name": "stdout",
     "output_type": "stream",
     "text": [
      "  (0, 3129)\t1\n",
      "  (0, 14055)\t30\n",
      "  (0, 16987)\t30\n"
     ]
    }
   ],
   "source": [
    "_ = cv_fitted_on_titles.transform(dummy_title)\n",
    "print(_)"
   ]
  },
  {
   "cell_type": "markdown",
   "metadata": {},
   "source": [
    "Matrice des corps de texte"
   ]
  },
  {
   "cell_type": "code",
   "execution_count": 12,
   "metadata": {},
   "outputs": [],
   "source": [
    "cv_fitted_on_bodies = count_vectorizer.fit(bodies)\n",
    "cv_bodies = cv_fitted_on_bodies.transform(bodies)\n",
    "names_bodies = count_vectorizer.get_feature_names_out()"
   ]
  },
  {
   "cell_type": "markdown",
   "metadata": {},
   "source": [
    "# <a id='toc6_'></a>[LDA](#toc0_)"
   ]
  },
  {
   "cell_type": "markdown",
   "metadata": {},
   "source": [
    "[Documentation ScikitLearn](https://scikit-learn.org/stable/modules/generated/sklearn.decomposition.LatentDirichletAllocation.html)"
   ]
  },
  {
   "cell_type": "markdown",
   "metadata": {},
   "source": [
    "Modèle LDA"
   ]
  },
  {
   "cell_type": "code",
   "execution_count": 13,
   "metadata": {},
   "outputs": [],
   "source": [
    "from sklearn.decomposition import LatentDirichletAllocation\n",
    "\n",
    "# define a maximum number of topics (each represented by some words)\n",
    "n_topics = 20\n",
    "\n",
    "# LDA model\n",
    "lda = LatentDirichletAllocation(\n",
    "    n_components=n_topics,\n",
    "    max_iter=5,\n",
    "    learning_method=\"online\",\n",
    "    learning_offset=50.0,\n",
    "    random_state=0,\n",
    ")"
   ]
  },
  {
   "cell_type": "markdown",
   "metadata": {},
   "source": [
    "Entraînement et transformation sur les titres"
   ]
  },
  {
   "cell_type": "code",
   "execution_count": 14,
   "metadata": {},
   "outputs": [
    {
     "ename": "NameError",
     "evalue": "name 'count_vec_titles' is not defined",
     "output_type": "error",
     "traceback": [
      "\u001b[0;31m---------------------------------------------------------------------------\u001b[0m",
      "\u001b[0;31mNameError\u001b[0m                                 Traceback (most recent call last)",
      "Cell \u001b[0;32mIn[14], line 1\u001b[0m\n\u001b[0;32m----> 1\u001b[0m lda\u001b[38;5;241m.\u001b[39mfit(\u001b[43mcount_vec_titles\u001b[49m)\n",
      "\u001b[0;31mNameError\u001b[0m: name 'count_vec_titles' is not defined"
     ]
    }
   ],
   "source": [
    "lda.fit(count_vec_titles)"
   ]
  },
  {
   "cell_type": "markdown",
   "metadata": {},
   "source": [
    "Exemple de prédiction sur un titre (biaisé car dans l'entraînement : pour exemple seulement)"
   ]
  },
  {
   "cell_type": "code",
   "execution_count": null,
   "metadata": {},
   "outputs": [],
   "source": [
    "index = 0"
   ]
  },
  {
   "cell_type": "code",
   "execution_count": null,
   "metadata": {},
   "outputs": [
    {
     "name": "stdout",
     "output_type": "stream",
     "text": [
      "Testing title 0:\n",
      "    itms missing api declaration privacy\n"
     ]
    }
   ],
   "source": [
    "print(f\"Testing title {index}:\\n    {title[index]}\")"
   ]
  },
  {
   "cell_type": "code",
   "execution_count": null,
   "metadata": {},
   "outputs": [
    {
     "name": "stdout",
     "output_type": "stream",
     "text": [
      "  (0, 11736)\t1\n",
      "  (0, 14424)\t1\n",
      "  (0, 1232)\t1\n",
      "  (0, 5793)\t1\n",
      "  (0, 18389)\t1\n"
     ]
    }
   ],
   "source": [
    "print(count_vec_titles[0])"
   ]
  },
  {
   "cell_type": "code",
   "execution_count": null,
   "metadata": {},
   "outputs": [
    {
     "data": {
      "text/plain": [
       "array([[0.00833333, 0.00833333, 0.175     , 0.00833333, 0.00833333,\n",
       "        0.175     , 0.00833333, 0.00833333, 0.00833333, 0.50833333,\n",
       "        0.00833333, 0.00833333, 0.00833333, 0.00833333, 0.00833333,\n",
       "        0.00833333, 0.00833333, 0.00833333, 0.00833333, 0.00833333]])"
      ]
     },
     "execution_count": 132,
     "metadata": {},
     "output_type": "execute_result"
    }
   ],
   "source": [
    "lda.transform(count_vec_titles[0])"
   ]
  },
  {
   "cell_type": "code",
   "execution_count": null,
   "metadata": {},
   "outputs": [
    {
     "data": {
      "text/plain": [
       "array([0.05      , 0.0500058 , 0.05000073, ..., 0.37103332, 0.05      ,\n",
       "       0.05      ])"
      ]
     },
     "execution_count": 131,
     "metadata": {},
     "output_type": "execute_result"
    }
   ],
   "source": [
    "lda.components_[0]"
   ]
  },
  {
   "cell_type": "markdown",
   "metadata": {},
   "source": [
    "Affichage des topics"
   ]
  },
  {
   "cell_type": "code",
   "execution_count": null,
   "metadata": {},
   "outputs": [],
   "source": [
    "def get_topics(model, feature_names, n_top_words) -> list:\n",
    "    \"\"\"Display the topics of a LDA model.\"\"\"\n",
    "    topics = []\n",
    "    for topic in model.components_:\n",
    "        topics.append(\n",
    "            \" \".join(\n",
    "                [feature_names[i] for i in topic.argsort()[: -n_top_words - 1 : -1]]\n",
    "            )\n",
    "        )\n",
    "\n",
    "    return topics\n",
    "\n",
    "\n",
    "n_top_words = 10\n",
    "topics = get_topics(lda, names_titles, n_top_words)"
   ]
  },
  {
   "cell_type": "code",
   "execution_count": null,
   "metadata": {},
   "outputs": [
    {
     "data": {
      "text/plain": [
       "'file swift ios error xcode build app running version command'"
      ]
     },
     "execution_count": 125,
     "metadata": {},
     "output_type": "execute_result"
    }
   ],
   "source": [
    "topics[0]"
   ]
  },
  {
   "cell_type": "code",
   "execution_count": null,
   "metadata": {},
   "outputs": [],
   "source": []
  },
  {
   "cell_type": "code",
   "execution_count": null,
   "metadata": {},
   "outputs": [
    {
     "name": "stdout",
     "output_type": "stream",
     "text": [
      "27467\n",
      "[0.05 0.05 0.05 ... 0.05 0.05 0.05]\n",
      "[ 1232  4924 26931  1647 26504  8835     3 25250 21451  3129]\n",
      "27467\n",
      "[0.05       0.0500058  0.05000073 ... 0.37103332 0.05       0.05      ]\n",
      "api core working asp.net web framework .net unable service c#\n"
     ]
    }
   ],
   "source": [
    "print(len(lda.components_[2]))\n",
    "print(lda.components_[2])\n",
    "print(lda.components_[2].argsort()[:-11:-1])\n",
    "print(len(lda.components_[0]))\n",
    "print(lda.components_[0])\n",
    "print(\" \".join([names_titles[i] for i in lda.components_[2].argsort()[:-11:-1]]))"
   ]
  },
  {
   "cell_type": "markdown",
   "metadata": {},
   "source": [
    "# <a id='toc7_'></a>[🚧 vrac utile](#toc0_)"
   ]
  },
  {
   "cell_type": "code",
   "execution_count": 5,
   "metadata": {},
   "outputs": [
    {
     "data": {
      "text/html": [
       "<div>\n",
       "<style scoped>\n",
       "    .dataframe tbody tr th:only-of-type {\n",
       "        vertical-align: middle;\n",
       "    }\n",
       "\n",
       "    .dataframe tbody tr th {\n",
       "        vertical-align: top;\n",
       "    }\n",
       "\n",
       "    .dataframe thead th {\n",
       "        text-align: right;\n",
       "    }\n",
       "</style>\n",
       "<table border=\"1\" class=\"dataframe\">\n",
       "  <thead>\n",
       "    <tr style=\"text-align: right;\">\n",
       "      <th></th>\n",
       "      <th>token</th>\n",
       "      <th>count_corpus</th>\n",
       "      <th>freq_corpus</th>\n",
       "      <th>count_tags</th>\n",
       "      <th>freq_tags</th>\n",
       "      <th>count_title</th>\n",
       "      <th>freq_title</th>\n",
       "      <th>count_body</th>\n",
       "      <th>freq_body</th>\n",
       "    </tr>\n",
       "  </thead>\n",
       "  <tbody>\n",
       "    <tr>\n",
       "      <th>6471</th>\n",
       "      <td>android</td>\n",
       "      <td>7848</td>\n",
       "      <td>0.002476</td>\n",
       "      <td>4762</td>\n",
       "      <td>0.019051</td>\n",
       "      <td>2038</td>\n",
       "      <td>0.006975</td>\n",
       "      <td>5810</td>\n",
       "      <td>0.002019</td>\n",
       "    </tr>\n",
       "    <tr>\n",
       "      <th>76811</th>\n",
       "      <td>python</td>\n",
       "      <td>7636</td>\n",
       "      <td>0.002409</td>\n",
       "      <td>7301</td>\n",
       "      <td>0.029209</td>\n",
       "      <td>1916</td>\n",
       "      <td>0.006557</td>\n",
       "      <td>5720</td>\n",
       "      <td>0.001988</td>\n",
       "    </tr>\n",
       "    <tr>\n",
       "      <th>7807</th>\n",
       "      <td>app</td>\n",
       "      <td>15812</td>\n",
       "      <td>0.004988</td>\n",
       "      <td>0</td>\n",
       "      <td>0.000000</td>\n",
       "      <td>1423</td>\n",
       "      <td>0.004870</td>\n",
       "      <td>14389</td>\n",
       "      <td>0.005000</td>\n",
       "    </tr>\n",
       "    <tr>\n",
       "      <th>90332</th>\n",
       "      <td>spring</td>\n",
       "      <td>4756</td>\n",
       "      <td>0.001500</td>\n",
       "      <td>1579</td>\n",
       "      <td>0.006317</td>\n",
       "      <td>1377</td>\n",
       "      <td>0.004712</td>\n",
       "      <td>3379</td>\n",
       "      <td>0.001174</td>\n",
       "    </tr>\n",
       "    <tr>\n",
       "      <th>39069</th>\n",
       "      <td>get</td>\n",
       "      <td>21012</td>\n",
       "      <td>0.006628</td>\n",
       "      <td>34</td>\n",
       "      <td>0.000136</td>\n",
       "      <td>1323</td>\n",
       "      <td>0.004528</td>\n",
       "      <td>19689</td>\n",
       "      <td>0.006842</td>\n",
       "    </tr>\n",
       "    <tr>\n",
       "      <th>...</th>\n",
       "      <td>...</td>\n",
       "      <td>...</td>\n",
       "      <td>...</td>\n",
       "      <td>...</td>\n",
       "      <td>...</td>\n",
       "      <td>...</td>\n",
       "      <td>...</td>\n",
       "      <td>...</td>\n",
       "      <td>...</td>\n",
       "    </tr>\n",
       "    <tr>\n",
       "      <th>30037</th>\n",
       "      <td>dropout</td>\n",
       "      <td>77</td>\n",
       "      <td>0.000024</td>\n",
       "      <td>3</td>\n",
       "      <td>0.000012</td>\n",
       "      <td>11</td>\n",
       "      <td>0.000038</td>\n",
       "      <td>66</td>\n",
       "      <td>0.000023</td>\n",
       "    </tr>\n",
       "    <tr>\n",
       "      <th>75194</th>\n",
       "      <td>producing</td>\n",
       "      <td>121</td>\n",
       "      <td>0.000038</td>\n",
       "      <td>0</td>\n",
       "      <td>0.000000</td>\n",
       "      <td>11</td>\n",
       "      <td>0.000038</td>\n",
       "      <td>110</td>\n",
       "      <td>0.000038</td>\n",
       "    </tr>\n",
       "    <tr>\n",
       "      <th>95187</th>\n",
       "      <td>tablet</td>\n",
       "      <td>86</td>\n",
       "      <td>0.000027</td>\n",
       "      <td>8</td>\n",
       "      <td>0.000032</td>\n",
       "      <td>11</td>\n",
       "      <td>0.000038</td>\n",
       "      <td>75</td>\n",
       "      <td>0.000026</td>\n",
       "    </tr>\n",
       "    <tr>\n",
       "      <th>40107</th>\n",
       "      <td>glue</td>\n",
       "      <td>55</td>\n",
       "      <td>0.000017</td>\n",
       "      <td>0</td>\n",
       "      <td>0.000000</td>\n",
       "      <td>11</td>\n",
       "      <td>0.000038</td>\n",
       "      <td>44</td>\n",
       "      <td>0.000015</td>\n",
       "    </tr>\n",
       "    <tr>\n",
       "      <th>27206</th>\n",
       "      <td>detail</td>\n",
       "      <td>366</td>\n",
       "      <td>0.000115</td>\n",
       "      <td>0</td>\n",
       "      <td>0.000000</td>\n",
       "      <td>11</td>\n",
       "      <td>0.000038</td>\n",
       "      <td>355</td>\n",
       "      <td>0.000123</td>\n",
       "    </tr>\n",
       "  </tbody>\n",
       "</table>\n",
       "<p>3432 rows × 9 columns</p>\n",
       "</div>"
      ],
      "text/plain": [
       "           token  count_corpus  freq_corpus  count_tags  freq_tags  \\\n",
       "6471     android          7848     0.002476        4762   0.019051   \n",
       "76811     python          7636     0.002409        7301   0.029209   \n",
       "7807         app         15812     0.004988           0   0.000000   \n",
       "90332     spring          4756     0.001500        1579   0.006317   \n",
       "39069        get         21012     0.006628          34   0.000136   \n",
       "...          ...           ...          ...         ...        ...   \n",
       "30037    dropout            77     0.000024           3   0.000012   \n",
       "75194  producing           121     0.000038           0   0.000000   \n",
       "95187     tablet            86     0.000027           8   0.000032   \n",
       "40107       glue            55     0.000017           0   0.000000   \n",
       "27206     detail           366     0.000115           0   0.000000   \n",
       "\n",
       "       count_title  freq_title  count_body  freq_body  \n",
       "6471          2038    0.006975        5810   0.002019  \n",
       "76811         1916    0.006557        5720   0.001988  \n",
       "7807          1423    0.004870       14389   0.005000  \n",
       "90332         1377    0.004712        3379   0.001174  \n",
       "39069         1323    0.004528       19689   0.006842  \n",
       "...            ...         ...         ...        ...  \n",
       "30037           11    0.000038          66   0.000023  \n",
       "75194           11    0.000038         110   0.000038  \n",
       "95187           11    0.000038          75   0.000026  \n",
       "40107           11    0.000038          44   0.000015  \n",
       "27206           11    0.000038         355   0.000123  \n",
       "\n",
       "[3432 rows x 9 columns]"
      ]
     },
     "execution_count": 5,
     "metadata": {},
     "output_type": "execute_result"
    }
   ],
   "source": [
    "stats_df.loc[stats_df.count_title > 10].sort_values(by=\"count_title\", ascending=False)"
   ]
  }
 ],
 "metadata": {
  "kernelspec": {
   "display_name": "Python 3 (ipykernel)",
   "language": "python",
   "name": "python3"
  },
  "language_info": {
   "codemirror_mode": {
    "name": "ipython",
    "version": 3
   },
   "file_extension": ".py",
   "mimetype": "text/x-python",
   "name": "python",
   "nbconvert_exporter": "python",
   "pygments_lexer": "ipython3",
   "version": "3.11.8"
  }
 },
 "nbformat": 4,
 "nbformat_minor": 2
}
