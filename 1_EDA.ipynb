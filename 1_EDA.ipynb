{
 "cells": [
  {
   "cell_type": "markdown",
   "metadata": {},
   "source": [
    "**Table of contents**<a id='toc0_'></a>    \n",
    "- [Mise en place](#toc1_)    \n",
    "  - [Fonctions et classes](#toc1_1_)    \n",
    "  - [Récupération des données](#toc1_2_)    \n",
    "- [Nettoyage des données](#toc2_)    \n",
    "  - [Langages de programmation de Wikipedia](#toc2_1_)    \n",
    "  - [xxxxxxxxxxxxxxx](#toc2_2_)    \n",
    "\n",
    "<!-- vscode-jupyter-toc-config\n",
    "\tnumbering=false\n",
    "\tanchor=true\n",
    "\tflat=false\n",
    "\tminLevel=1\n",
    "\tmaxLevel=6\n",
    "\t/vscode-jupyter-toc-config -->\n",
    "<!-- THIS CELL WILL BE REPLACED ON TOC UPDATE. DO NOT WRITE YOUR TEXT IN THIS CELL -->"
   ]
  },
  {
   "cell_type": "markdown",
   "metadata": {},
   "source": [
    "# <a id='toc1_'></a>[Mise en place](#toc0_)"
   ]
  },
  {
   "cell_type": "code",
   "execution_count": 223,
   "metadata": {},
   "outputs": [],
   "source": [
    "import numpy as np\n",
    "import pandas as pd\n",
    "import re\n",
    "\n",
    "# for web scraping\n",
    "import urllib.request, json \n",
    "from html.parser import HTMLParser"
   ]
  },
  {
   "cell_type": "markdown",
   "metadata": {},
   "source": [
    "## <a id='toc1_1_'></a>[Fonctions et classes](#toc0_)\n",
    "\n",
    "🚧 à modulariser"
   ]
  },
  {
   "cell_type": "code",
   "execution_count": 224,
   "metadata": {},
   "outputs": [],
   "source": [
    "class LangParser(HTMLParser):\n",
    "    \"\"\"Parse names from an extracted HTML\"\"\"\n",
    "    def __init__(self):\n",
    "        HTMLParser.__init__(self)\n",
    "        self.recording = 0\n",
    "        self.data = set()\n",
    "\n",
    "    def handle_starttag(self, tag, attrs):\n",
    "        if tag == \"a\":\n",
    "            self.recording = 1\n",
    "\n",
    "    def handle_endtag(self, tag):\n",
    "        if tag == \"a\":\n",
    "            self.recording = 0\n",
    "\n",
    "    def handle_data(self, data):\n",
    "        if self.recording:\n",
    "            # avoid adding edit links\n",
    "            if data.strip() != \"edit\":\n",
    "                # remove everything between parentheses\n",
    "                data = re.sub(r'\\([^)]*\\)', '', data)\n",
    "                # remove start & end white spaces + convert to lower case\n",
    "                data = data.strip().lower()\n",
    "                self.data.add(data)\n",
    "\n",
    "\n",
    "def get_languages():\n",
    "    \"\"\"Return the list of programming languages from Wikipedia\"\"\"\n",
    "    url = \"https://en.wikipedia.org/w/api.php?action=parse&page=List_of_programming_languages&prop=text&format=json&disabletoc=1&formatversion=2\"\n",
    "    with urllib.request.urlopen(url) as response:\n",
    "        scrap = json.load(response)[\"parse\"][\"text\"]\n",
    "\n",
    "    # get all programming languages ever declared on Wikipedia\n",
    "    start = scrap.find('<h2><span class=\"mw-headline\" id=\"A')\n",
    "    end = scrap.find('<h2><span class=\"mw-headline\" id=\"See_also')\n",
    "    scrap = scrap[start:end]\n",
    "\n",
    "    parser = LangParser()\n",
    "    parser.feed(scrap)\n",
    "    prog_langs = parser.data\n",
    "    \n",
    "    return prog_langs\n",
    "\n",
    "\n",
    "def clean_string(string, excluded=None):\n",
    "    \"\"\"Return a cleaned version of an input string\"\"\"\n",
    "    # remove code tags\n",
    "    string = re.sub(r\"<code>.*?<\\/code>\", \"\", string, flags=re.S)\n",
    "    # remove img tags\n",
    "    string = re.sub(r\"<img.*?>\", \"\", string)\n",
    "    # remove all html tags\n",
    "    string = re.sub(r\"<.*?>\", \"\", string)\n",
    "    # remove newlines\n",
    "    string = re.sub(r\"\\n\", \" \", string)\n",
    "    # lowercase\n",
    "    string = string.lower()\n",
    "    # keep only letters, digits, spaces and some useful characters\n",
    "    string = re.sub(r\"[^\\w *'#+_.-]\", \" \", string)\n",
    "    # remove suspension points\n",
    "    string = re.sub(r\"\\.\\.\\.\", \" \", string)\n",
    "    # remove multiple spaces\n",
    "    string = re.sub(r\" +\", \" \", string)\n",
    "\n",
    "    # remove digits only tokens\n",
    "    string = re.sub(r\"\\s\\d+\\s\", \" \", string)\n",
    "    # remove symbols only tokens\n",
    "    string = re.sub(r\"\\s\\W\\s\", \" \", string)\n",
    "\n",
    "    words = string.split()\n",
    "    for w in words:\n",
    "        if excluded:\n",
    "            if w not in excluded:\n",
    "                # remove 1-letter words\n",
    "                if len(w) == 1:\n",
    "                    words.remove(w)\n",
    "                # remove points at the end of words\n",
    "                if len(w) > 1 and w[-1] == \".\":\n",
    "                    words[words.index(w)] = w[:-1]\n",
    "    string = \" \".join(words)\n",
    "    return string\n",
    "\n"
   ]
  },
  {
   "cell_type": "markdown",
   "metadata": {},
   "source": [
    "## <a id='toc1_2_'></a>[Récupération des données](#toc0_)"
   ]
  },
  {
   "cell_type": "markdown",
   "metadata": {},
   "source": [
    "[Requête SQL data.stackexchange.com ici](https://data.stackexchange.com/stackoverflow/query/1824062/top-50k-relevant-questions)\n",
    "\n",
    "⇒ compromis fait entre qualité maximale et contraintes (≥ 5 tags)\n",
    "- pour qualité, score ≥ 10 et > 3 réponses\n",
    "\n",
    "🚧 >=1 réponse : voir cohérence & qualité\n",
    "\n",
    "- dates jusqu’à 2009, cohérent\n",
    "- reste à spectre large pour tout type de question\n",
    "\n",
    "seules features indispensables & RGPD dans la requête\n",
    "\n",
    "# 🚧 voir cohérence des tags en place"
   ]
  },
  {
   "cell_type": "code",
   "execution_count": 225,
   "metadata": {},
   "outputs": [],
   "source": [
    "df_raw = pd.read_csv(\"data/2024-03-11 QueryResults.csv\")"
   ]
  },
  {
   "cell_type": "markdown",
   "metadata": {},
   "source": [
    "# <a id='toc2_'></a>[Nettoyage des données](#toc0_)"
   ]
  },
  {
   "cell_type": "code",
   "execution_count": 226,
   "metadata": {},
   "outputs": [],
   "source": [
    "# remove useless features\n",
    "df = df_raw.drop(columns=[\"Score\", \"AnswerCount\", \"CreationDate\"])"
   ]
  },
  {
   "cell_type": "code",
   "execution_count": 227,
   "metadata": {},
   "outputs": [],
   "source": [
    "# change Tags string to list\n",
    "df[\"Tags\"] = df[\"Tags\"].apply(lambda x: x[1:-2].split(\"><\"))"
   ]
  },
  {
   "cell_type": "markdown",
   "metadata": {},
   "source": [
    "## Termes spécifiques"
   ]
  },
  {
   "cell_type": "markdown",
   "metadata": {},
   "source": [
    "### Tags existants"
   ]
  },
  {
   "cell_type": "code",
   "execution_count": 228,
   "metadata": {},
   "outputs": [
    {
     "name": "stdout",
     "output_type": "stream",
     "text": [
      "Found 22629 existing tags\n"
     ]
    }
   ],
   "source": [
    "def add_tags(x):\n",
    "    for e in x: tags.add(e)\n",
    "\n",
    "# use a set to avoid duplicates\n",
    "tags = set()\n",
    "df[\"Tags\"].apply(lambda x: add_tags(x))\n",
    "print(f\"Found {len(tags)} existing tags\")"
   ]
  },
  {
   "cell_type": "markdown",
   "metadata": {},
   "source": [
    "### <a id='toc2_1_'></a>[Langages de programmation de Wikipedia](#toc0_)\n",
    "\n",
    "Sur StackOverFlow, les noms de langages informatiques dans les dialogues sont fréquents.  \n",
    "Non seulement ils ont des syntaxes spécifiques (.QL, C++, S, C#...) facilement éliminées par des traitements de caractères spécifiques, mais ils sont également représentatifs du sujet et font souvent partie des tags."
   ]
  },
  {
   "cell_type": "markdown",
   "metadata": {},
   "source": [
    "🚧 [HTML Parser](https://stackoverflow.com/questions/59660495/python-html-extract-text-into-list) : (cf. [question SoF](https://stackoverflow.com/questions/59660495/python-html-extract-text-into-list))  \n",
    "[RegEx JL](https://www.notion.so/julmat/RegEx-expressions-r-guli-res-70fbbcb177ee476ba9a5ae011d14fe6f) & [RegEx 101](https://regex101.com/?flavor=python&flags=gm)"
   ]
  },
  {
   "cell_type": "code",
   "execution_count": 229,
   "metadata": {},
   "outputs": [
    {
     "name": "stdout",
     "output_type": "stream",
     "text": [
      "Found 692 programming languages on Wikipedia\n"
     ]
    }
   ],
   "source": [
    "prog_lang = get_languages()\n",
    "print(f\"Found {len(prog_lang)} programming languages on Wikipedia\")"
   ]
  },
  {
   "cell_type": "markdown",
   "metadata": {},
   "source": [
    "### Ensemble complet des termes"
   ]
  },
  {
   "cell_type": "code",
   "execution_count": 230,
   "metadata": {},
   "outputs": [
    {
     "name": "stdout",
     "output_type": "stream",
     "text": [
      "Total: 23184 specific terms\n"
     ]
    }
   ],
   "source": [
    "# concatenate all specific terms\n",
    "spec_terms = prog_lang.union(tags)\n",
    "print(f\"Total: {len(spec_terms)} specific terms\")"
   ]
  },
  {
   "cell_type": "markdown",
   "metadata": {},
   "source": [
    "# XXXXXXXXXXXXXXXXXXXXXXXX"
   ]
  },
  {
   "cell_type": "code",
   "execution_count": 231,
   "metadata": {},
   "outputs": [
    {
     "data": {
      "text/plain": [
       "\"<p>I have functions like the following:</p>\\n<pre><code>const char* get_message() {\\n    return &quot;This is a constant message, will NOT change forever!&quot;;\\n};\\n\\nconst char* get_message2() {\\n    return &quot;message2&quot;;\\n};\\n</code></pre>\\n<p>And I'm planning to use them everywhere my app, even though in different threads.</p>\\n<p>I'm wondering about the life time of these strings, i.e. whether it's safe to use these <code>const char*</code> string out of the function <code>get_message</code>.</p>\\n<p>I guess that a hard coded <code>const char*</code> string will be compiled into the codes segment of a app instead of the data segments, so maybe it is safely to use them as above?</p>\\n\""
      ]
     },
     "execution_count": 231,
     "metadata": {},
     "output_type": "execute_result"
    }
   ],
   "source": [
    "df[\"Body\"][3]"
   ]
  },
  {
   "cell_type": "code",
   "execution_count": 232,
   "metadata": {},
   "outputs": [],
   "source": [
    "df[\"Body\"] = df[\"Body\"].apply(clean_string, excluded=spec_terms)\n",
    "df[\"Title\"] = df[\"Title\"].apply(clean_string, excluded=spec_terms)"
   ]
  },
  {
   "cell_type": "code",
   "execution_count": 233,
   "metadata": {},
   "outputs": [
    {
     "data": {
      "text/html": [
       "<div>\n",
       "<style scoped>\n",
       "    .dataframe tbody tr th:only-of-type {\n",
       "        vertical-align: middle;\n",
       "    }\n",
       "\n",
       "    .dataframe tbody tr th {\n",
       "        vertical-align: top;\n",
       "    }\n",
       "\n",
       "    .dataframe thead th {\n",
       "        text-align: right;\n",
       "    }\n",
       "</style>\n",
       "<table border=\"1\" class=\"dataframe\">\n",
       "  <thead>\n",
       "    <tr style=\"text-align: right;\">\n",
       "      <th></th>\n",
       "      <th>Title</th>\n",
       "      <th>Body</th>\n",
       "      <th>Tags</th>\n",
       "    </tr>\n",
       "  </thead>\n",
       "  <tbody>\n",
       "    <tr>\n",
       "      <th>0</th>\n",
       "      <td>std shared_mutex unlock_shared blocks even tho...</td>\n",
       "      <td>my team has encountered deadlock that i suspec...</td>\n",
       "      <td>[c++, windows, multithreading, stl, shared-loc]</td>\n",
       "    </tr>\n",
       "    <tr>\n",
       "      <th>1</th>\n",
       "      <td>what is the correct output of sizeof string</td>\n",
       "      <td>on microcontroller in order to avoid loading s...</td>\n",
       "      <td>[c, language-lawyer, sizeof, string-literals, ...</td>\n",
       "    </tr>\n",
       "    <tr>\n",
       "      <th>2</th>\n",
       "      <td>problem loading external scripts like jquery</td>\n",
       "      <td>i'm facing problem since this morning with web...</td>\n",
       "      <td>[javascript, html, jquery, google-apps-script,...</td>\n",
       "    </tr>\n",
       "    <tr>\n",
       "      <th>3</th>\n",
       "      <td>does const char* literal string persistently e...</td>\n",
       "      <td>i have functions like the following and i'm pl...</td>\n",
       "      <td>[c++, constants, constexpr, lifetime, null-ter...</td>\n",
       "    </tr>\n",
       "    <tr>\n",
       "      <th>4</th>\n",
       "      <td>willpopscope is deprecated in flutter</td>\n",
       "      <td>'willpopscope' is deprecated and shouldn't be ...</td>\n",
       "      <td>[flutter, dart, mobile, cross-platform, deprec...</td>\n",
       "    </tr>\n",
       "    <tr>\n",
       "      <th>...</th>\n",
       "      <td>...</td>\n",
       "      <td>...</td>\n",
       "      <td>...</td>\n",
       "    </tr>\n",
       "    <tr>\n",
       "      <th>49995</th>\n",
       "      <td>the activator for bundle is invalid</td>\n",
       "      <td>i'm trying to create simple plugin in eclipse ...</td>\n",
       "      <td>[java, eclipse, eclipse-plugin, osgi, osgi-bundl]</td>\n",
       "    </tr>\n",
       "    <tr>\n",
       "      <th>49996</th>\n",
       "      <td>pre-allocate space for c++ stl queue</td>\n",
       "      <td>i'm writing radix sort algorithm using queues ...</td>\n",
       "      <td>[c++, performance, memory, stl, queu]</td>\n",
       "    </tr>\n",
       "    <tr>\n",
       "      <th>49997</th>\n",
       "      <td>adjusting the positions of the labels in uitab...</td>\n",
       "      <td>i'm using uitableviewcell with uitableviewcell...</td>\n",
       "      <td>[iphone, objective-c, cocoa-touch, iphone-sdk-...</td>\n",
       "    </tr>\n",
       "    <tr>\n",
       "      <th>49998</th>\n",
       "      <td>padding on stackpanel</td>\n",
       "      <td>i am trying to set padding of stackpanel but t...</td>\n",
       "      <td>[wpf, xaml, layout, padding, stackpane]</td>\n",
       "    </tr>\n",
       "    <tr>\n",
       "      <th>49999</th>\n",
       "      <td>list of all users and groups</td>\n",
       "      <td>i'm trying to get list of all users and all gr...</td>\n",
       "      <td>[c, objective-c, cocoa, macos, macos-carbo]</td>\n",
       "    </tr>\n",
       "  </tbody>\n",
       "</table>\n",
       "<p>50000 rows × 3 columns</p>\n",
       "</div>"
      ],
      "text/plain": [
       "                                                   Title  \\\n",
       "0      std shared_mutex unlock_shared blocks even tho...   \n",
       "1            what is the correct output of sizeof string   \n",
       "2           problem loading external scripts like jquery   \n",
       "3      does const char* literal string persistently e...   \n",
       "4                  willpopscope is deprecated in flutter   \n",
       "...                                                  ...   \n",
       "49995                the activator for bundle is invalid   \n",
       "49996               pre-allocate space for c++ stl queue   \n",
       "49997  adjusting the positions of the labels in uitab...   \n",
       "49998                              padding on stackpanel   \n",
       "49999                       list of all users and groups   \n",
       "\n",
       "                                                    Body  \\\n",
       "0      my team has encountered deadlock that i suspec...   \n",
       "1      on microcontroller in order to avoid loading s...   \n",
       "2      i'm facing problem since this morning with web...   \n",
       "3      i have functions like the following and i'm pl...   \n",
       "4      'willpopscope' is deprecated and shouldn't be ...   \n",
       "...                                                  ...   \n",
       "49995  i'm trying to create simple plugin in eclipse ...   \n",
       "49996  i'm writing radix sort algorithm using queues ...   \n",
       "49997  i'm using uitableviewcell with uitableviewcell...   \n",
       "49998  i am trying to set padding of stackpanel but t...   \n",
       "49999  i'm trying to get list of all users and all gr...   \n",
       "\n",
       "                                                    Tags  \n",
       "0        [c++, windows, multithreading, stl, shared-loc]  \n",
       "1      [c, language-lawyer, sizeof, string-literals, ...  \n",
       "2      [javascript, html, jquery, google-apps-script,...  \n",
       "3      [c++, constants, constexpr, lifetime, null-ter...  \n",
       "4      [flutter, dart, mobile, cross-platform, deprec...  \n",
       "...                                                  ...  \n",
       "49995  [java, eclipse, eclipse-plugin, osgi, osgi-bundl]  \n",
       "49996              [c++, performance, memory, stl, queu]  \n",
       "49997  [iphone, objective-c, cocoa-touch, iphone-sdk-...  \n",
       "49998            [wpf, xaml, layout, padding, stackpane]  \n",
       "49999        [c, objective-c, cocoa, macos, macos-carbo]  \n",
       "\n",
       "[50000 rows x 3 columns]"
      ]
     },
     "execution_count": 233,
     "metadata": {},
     "output_type": "execute_result"
    }
   ],
   "source": [
    "df"
   ]
  },
  {
   "cell_type": "code",
   "execution_count": 234,
   "metadata": {},
   "outputs": [
    {
     "data": {
      "text/plain": [
       "\"i have functions like the following and i'm planning to use them everywhere my app even though in different threads. i'm wondering about the life time of these strings i.e whether it's safe to use these string out of the function i guess that hard coded string will be compiled into the codes segment of app instead of the data segments so maybe it is safely to use them as above\""
      ]
     },
     "execution_count": 234,
     "metadata": {},
     "output_type": "execute_result"
    }
   ],
   "source": [
    "df[\"Body\"][3]"
   ]
  },
  {
   "cell_type": "markdown",
   "metadata": {},
   "source": []
  }
 ],
 "metadata": {
  "kernelspec": {
   "display_name": "Python 3 (ipykernel)",
   "language": "python",
   "name": "python3"
  }
 },
 "nbformat": 4,
 "nbformat_minor": 2
}
