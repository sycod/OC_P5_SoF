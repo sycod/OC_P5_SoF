{
 "cells": [
  {
   "cell_type": "markdown",
   "metadata": {},
   "source": [
    "**Table of contents**<a id='toc0_'></a>    \n",
    "- [Mise en place](#toc1_)    \n",
    "  - [Fonctions et classes utiles](#toc1_1_)    \n",
    "  - [Récupération des données](#toc1_2_)    \n",
    "- [Nettoyage des données](#toc2_)    \n",
    "  - [Fonctions de nettoyage](#toc2_1_)    \n",
    "\n",
    "<!-- vscode-jupyter-toc-config\n",
    "\tnumbering=false\n",
    "\tanchor=true\n",
    "\tflat=false\n",
    "\tminLevel=1\n",
    "\tmaxLevel=6\n",
    "\t/vscode-jupyter-toc-config -->\n",
    "<!-- THIS CELL WILL BE REPLACED ON TOC UPDATE. DO NOT WRITE YOUR TEXT IN THIS CELL -->"
   ]
  },
  {
   "cell_type": "markdown",
   "metadata": {},
   "source": [
    "# <a id='toc1_'></a>[Mise en place](#toc0_)"
   ]
  },
  {
   "cell_type": "code",
   "execution_count": 118,
   "metadata": {},
   "outputs": [],
   "source": [
    "import numpy as np\n",
    "import pandas as pd\n",
    "import re\n",
    "\n",
    "# for web scraping\n",
    "import urllib.request, json \n",
    "from html.parser import HTMLParser"
   ]
  },
  {
   "cell_type": "markdown",
   "metadata": {},
   "source": [
    "## <a id='toc1_1_'></a>[Fonctions et classes utiles](#toc0_)"
   ]
  },
  {
   "cell_type": "code",
   "execution_count": 119,
   "metadata": {},
   "outputs": [],
   "source": [
    "class LangParser(HTMLParser):\n",
    "    \"\"\"Parse language names from Wikipedia extracted HTML\"\"\"\n",
    "    def __init__(self):\n",
    "        HTMLParser.__init__(self)\n",
    "        self.recording = 0\n",
    "        self.data = set()\n",
    "\n",
    "    def handle_starttag(self, tag, attrs):\n",
    "        if tag == \"a\":\n",
    "            self.recording = 1\n",
    "\n",
    "    def handle_endtag(self, tag):\n",
    "        if tag == \"a\":\n",
    "            self.recording = 0\n",
    "\n",
    "    def handle_data(self, data):\n",
    "        if self.recording:\n",
    "            # avoid adding edit links\n",
    "            if data.strip() != \"edit\":\n",
    "                # remove start & end white spaces + convert to lower case\n",
    "                data = data.strip().lower()\n",
    "                # remove everything between parentheses\n",
    "                data = re.sub(r'\\([^)]*\\)', '', data)\n",
    "                self.data.add(data)\n",
    "\n",
    "\n",
    "def clean_string(string):\n",
    "    \"\"\"Return a cleaned version of an input string\"\"\"\n",
    "    # remove code tags\n",
    "    string = re.sub(r\"<code>.*?<\\/code>\", \"\", string, flags=re.S)\n",
    "    # remove img tags\n",
    "    string = re.sub(r\"<img.*?>\", \"\", string)\n",
    "    # remove all html tags\n",
    "    string = re.sub(r\"<.*?>\", \"\", string)\n",
    "    # remove newlines\n",
    "    string = re.sub(r\"\\n\", \" \", string)\n",
    "    # lowercase\n",
    "    string = string.lower()\n",
    "    # keep only letters, digits, spaces and some useful characters\n",
    "    string = re.sub(r\"[^\\w _.-]\", \"\", string)\n",
    "    # remove multiple spaces\n",
    "    string = re.sub(r\" +\", \" \", string)\n",
    "\n",
    "    return string\n"
   ]
  },
  {
   "cell_type": "markdown",
   "metadata": {},
   "source": [
    "## <a id='toc1_2_'></a>[Récupération des données](#toc0_)"
   ]
  },
  {
   "cell_type": "markdown",
   "metadata": {},
   "source": [
    "[Requête SQL data.stackexchange.com ici](https://data.stackexchange.com/stackoverflow/query/1824062/top-50k-relevant-questions)\n",
    "\n",
    "⇒ compromis fait entre qualité maximale et contraintes (≥ 5 tags)\n",
    "- pour qualité, score ≥ 10 et > 3 réponses\n",
    "\n",
    "🚧 >=1 réponse : voir cohérence & qualité\n",
    "\n",
    "- dates jusqu’à 2009, cohérent\n",
    "- reste à spectre large pour tout type de question\n",
    "\n",
    "seules features indispensables & RGPD dans la requête"
   ]
  },
  {
   "cell_type": "code",
   "execution_count": 120,
   "metadata": {},
   "outputs": [],
   "source": [
    "df_raw = pd.read_csv(\"data/2024-03-11 QueryResults.csv\")"
   ]
  },
  {
   "cell_type": "markdown",
   "metadata": {},
   "source": [
    "# <a id='toc2_'></a>[Nettoyage des données](#toc0_)"
   ]
  },
  {
   "cell_type": "markdown",
   "metadata": {},
   "source": [
    "## Liste des langages de programmation"
   ]
  },
  {
   "cell_type": "code",
   "execution_count": 121,
   "metadata": {},
   "outputs": [],
   "source": [
    "with urllib.request.urlopen(\"https://en.wikipedia.org/w/api.php?action=parse&page=List_of_programming_languages&prop=text&format=json&disabletoc=1&formatversion=2\") as url:\n",
    "    scrap = json.load(url)[\"parse\"][\"text\"]\n",
    "\n",
    "# get all programming languages ever declared on Wikipedia\n",
    "start = scrap.find('<h2><span class=\"mw-headline\" id=\"A')\n",
    "end = scrap.find('<h2><span class=\"mw-headline\" id=\"See_also')\n",
    "scrap = scrap[start:end]"
   ]
  },
  {
   "cell_type": "code",
   "execution_count": 145,
   "metadata": {},
   "outputs": [
    {
     "name": "stdout",
     "output_type": "stream",
     "text": [
      "Found 693 programming languages on Wikipedia\n"
     ]
    }
   ],
   "source": [
    "parser = LangParser()\n",
    "parser.feed(scrap)\n",
    "prog_langs = parser.data\n",
    "print(f\"Found {len(prog_langs)} programming languages on Wikipedia\")"
   ]
  },
  {
   "cell_type": "markdown",
   "metadata": {},
   "source": [
    "## xxxxxxxxxxxxxxx"
   ]
  },
  {
   "cell_type": "code",
   "execution_count": 124,
   "metadata": {},
   "outputs": [],
   "source": [
    "# remove useless features\n",
    "df_raw.drop(columns=[\"Score\", \"AnswerCount\", \"CreationDate\"], inplace=True)\n",
    "# change Tags string to list\n",
    "df_raw[\"Tags\"] = df_raw[\"Tags\"].apply(lambda x: x[1:-2].split(\"><\"))"
   ]
  },
  {
   "cell_type": "markdown",
   "metadata": {},
   "source": [
    "🚧 Get an extract"
   ]
  },
  {
   "cell_type": "code",
   "execution_count": 125,
   "metadata": {},
   "outputs": [],
   "source": [
    "ex_body = df_raw[\"Body\"][0]"
   ]
  },
  {
   "cell_type": "code",
   "execution_count": 126,
   "metadata": {},
   "outputs": [
    {
     "data": {
      "text/html": [
       "<div>\n",
       "<style scoped>\n",
       "    .dataframe tbody tr th:only-of-type {\n",
       "        vertical-align: middle;\n",
       "    }\n",
       "\n",
       "    .dataframe tbody tr th {\n",
       "        vertical-align: top;\n",
       "    }\n",
       "\n",
       "    .dataframe thead th {\n",
       "        text-align: right;\n",
       "    }\n",
       "</style>\n",
       "<table border=\"1\" class=\"dataframe\">\n",
       "  <thead>\n",
       "    <tr style=\"text-align: right;\">\n",
       "      <th></th>\n",
       "      <th>Title</th>\n",
       "      <th>Body</th>\n",
       "      <th>Tags</th>\n",
       "    </tr>\n",
       "  </thead>\n",
       "  <tbody>\n",
       "    <tr>\n",
       "      <th>0</th>\n",
       "      <td>std::shared_mutex::unlock_shared() blocks even...</td>\n",
       "      <td>&lt;p&gt;My team has encountered a deadlock that I s...</td>\n",
       "      <td>[c++, windows, multithreading, stl, shared-loc]</td>\n",
       "    </tr>\n",
       "    <tr>\n",
       "      <th>1</th>\n",
       "      <td>What is the correct output of sizeof(\"string\")?</td>\n",
       "      <td>&lt;p&gt;On a microcontroller, in order to avoid loa...</td>\n",
       "      <td>[c, language-lawyer, sizeof, string-literals, ...</td>\n",
       "    </tr>\n",
       "    <tr>\n",
       "      <th>2</th>\n",
       "      <td>Problem loading external scripts like jQuery</td>\n",
       "      <td>&lt;p&gt;I'm facing a problem since this morning wit...</td>\n",
       "      <td>[javascript, html, jquery, google-apps-script,...</td>\n",
       "    </tr>\n",
       "    <tr>\n",
       "      <th>3</th>\n",
       "      <td>Does a const char* literal string persistently...</td>\n",
       "      <td>&lt;p&gt;I have functions like the following:&lt;/p&gt;\\n&lt;...</td>\n",
       "      <td>[c++, constants, constexpr, lifetime, null-ter...</td>\n",
       "    </tr>\n",
       "    <tr>\n",
       "      <th>4</th>\n",
       "      <td>WillPopScope is deprecated in Flutter</td>\n",
       "      <td>&lt;p&gt;'WillPopScope' is deprecated and shouldn't ...</td>\n",
       "      <td>[flutter, dart, mobile, cross-platform, deprec...</td>\n",
       "    </tr>\n",
       "    <tr>\n",
       "      <th>...</th>\n",
       "      <td>...</td>\n",
       "      <td>...</td>\n",
       "      <td>...</td>\n",
       "    </tr>\n",
       "    <tr>\n",
       "      <th>49995</th>\n",
       "      <td>The activator for bundle is invalid</td>\n",
       "      <td>&lt;p&gt;I'm trying to create a simple plugin in ecl...</td>\n",
       "      <td>[java, eclipse, eclipse-plugin, osgi, osgi-bundl]</td>\n",
       "    </tr>\n",
       "    <tr>\n",
       "      <th>49996</th>\n",
       "      <td>Pre-allocate space for C++ STL queue</td>\n",
       "      <td>&lt;p&gt;I'm writing a radix sort algorithm using qu...</td>\n",
       "      <td>[c++, performance, memory, stl, queu]</td>\n",
       "    </tr>\n",
       "    <tr>\n",
       "      <th>49997</th>\n",
       "      <td>Adjusting the positions of the labels in a UIT...</td>\n",
       "      <td>&lt;p&gt;I'm using a UITableViewCell with UITableVie...</td>\n",
       "      <td>[iphone, objective-c, cocoa-touch, iphone-sdk-...</td>\n",
       "    </tr>\n",
       "    <tr>\n",
       "      <th>49998</th>\n",
       "      <td>Padding on StackPanel?</td>\n",
       "      <td>&lt;p&gt;I am trying to set padding of a StackPanel ...</td>\n",
       "      <td>[wpf, xaml, layout, padding, stackpane]</td>\n",
       "    </tr>\n",
       "    <tr>\n",
       "      <th>49999</th>\n",
       "      <td>List of all users and groups</td>\n",
       "      <td>&lt;p&gt;I'm trying to get a list of &lt;strong&gt;all&lt;/st...</td>\n",
       "      <td>[c, objective-c, cocoa, macos, macos-carbo]</td>\n",
       "    </tr>\n",
       "  </tbody>\n",
       "</table>\n",
       "<p>50000 rows × 3 columns</p>\n",
       "</div>"
      ],
      "text/plain": [
       "                                                   Title  \\\n",
       "0      std::shared_mutex::unlock_shared() blocks even...   \n",
       "1        What is the correct output of sizeof(\"string\")?   \n",
       "2           Problem loading external scripts like jQuery   \n",
       "3      Does a const char* literal string persistently...   \n",
       "4                  WillPopScope is deprecated in Flutter   \n",
       "...                                                  ...   \n",
       "49995                The activator for bundle is invalid   \n",
       "49996               Pre-allocate space for C++ STL queue   \n",
       "49997  Adjusting the positions of the labels in a UIT...   \n",
       "49998                             Padding on StackPanel?   \n",
       "49999                       List of all users and groups   \n",
       "\n",
       "                                                    Body  \\\n",
       "0      <p>My team has encountered a deadlock that I s...   \n",
       "1      <p>On a microcontroller, in order to avoid loa...   \n",
       "2      <p>I'm facing a problem since this morning wit...   \n",
       "3      <p>I have functions like the following:</p>\\n<...   \n",
       "4      <p>'WillPopScope' is deprecated and shouldn't ...   \n",
       "...                                                  ...   \n",
       "49995  <p>I'm trying to create a simple plugin in ecl...   \n",
       "49996  <p>I'm writing a radix sort algorithm using qu...   \n",
       "49997  <p>I'm using a UITableViewCell with UITableVie...   \n",
       "49998  <p>I am trying to set padding of a StackPanel ...   \n",
       "49999  <p>I'm trying to get a list of <strong>all</st...   \n",
       "\n",
       "                                                    Tags  \n",
       "0        [c++, windows, multithreading, stl, shared-loc]  \n",
       "1      [c, language-lawyer, sizeof, string-literals, ...  \n",
       "2      [javascript, html, jquery, google-apps-script,...  \n",
       "3      [c++, constants, constexpr, lifetime, null-ter...  \n",
       "4      [flutter, dart, mobile, cross-platform, deprec...  \n",
       "...                                                  ...  \n",
       "49995  [java, eclipse, eclipse-plugin, osgi, osgi-bundl]  \n",
       "49996              [c++, performance, memory, stl, queu]  \n",
       "49997  [iphone, objective-c, cocoa-touch, iphone-sdk-...  \n",
       "49998            [wpf, xaml, layout, padding, stackpane]  \n",
       "49999        [c, objective-c, cocoa, macos, macos-carbo]  \n",
       "\n",
       "[50000 rows x 3 columns]"
      ]
     },
     "execution_count": 126,
     "metadata": {},
     "output_type": "execute_result"
    }
   ],
   "source": [
    "df_raw"
   ]
  },
  {
   "cell_type": "markdown",
   "metadata": {},
   "source": [
    "🚧 [HTML Parser](https://stackoverflow.com/questions/59660495/python-html-extract-text-into-list) : (cf. [question SoF](https://stackoverflow.com/questions/59660495/python-html-extract-text-into-list))  \n",
    "[RegEx JL](https://www.notion.so/julmat/RegEx-expressions-r-guli-res-70fbbcb177ee476ba9a5ae011d14fe6f) & [RegEx 101](https://regex101.com/?flavor=python&flags=gm)"
   ]
  },
  {
   "cell_type": "markdown",
   "metadata": {},
   "source": [
    "- suppr chiffres et caractères **seuls** \" 123 \" ou \".\"\n",
    "- suppr certains mots d'1 caractère (sauf si dans langages de programmation)\n",
    "- suppr mots 1 alpha + 1 chiffre\n",
    "- suppr points à la fin d'un mot\n",
    "- ne pas supprimer \"+\", \"#\" et autres caractères utiles (noms de langages)"
   ]
  },
  {
   "cell_type": "code",
   "execution_count": 127,
   "metadata": {},
   "outputs": [],
   "source": [
    "df_raw[\"Body\"] = df_raw[\"Body\"].apply(clean_string)\n",
    "df_raw[\"Title\"] = df_raw[\"Title\"].apply(clean_string)"
   ]
  },
  {
   "cell_type": "code",
   "execution_count": 128,
   "metadata": {},
   "outputs": [
    {
     "name": "stdout",
     "output_type": "stream",
     "text": [
      "<p>My team has encountered a deadlock that I suspect is a bug in the Windows implementation of SRW locks. The code below is a distilled version of real code. Here's the summary:</p>\n",
      "<ol>\n",
      "<li>Main thread acquires exclusive lock</li>\n",
      "<li>Main thread creates N children threads</li>\n",
      "<li>Each child thread\n",
      "<ol>\n",
      "<li>Acquires a shared lock</li>\n",
      "<li>Spins until all children have acquired a shared lock</li>\n",
      "<li>Releases the shared lock</li>\n",
      "</ol>\n",
      "</li>\n",
      "<li>Main thread releases exclusive lock</li>\n",
      "</ol>\n",
      "<p>Yes this could be done with std::latch in C++20. That's not the point.</p>\n",
      "<p>This code works <em>most</em> of the time. However roughly 1 in 5000 loops it deadlocks. When it deadlocks exactly 1 child successfully acquires a shared lock and N-1 children are stuck in <code>lock_shared()</code>. On Windows this function calls into <code>RtlAcquireSRWLockShared</code> and blocks in <code>NtWaitForAlertByThreadId</code>.</p>\n",
      "<p>The behavior is observed when used <code>std::shared_mutex</code> directly, <code>std::shared_lock</code>/<code>std::unique_lock</code>, or simply calling <code>SRW</code> functions directly.</p>\n",
      "<p>A <a href=\"https://devblogs.microsoft.com/oldnewthing/20170301-00/?p=95615\" rel=\"noreferrer\">2017 Raymond Chen post</a> asks about this exact behavior, but user error is blamed.</p>\n",
      "<p>This looks like an SRW bug to me. It's maybe worth noting that if a child doesn't attempt to latch and calls <code>unlock_shared</code> that this will wake its blocked siblings. There is nothing in the documentation for <code>std::shared_lock</code> or <code>*SRW*</code> that suggests is allowed to block even when there is not an active exclusive lock.</p>\n",
      "<p>This deadlock has not been observed on non-Windows platforms.</p>\n",
      "<p>Example code:</p>\n",
      "<pre><code>#include &lt;atomic&gt;\n",
      "#include &lt;cstdint&gt;\n",
      "#include &lt;iostream&gt;\n",
      "#include &lt;memory&gt;\n",
      "#include &lt;shared_mutex&gt;\n",
      "#include &lt;thread&gt;\n",
      "#include &lt;vector&gt;\n",
      "\n",
      "struct ThreadTestData {\n",
      "    int32_t numThreads = 0;\n",
      "    std::shared_mutex sharedMutex = {};\n",
      "    std::atomic&lt;int32_t&gt; readCounter;\n",
      "};\n",
      "\n",
      "int DoStuff(ThreadTestData* data) {\n",
      "    // Acquire reader lock\n",
      "    data-&gt;sharedMutex.lock_shared();\n",
      "\n",
      "    // wait until all read threads have acquired their shared lock\n",
      "    data-&gt;readCounter.fetch_add(1);\n",
      "    while (data-&gt;readCounter.load() != data-&gt;numThreads) {\n",
      "        std::this_thread::yield();\n",
      "    }\n",
      "\n",
      "    // Release reader lock\n",
      "    data-&gt;sharedMutex.unlock_shared();\n",
      "\n",
      "    return 0;\n",
      "}\n",
      "\n",
      "int main() {\n",
      "    int count = 0;\n",
      "    while (true) {\n",
      "        ThreadTestData data = {};\n",
      "        data.numThreads = 5;\n",
      "\n",
      "        // Acquire write lock\n",
      "        data.sharedMutex.lock();\n",
      "\n",
      "        // Create N threads\n",
      "        std::vector&lt;std::unique_ptr&lt;std::thread&gt;&gt; readerThreads;\n",
      "        readerThreads.reserve(data.numThreads);\n",
      "        for (int i = 0; i &lt; data.numThreads; ++i) {\n",
      "            readerThreads.emplace_back(std::make_unique&lt;std::thread&gt;(DoStuff, &amp;data));\n",
      "        }\n",
      "\n",
      "        // Release write lock\n",
      "        data.sharedMutex.unlock();\n",
      "\n",
      "        // Wait for all readers to succeed\n",
      "        for (auto&amp; thread : readerThreads) {\n",
      "            thread-&gt;join();\n",
      "        }\n",
      "\n",
      "        // Cleanup\n",
      "        readerThreads.clear();\n",
      "\n",
      "        // Spew so we can tell when it's deadlocked\n",
      "        count += 1;\n",
      "        std::cout &lt;&lt; count &lt;&lt; std::endl;\n",
      "    }\n",
      "\n",
      "    return 0;\n",
      "}\n",
      "</code></pre>\n",
      "<p>Here's a picture of the parallel stacks. You can see the main thread is correctly blocking on <code>thread::join</code>. One reader thread acquired the lock and is in a yield loop. Four reader threads are blocked within <code>lock_shared</code>.</p>\n",
      "<p><a href=\"https://i.stack.imgur.com/0z66o.png\" rel=\"noreferrer\"><img src=\"https://i.stack.imgur.com/0z66o.png\" alt=\"enter image description here\" /></a></p>\n",
      "\n",
      "my team has encountered a deadlock that i suspect is a bug in the windows implementation of srw locks. the code below is a distilled version of real code. heres the summary main thread acquires exclusive lock main thread creates n children threads each child thread acquires a shared lock spins until all children have acquired a shared lock releases the shared lock main thread releases exclusive lock yes this could be done with stdlatch in c20. thats not the point. this code works most of the time. however roughly 1 in 5000 loops it deadlocks. when it deadlocks exactly 1 child successfully acquires a shared lock and n-1 children are stuck in . on windows this function calls into and blocks in . the behavior is observed when used directly or simply calling functions directly. a 2017 raymond chen post asks about this exact behavior but user error is blamed. this looks like an srw bug to me. its maybe worth noting that if a child doesnt attempt to latch and calls that this will wake its blocked siblings. there is nothing in the documentation for or that suggests is allowed to block even when there is not an active exclusive lock. this deadlock has not been observed on non-windows platforms. example code heres a picture of the parallel stacks. you can see the main thread is correctly blocking on . one reader thread acquired the lock and is in a yield loop. four reader threads are blocked within . \n"
     ]
    }
   ],
   "source": [
    "print(ex_body)\n",
    "print(df_raw[\"Body\"][0])"
   ]
  },
  {
   "cell_type": "code",
   "execution_count": 129,
   "metadata": {},
   "outputs": [
    {
     "data": {
      "text/plain": [
       "'stdshared_mutexunlock_shared blocks even though there are no active exclusive locks on windows'"
      ]
     },
     "metadata": {},
     "output_type": "display_data"
    },
    {
     "data": {
      "text/plain": [
       "'what is the correct output of sizeofstring'"
      ]
     },
     "metadata": {},
     "output_type": "display_data"
    },
    {
     "data": {
      "text/plain": [
       "'problem loading external scripts like jquery'"
      ]
     },
     "metadata": {},
     "output_type": "display_data"
    },
    {
     "data": {
      "text/plain": [
       "'does a const char literal string persistently exist as long as the process alive'"
      ]
     },
     "metadata": {},
     "output_type": "display_data"
    },
    {
     "data": {
      "text/plain": [
       "'willpopscope is deprecated in flutter'"
      ]
     },
     "metadata": {},
     "output_type": "display_data"
    },
    {
     "data": {
      "text/plain": [
       "'install jupyter despite pin-1 not installable because it requires python 3.12'"
      ]
     },
     "metadata": {},
     "output_type": "display_data"
    },
    {
     "data": {
      "text/plain": [
       "'unable to locate package dotnet-sdk-8.0'"
      ]
     },
     "metadata": {},
     "output_type": "display_data"
    },
    {
     "data": {
      "text/plain": [
       "'trouble with homebrew and libsodium'"
      ]
     },
     "metadata": {},
     "output_type": "display_data"
    },
    {
     "data": {
      "text/plain": [
       "'how can i constrain template parameter pack arguments to a chain sequence'"
      ]
     },
     "metadata": {},
     "output_type": "display_data"
    },
    {
     "data": {
      "text/plain": [
       "'can one forward-declare a function taking a vector of incomplete type with a default value'"
      ]
     },
     "metadata": {},
     "output_type": "display_data"
    },
    {
     "data": {
      "text/plain": [
       "'gcc removes a bounds check in the right operand of but not in the left operand why'"
      ]
     },
     "metadata": {},
     "output_type": "display_data"
    },
    {
     "data": {
      "text/plain": [
       "'downloading from external resources is disabled in hibernate dtd'"
      ]
     },
     "metadata": {},
     "output_type": "display_data"
    },
    {
     "data": {
      "text/plain": [
       "'why did i got an error modulenotfounderror no module named distutils'"
      ]
     },
     "metadata": {},
     "output_type": "display_data"
    },
    {
     "data": {
      "text/plain": [
       "'importerror cannot import name url_decode from werkzeug.urls'"
      ]
     },
     "metadata": {},
     "output_type": "display_data"
    },
    {
     "data": {
      "text/plain": [
       "'xcode 15 unable to boot the simulator'"
      ]
     },
     "metadata": {},
     "output_type": "display_data"
    },
    {
     "data": {
      "text/plain": [
       "'compilation error after upgrading to jdk 21 - nosuchfielderror jcimport does not have member field jctree qualid'"
      ]
     },
     "metadata": {},
     "output_type": "display_data"
    },
    {
     "data": {
      "text/plain": [
       "'ld warning ignoring duplicate libraries -lgcc after the recent update of xcodebuild tools'"
      ]
     },
     "metadata": {},
     "output_type": "display_data"
    },
    {
     "data": {
      "text/plain": [
       "'error encountered only below ios 17 devices thread 1 exc_bad_access code1 address0x0'"
      ]
     },
     "metadata": {},
     "output_type": "display_data"
    },
    {
     "data": {
      "text/plain": [
       "'handling cycle inside runner building could produce unreliable results after update xcode to xcode 15'"
      ]
     },
     "metadata": {},
     "output_type": "display_data"
    },
    {
     "data": {
      "text/plain": [
       "'what is the purpose of _t aliases and _v variable templates for type traits'"
      ]
     },
     "metadata": {},
     "output_type": "display_data"
    }
   ],
   "source": [
    "display(*df_raw[\"Title\"][:20].values)"
   ]
  },
  {
   "cell_type": "markdown",
   "metadata": {},
   "source": []
  }
 ],
 "metadata": {
  "kernelspec": {
   "display_name": "Python 3 (ipykernel)",
   "language": "python",
   "name": "python3"
  },
  "language_info": {
   "codemirror_mode": {
    "name": "ipython",
    "version": 3
   },
   "file_extension": ".py",
   "mimetype": "text/x-python",
   "name": "python",
   "nbconvert_exporter": "python",
   "pygments_lexer": "ipython3",
   "version": "3.11.8"
  }
 },
 "nbformat": 4,
 "nbformat_minor": 2
}
