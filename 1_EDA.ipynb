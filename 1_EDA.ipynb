{
 "cells": [
  {
   "cell_type": "markdown",
   "metadata": {},
   "source": [
    "**Table of contents**<a id='toc0_'></a>    \n",
    "- [Mise en place](#toc1_)    \n",
    "  - [Récupération des données](#toc1_1_)    \n",
    "- [🚧 voir cohérence des tags en place](#toc2_)    \n",
    "- [Nettoyage des données](#toc3_)    \n",
    "  - [Termes spécifiques](#toc3_1_)    \n",
    "    - [Tags existants](#toc3_1_1_)    \n",
    "    - [Langages de programmation de Wikipedia](#toc3_1_2_)    \n",
    "    - [Ensemble complet des termes](#toc3_1_3_)    \n",
    "- [XXXXXXXXXXXXXXXXXXXXXXXX](#toc4_)    \n",
    "\n",
    "<!-- vscode-jupyter-toc-config\n",
    "\tnumbering=false\n",
    "\tanchor=true\n",
    "\tflat=false\n",
    "\tminLevel=1\n",
    "\tmaxLevel=6\n",
    "\t/vscode-jupyter-toc-config -->\n",
    "<!-- THIS CELL WILL BE REPLACED ON TOC UPDATE. DO NOT WRITE YOUR TEXT IN THIS CELL -->"
   ]
  },
  {
   "cell_type": "markdown",
   "metadata": {},
   "source": [
    "# <a id='toc1_'></a>[Mise en place](#toc0_)"
   ]
  },
  {
   "cell_type": "code",
   "execution_count": 1,
   "metadata": {},
   "outputs": [],
   "source": [
    "import numpy as np\n",
    "import pandas as pd\n",
    "\n",
    "# home made functions from the src folder\n",
    "from src.scrap_and_clean import get_languages\n",
    "from src.scrap_and_clean import clean_string\n",
    "from src.scrap_and_clean import exclude_words\n",
    "from src.scrap_and_clean import rm_ending_punctuation"
   ]
  },
  {
   "cell_type": "markdown",
   "metadata": {},
   "source": [
    "## <a id='toc1_1_'></a>[Récupération des données](#toc0_)"
   ]
  },
  {
   "cell_type": "markdown",
   "metadata": {},
   "source": [
    "[Requête SQL data.stackexchange.com ici](https://data.stackexchange.com/stackoverflow/query/1824062/top-50k-relevant-questions)\n",
    "\n",
    "⇒ compromis fait entre qualité maximale et contraintes (≥ 5 tags)\n",
    "- pour qualité, score ≥ 10 et > 3 réponses\n",
    "\n",
    "🚧 >=1 réponse : voir cohérence & qualité\n",
    "\n",
    "- dates jusqu’à 2009, cohérent\n",
    "- reste à spectre large pour tout type de question\n",
    "\n",
    "seules features indispensables & RGPD dans la requête\n",
    "\n",
    "# <a id='toc2_'></a>[🚧 voir cohérence des tags en place](#toc0_)"
   ]
  },
  {
   "cell_type": "code",
   "execution_count": 2,
   "metadata": {},
   "outputs": [],
   "source": [
    "df_raw = pd.read_csv(\"data/2024-03-11 QueryResults.csv\")"
   ]
  },
  {
   "cell_type": "markdown",
   "metadata": {},
   "source": [
    "# <a id='toc3_'></a>[Nettoyage des données](#toc0_)"
   ]
  },
  {
   "cell_type": "code",
   "execution_count": 3,
   "metadata": {},
   "outputs": [],
   "source": [
    "# remove useless features\n",
    "df = df_raw.drop(columns=[\"Score\", \"AnswerCount\", \"CreationDate\"])"
   ]
  },
  {
   "cell_type": "code",
   "execution_count": 4,
   "metadata": {},
   "outputs": [],
   "source": [
    "# change Tags string to list\n",
    "df[\"Tags\"] = df[\"Tags\"].apply(lambda x: x[1:-2].split(\"><\"))"
   ]
  },
  {
   "cell_type": "markdown",
   "metadata": {},
   "source": [
    "## <a id='toc3_1_'></a>[Termes spécifiques](#toc0_)\n",
    "\n",
    "🚧 voir utilité => pour le tokenizer ?"
   ]
  },
  {
   "cell_type": "markdown",
   "metadata": {},
   "source": [
    "🚧 [HTML Parser](https://stackoverflow.com/questions/59660495/python-html-extract-text-into-list) : (cf. [question SoF](https://stackoverflow.com/questions/59660495/python-html-extract-text-into-list))  \n",
    "[RegEx JL](https://www.notion.so/julmat/RegEx-expressions-r-guli-res-70fbbcb177ee476ba9a5ae011d14fe6f) & [RegEx 101](https://regex101.com/?flavor=python&flags=gm)"
   ]
  },
  {
   "cell_type": "markdown",
   "metadata": {},
   "source": [
    "### <a id='toc3_1_1_'></a>[Tags existants](#toc0_)"
   ]
  },
  {
   "cell_type": "code",
   "execution_count": 5,
   "metadata": {},
   "outputs": [
    {
     "name": "stdout",
     "output_type": "stream",
     "text": [
      "Found 22629 existing tags\n"
     ]
    }
   ],
   "source": [
    "def add_tags(x):\n",
    "    for e in x:\n",
    "        tags.add(e)\n",
    "\n",
    "\n",
    "# use a set to avoid duplicates\n",
    "tags = set()\n",
    "df[\"Tags\"].apply(lambda x: add_tags(x))\n",
    "print(f\"Found {len(tags)} existing tags\")"
   ]
  },
  {
   "cell_type": "markdown",
   "metadata": {},
   "source": [
    "### <a id='toc3_1_2_'></a>[Langages de programmation de Wikipedia](#toc0_)\n",
    "\n",
    "Sur StackOverFlow, les noms de langages informatiques dans les dialogues sont fréquents.  \n",
    "Non seulement ils ont des syntaxes spécifiques (.QL, C++, S, C#...) facilement éliminées par des traitements de caractères spécifiques, mais ils sont également représentatifs du sujet et font souvent partie des tags."
   ]
  },
  {
   "cell_type": "code",
   "execution_count": 6,
   "metadata": {},
   "outputs": [
    {
     "name": "stdout",
     "output_type": "stream",
     "text": [
      "Found 692 programming languages on Wikipedia\n"
     ]
    }
   ],
   "source": [
    "prog_lang = get_languages()\n",
    "print(f\"Found {len(prog_lang)} programming languages on Wikipedia\")"
   ]
  },
  {
   "cell_type": "markdown",
   "metadata": {},
   "source": [
    "### <a id='toc3_1_3_'></a>[Ensemble complet des termes](#toc0_)"
   ]
  },
  {
   "cell_type": "code",
   "execution_count": 7,
   "metadata": {},
   "outputs": [
    {
     "name": "stdout",
     "output_type": "stream",
     "text": [
      "Total: 23184 specific terms\n"
     ]
    }
   ],
   "source": [
    "# concatenate all specific terms\n",
    "spec_terms = prog_lang.union(tags)\n",
    "print(f\"Total: {len(spec_terms)} specific terms\")"
   ]
  },
  {
   "cell_type": "markdown",
   "metadata": {},
   "source": [
    "Certains termes contiennent des ponctuations finales, à retirer.  \n",
    "Attention, **seuls les signes ,;:. sont enlevés**, ne correspondant pas à un nom de langage (c#, c++, .qt)."
   ]
  },
  {
   "cell_type": "code",
   "execution_count": 8,
   "metadata": {},
   "outputs": [
    {
     "name": "stdout",
     "output_type": "stream",
     "text": [
      "23184 terms, including 'xcode10.' ? -> False\n",
      "23184 terms, including 'xcode10' ? -> True\n"
     ]
    }
   ],
   "source": [
    "excl_terms = rm_ending_punctuation(list(spec_terms))\n",
    "print(f\"{len(excl_terms)} terms, including 'xcode10.' ? -> {'xcode10.' in excl_terms}\")\n",
    "print(f\"{len(excl_terms)} terms, including 'xcode10' ? -> {'xcode10' in excl_terms}\")"
   ]
  },
  {
   "cell_type": "markdown",
   "metadata": {},
   "source": [
    "# <a id='toc4_'></a>[XXXXXXXXXXXXXXXXXXXXXXXX](#toc0_)"
   ]
  },
  {
   "cell_type": "code",
   "execution_count": 9,
   "metadata": {},
   "outputs": [],
   "source": [
    "df[\"Body\"] = df[\"Body\"].apply(clean_string)\n",
    "df[\"Title\"] = df[\"Title\"].apply(clean_string)"
   ]
  },
  {
   "cell_type": "code",
   "execution_count": 10,
   "metadata": {},
   "outputs": [
    {
     "data": {
      "text/html": [
       "<div>\n",
       "<style scoped>\n",
       "    .dataframe tbody tr th:only-of-type {\n",
       "        vertical-align: middle;\n",
       "    }\n",
       "\n",
       "    .dataframe tbody tr th {\n",
       "        vertical-align: top;\n",
       "    }\n",
       "\n",
       "    .dataframe thead th {\n",
       "        text-align: right;\n",
       "    }\n",
       "</style>\n",
       "<table border=\"1\" class=\"dataframe\">\n",
       "  <thead>\n",
       "    <tr style=\"text-align: right;\">\n",
       "      <th></th>\n",
       "      <th>Title</th>\n",
       "      <th>Body</th>\n",
       "      <th>Tags</th>\n",
       "    </tr>\n",
       "  </thead>\n",
       "  <tbody>\n",
       "    <tr>\n",
       "      <th>0</th>\n",
       "      <td>std::shared_mutex::unlock_shared() blocks even...</td>\n",
       "      <td>my team has encountered a deadlock that i susp...</td>\n",
       "      <td>[c++, windows, multithreading, stl, shared-loc]</td>\n",
       "    </tr>\n",
       "    <tr>\n",
       "      <th>1</th>\n",
       "      <td>what is the correct output of sizeof(\"string\")?</td>\n",
       "      <td>on a microcontroller, in order to avoid loadin...</td>\n",
       "      <td>[c, language-lawyer, sizeof, string-literals, ...</td>\n",
       "    </tr>\n",
       "    <tr>\n",
       "      <th>2</th>\n",
       "      <td>problem loading external scripts like jquery</td>\n",
       "      <td>i'm facing a problem since this morning with w...</td>\n",
       "      <td>[javascript, html, jquery, google-apps-script,...</td>\n",
       "    </tr>\n",
       "    <tr>\n",
       "      <th>3</th>\n",
       "      <td>does a const char* literal string persistently...</td>\n",
       "      <td>i have functions like the following: and i'm p...</td>\n",
       "      <td>[c++, constants, constexpr, lifetime, null-ter...</td>\n",
       "    </tr>\n",
       "    <tr>\n",
       "      <th>4</th>\n",
       "      <td>willpopscope is deprecated in flutter</td>\n",
       "      <td>'willpopscope' is deprecated and shouldn't be ...</td>\n",
       "      <td>[flutter, dart, mobile, cross-platform, deprec...</td>\n",
       "    </tr>\n",
       "    <tr>\n",
       "      <th>...</th>\n",
       "      <td>...</td>\n",
       "      <td>...</td>\n",
       "      <td>...</td>\n",
       "    </tr>\n",
       "    <tr>\n",
       "      <th>49995</th>\n",
       "      <td>the activator for bundle is invalid</td>\n",
       "      <td>i'm trying to create a simple plugin in eclips...</td>\n",
       "      <td>[java, eclipse, eclipse-plugin, osgi, osgi-bundl]</td>\n",
       "    </tr>\n",
       "    <tr>\n",
       "      <th>49996</th>\n",
       "      <td>pre-allocate space for c++ stl queue</td>\n",
       "      <td>i'm writing a radix sort algorithm using queue...</td>\n",
       "      <td>[c++, performance, memory, stl, queu]</td>\n",
       "    </tr>\n",
       "    <tr>\n",
       "      <th>49997</th>\n",
       "      <td>adjusting the positions of the labels in a uit...</td>\n",
       "      <td>i'm using a uitableviewcell with uitableviewce...</td>\n",
       "      <td>[iphone, objective-c, cocoa-touch, iphone-sdk-...</td>\n",
       "    </tr>\n",
       "    <tr>\n",
       "      <th>49998</th>\n",
       "      <td>padding on stackpanel?</td>\n",
       "      <td>i am trying to set padding of a stackpanel but...</td>\n",
       "      <td>[wpf, xaml, layout, padding, stackpane]</td>\n",
       "    </tr>\n",
       "    <tr>\n",
       "      <th>49999</th>\n",
       "      <td>list of all users and groups</td>\n",
       "      <td>i'm trying to get a list of all users and all ...</td>\n",
       "      <td>[c, objective-c, cocoa, macos, macos-carbo]</td>\n",
       "    </tr>\n",
       "  </tbody>\n",
       "</table>\n",
       "<p>50000 rows × 3 columns</p>\n",
       "</div>"
      ],
      "text/plain": [
       "                                                   Title  \\\n",
       "0      std::shared_mutex::unlock_shared() blocks even...   \n",
       "1        what is the correct output of sizeof(\"string\")?   \n",
       "2           problem loading external scripts like jquery   \n",
       "3      does a const char* literal string persistently...   \n",
       "4                  willpopscope is deprecated in flutter   \n",
       "...                                                  ...   \n",
       "49995                the activator for bundle is invalid   \n",
       "49996               pre-allocate space for c++ stl queue   \n",
       "49997  adjusting the positions of the labels in a uit...   \n",
       "49998                             padding on stackpanel?   \n",
       "49999                       list of all users and groups   \n",
       "\n",
       "                                                    Body  \\\n",
       "0      my team has encountered a deadlock that i susp...   \n",
       "1      on a microcontroller, in order to avoid loadin...   \n",
       "2      i'm facing a problem since this morning with w...   \n",
       "3      i have functions like the following: and i'm p...   \n",
       "4      'willpopscope' is deprecated and shouldn't be ...   \n",
       "...                                                  ...   \n",
       "49995  i'm trying to create a simple plugin in eclips...   \n",
       "49996  i'm writing a radix sort algorithm using queue...   \n",
       "49997  i'm using a uitableviewcell with uitableviewce...   \n",
       "49998  i am trying to set padding of a stackpanel but...   \n",
       "49999  i'm trying to get a list of all users and all ...   \n",
       "\n",
       "                                                    Tags  \n",
       "0        [c++, windows, multithreading, stl, shared-loc]  \n",
       "1      [c, language-lawyer, sizeof, string-literals, ...  \n",
       "2      [javascript, html, jquery, google-apps-script,...  \n",
       "3      [c++, constants, constexpr, lifetime, null-ter...  \n",
       "4      [flutter, dart, mobile, cross-platform, deprec...  \n",
       "...                                                  ...  \n",
       "49995  [java, eclipse, eclipse-plugin, osgi, osgi-bundl]  \n",
       "49996              [c++, performance, memory, stl, queu]  \n",
       "49997  [iphone, objective-c, cocoa-touch, iphone-sdk-...  \n",
       "49998            [wpf, xaml, layout, padding, stackpane]  \n",
       "49999        [c, objective-c, cocoa, macos, macos-carbo]  \n",
       "\n",
       "[50000 rows x 3 columns]"
      ]
     },
     "execution_count": 10,
     "metadata": {},
     "output_type": "execute_result"
    }
   ],
   "source": [
    "df"
   ]
  },
  {
   "cell_type": "code",
   "execution_count": 11,
   "metadata": {},
   "outputs": [
    {
     "data": {
      "text/plain": [
       "\"my team has encountered a deadlock that i suspect is a bug in the windows implementation of srw locks. the code below is a distilled version of real code. here's the summary: main thread acquires exclusive lock main thread creates n children threads each child thread acquires a shared lock spins until all children have acquired a shared lock releases the shared lock main thread releases exclusive lock yes this could be done with std::latch in c++ . that's not the point. this code works most of the time. however roughly in loops it deadlocks. when it deadlocks exactly child successfully acquires a shared lock and n- children are stuck in . on windows this function calls into and blocks in . the behavior is observed when used directly, /, or simply calling functions directly. a raymond chen post asks about this exact behavior, but user error is blamed. this looks like an srw bug to me. it's maybe worth noting that if a child doesn't attempt to latch and calls that this will wake its blocked siblings. there is nothing in the documentation for or that suggests is allowed to block even when there is not an active exclusive lock. this deadlock has not been observed on non-windows platforms. example code: here's a picture of the parallel stacks. you can see the main thread is correctly blocking on . one reader thread acquired the lock and is in a yield loop. four reader threads are blocked within . \""
      ]
     },
     "execution_count": 11,
     "metadata": {},
     "output_type": "execute_result"
    }
   ],
   "source": [
    "df[\"Body\"][0]"
   ]
  },
  {
   "cell_type": "markdown",
   "metadata": {},
   "source": [
    "# 🚧🚧🚧🚧 pourquoi C# passe au travers ??"
   ]
  },
  {
   "cell_type": "code",
   "execution_count": 12,
   "metadata": {},
   "outputs": [
    {
     "data": {
      "text/plain": [
       "\"This is a test string It contains some <code>code</code> and <img src='img'> and sometimes <other> <unusual> tags newlines  UPPERCASE WORDS suspension dots.. lonely numbers 4 654 or 9142 and punctuation  /*+ and multiple spaces and a+ c# or even S programming langages\""
      ]
     },
     "execution_count": 12,
     "metadata": {},
     "output_type": "execute_result"
    }
   ],
   "source": [
    "s = \"This is a test string. It contains some <code>code</code> and <img src='img'> and sometimes <other> <unusual> tags, \\n newlines \\n, UPPERCASE WORDS, suspension dots... lonely numbers 4 654  or 9142 and punctuation ; /*+ and     multiple    spaces  and a+, c++, c#, .ql or even S programming langages.\"\n",
    "excluded = [\"c++\", \".ql\", \"c#\"]\n",
    "exclude_words(s, excluded)"
   ]
  },
  {
   "cell_type": "markdown",
   "metadata": {},
   "source": [
    "# ☝️  ☝️  ☝️  ☝️  ☝️  ☝️  ☝️  ☝️"
   ]
  },
  {
   "cell_type": "code",
   "execution_count": 13,
   "metadata": {},
   "outputs": [
    {
     "data": {
      "text/plain": [
       "['This',\n",
       " 'is',\n",
       " 'a',\n",
       " 'C++',\n",
       " 'sentence',\n",
       " ':',\n",
       " 'using',\n",
       " 'coma',\n",
       " ',',\n",
       " 'm4ny',\n",
       " '456',\n",
       " 'words',\n",
       " 'and',\n",
       " '2.5',\n",
       " 'sentences',\n",
       " '.',\n",
       " 'C',\n",
       " '#',\n",
       " 'and',\n",
       " '.qt',\n",
       " 'are',\n",
       " 'also',\n",
       " 'present',\n",
       " '.']"
      ]
     },
     "execution_count": 13,
     "metadata": {},
     "output_type": "execute_result"
    }
   ],
   "source": [
    "import nltk\n",
    "\n",
    "# exclude specific terms from the tokenizer (C# and others can be tokenized as C and #)\n",
    "\n",
    "tokens = nltk.word_tokenize(\"This is a C++ sentence : using coma, m4ny 456 words and 2.5 sentences. C# and .qt are also present.\")\n",
    "tokens\n"
   ]
  },
  {
   "cell_type": "markdown",
   "metadata": {},
   "source": []
  }
 ],
 "metadata": {
  "kernelspec": {
   "display_name": "Python 3 (ipykernel)",
   "language": "python",
   "name": "python3"
  },
  "language_info": {
   "codemirror_mode": {
    "name": "ipython",
    "version": 3
   },
   "file_extension": ".py",
   "mimetype": "text/x-python",
   "name": "python",
   "nbconvert_exporter": "python",
   "pygments_lexer": "ipython3",
   "version": "3.11.8"
  }
 },
 "nbformat": 4,
 "nbformat_minor": 2
}
