{
 "cells": [
  {
   "cell_type": "code",
   "execution_count": 39,
   "metadata": {},
   "outputs": [],
   "source": [
    "import numpy as np\n",
    "import pandas as pd"
   ]
  },
  {
   "cell_type": "markdown",
   "metadata": {},
   "source": [
    "[Requête SQL data.stackexchange.com ici](https://data.stackexchange.com/stackoverflow/query/1824062/top-50k-relevant-questions)\n",
    "\n",
    "⇒ compromis fait entre qualité maximale et contraintes (≥ 5 tags)\n",
    "- pour qualité, score ≥ 10 et > 3 réponses\n",
    "- dates jusqu’à 2009, cohérent\n",
    "- reste à spectre large pour tout type de question\n",
    "\n",
    "seules features indispensables & RGPD dans la requête"
   ]
  },
  {
   "cell_type": "code",
   "execution_count": 40,
   "metadata": {},
   "outputs": [],
   "source": [
    "df_raw = pd.read_csv(\"data/2024-03-11 QueryResults.csv\")"
   ]
  },
  {
   "cell_type": "markdown",
   "metadata": {},
   "source": [
    "# Nettoyage des colonnes"
   ]
  },
  {
   "cell_type": "code",
   "execution_count": 41,
   "metadata": {},
   "outputs": [
    {
     "data": {
      "text/html": [
       "<div>\n",
       "<style scoped>\n",
       "    .dataframe tbody tr th:only-of-type {\n",
       "        vertical-align: middle;\n",
       "    }\n",
       "\n",
       "    .dataframe tbody tr th {\n",
       "        vertical-align: top;\n",
       "    }\n",
       "\n",
       "    .dataframe thead th {\n",
       "        text-align: right;\n",
       "    }\n",
       "</style>\n",
       "<table border=\"1\" class=\"dataframe\">\n",
       "  <thead>\n",
       "    <tr style=\"text-align: right;\">\n",
       "      <th></th>\n",
       "      <th>Title</th>\n",
       "      <th>Body</th>\n",
       "      <th>Tags</th>\n",
       "    </tr>\n",
       "  </thead>\n",
       "  <tbody>\n",
       "    <tr>\n",
       "      <th>0</th>\n",
       "      <td>std::shared_mutex::unlock_shared() blocks even...</td>\n",
       "      <td>&lt;p&gt;My team has encountered a deadlock that I s...</td>\n",
       "      <td>[c++, windows, multithreading, stl, shared-loc]</td>\n",
       "    </tr>\n",
       "    <tr>\n",
       "      <th>1</th>\n",
       "      <td>What is the correct output of sizeof(\"string\")?</td>\n",
       "      <td>&lt;p&gt;On a microcontroller, in order to avoid loa...</td>\n",
       "      <td>[c, language-lawyer, sizeof, string-literals, ...</td>\n",
       "    </tr>\n",
       "    <tr>\n",
       "      <th>2</th>\n",
       "      <td>Problem loading external scripts like jQuery</td>\n",
       "      <td>&lt;p&gt;I'm facing a problem since this morning wit...</td>\n",
       "      <td>[javascript, html, jquery, google-apps-script,...</td>\n",
       "    </tr>\n",
       "    <tr>\n",
       "      <th>3</th>\n",
       "      <td>Does a const char* literal string persistently...</td>\n",
       "      <td>&lt;p&gt;I have functions like the following:&lt;/p&gt;\\n&lt;...</td>\n",
       "      <td>[c++, constants, constexpr, lifetime, null-ter...</td>\n",
       "    </tr>\n",
       "    <tr>\n",
       "      <th>4</th>\n",
       "      <td>WillPopScope is deprecated in Flutter</td>\n",
       "      <td>&lt;p&gt;'WillPopScope' is deprecated and shouldn't ...</td>\n",
       "      <td>[flutter, dart, mobile, cross-platform, deprec...</td>\n",
       "    </tr>\n",
       "    <tr>\n",
       "      <th>...</th>\n",
       "      <td>...</td>\n",
       "      <td>...</td>\n",
       "      <td>...</td>\n",
       "    </tr>\n",
       "    <tr>\n",
       "      <th>49995</th>\n",
       "      <td>The activator for bundle is invalid</td>\n",
       "      <td>&lt;p&gt;I'm trying to create a simple plugin in ecl...</td>\n",
       "      <td>[java, eclipse, eclipse-plugin, osgi, osgi-bundl]</td>\n",
       "    </tr>\n",
       "    <tr>\n",
       "      <th>49996</th>\n",
       "      <td>Pre-allocate space for C++ STL queue</td>\n",
       "      <td>&lt;p&gt;I'm writing a radix sort algorithm using qu...</td>\n",
       "      <td>[c++, performance, memory, stl, queu]</td>\n",
       "    </tr>\n",
       "    <tr>\n",
       "      <th>49997</th>\n",
       "      <td>Adjusting the positions of the labels in a UIT...</td>\n",
       "      <td>&lt;p&gt;I'm using a UITableViewCell with UITableVie...</td>\n",
       "      <td>[iphone, objective-c, cocoa-touch, iphone-sdk-...</td>\n",
       "    </tr>\n",
       "    <tr>\n",
       "      <th>49998</th>\n",
       "      <td>Padding on StackPanel?</td>\n",
       "      <td>&lt;p&gt;I am trying to set padding of a StackPanel ...</td>\n",
       "      <td>[wpf, xaml, layout, padding, stackpane]</td>\n",
       "    </tr>\n",
       "    <tr>\n",
       "      <th>49999</th>\n",
       "      <td>List of all users and groups</td>\n",
       "      <td>&lt;p&gt;I'm trying to get a list of &lt;strong&gt;all&lt;/st...</td>\n",
       "      <td>[c, objective-c, cocoa, macos, macos-carbo]</td>\n",
       "    </tr>\n",
       "  </tbody>\n",
       "</table>\n",
       "<p>50000 rows × 3 columns</p>\n",
       "</div>"
      ],
      "text/plain": [
       "                                                   Title  \\\n",
       "0      std::shared_mutex::unlock_shared() blocks even...   \n",
       "1        What is the correct output of sizeof(\"string\")?   \n",
       "2           Problem loading external scripts like jQuery   \n",
       "3      Does a const char* literal string persistently...   \n",
       "4                  WillPopScope is deprecated in Flutter   \n",
       "...                                                  ...   \n",
       "49995                The activator for bundle is invalid   \n",
       "49996               Pre-allocate space for C++ STL queue   \n",
       "49997  Adjusting the positions of the labels in a UIT...   \n",
       "49998                             Padding on StackPanel?   \n",
       "49999                       List of all users and groups   \n",
       "\n",
       "                                                    Body  \\\n",
       "0      <p>My team has encountered a deadlock that I s...   \n",
       "1      <p>On a microcontroller, in order to avoid loa...   \n",
       "2      <p>I'm facing a problem since this morning wit...   \n",
       "3      <p>I have functions like the following:</p>\\n<...   \n",
       "4      <p>'WillPopScope' is deprecated and shouldn't ...   \n",
       "...                                                  ...   \n",
       "49995  <p>I'm trying to create a simple plugin in ecl...   \n",
       "49996  <p>I'm writing a radix sort algorithm using qu...   \n",
       "49997  <p>I'm using a UITableViewCell with UITableVie...   \n",
       "49998  <p>I am trying to set padding of a StackPanel ...   \n",
       "49999  <p>I'm trying to get a list of <strong>all</st...   \n",
       "\n",
       "                                                    Tags  \n",
       "0        [c++, windows, multithreading, stl, shared-loc]  \n",
       "1      [c, language-lawyer, sizeof, string-literals, ...  \n",
       "2      [javascript, html, jquery, google-apps-script,...  \n",
       "3      [c++, constants, constexpr, lifetime, null-ter...  \n",
       "4      [flutter, dart, mobile, cross-platform, deprec...  \n",
       "...                                                  ...  \n",
       "49995  [java, eclipse, eclipse-plugin, osgi, osgi-bundl]  \n",
       "49996              [c++, performance, memory, stl, queu]  \n",
       "49997  [iphone, objective-c, cocoa-touch, iphone-sdk-...  \n",
       "49998            [wpf, xaml, layout, padding, stackpane]  \n",
       "49999        [c, objective-c, cocoa, macos, macos-carbo]  \n",
       "\n",
       "[50000 rows x 3 columns]"
      ]
     },
     "execution_count": 41,
     "metadata": {},
     "output_type": "execute_result"
    }
   ],
   "source": [
    "# remove useless features\n",
    "df_raw.drop(columns=[\"Score\", \"AnswerCount\", \"CreationDate\"], inplace=True)\n",
    "# change Tags string to list\n",
    "df_raw[\"Tags\"] = df_raw[\"Tags\"].apply(lambda x: x[1:-2].split(\"><\"))\n",
    "\n",
    "df_raw"
   ]
  },
  {
   "cell_type": "markdown",
   "metadata": {},
   "source": [
    "🚧 [HTML Parser](https://stackoverflow.com/questions/59660495/python-html-extract-text-into-list) : (cf. [question SoF](https://stackoverflow.com/questions/59660495/python-html-extract-text-into-list))"
   ]
  },
  {
   "cell_type": "code",
   "execution_count": null,
   "metadata": {},
   "outputs": [],
   "source": []
  }
 ],
 "metadata": {
  "kernelspec": {
   "display_name": "Python 3 (ipykernel)",
   "language": "python",
   "name": "python3"
  }
 },
 "nbformat": 4,
 "nbformat_minor": 2
}
