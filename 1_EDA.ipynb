{
 "cells": [
  {
   "cell_type": "markdown",
   "metadata": {},
   "source": [
    "**Table of contents**<a id='toc0_'></a>    \n",
    "- [Mise en place](#toc1_)    \n",
    "  - [Récupération des données](#toc1_1_)    \n",
    "- [🚧 voir cohérence des tags en place](#toc2_)    \n",
    "- [Nettoyage des données](#toc3_)    \n",
    "  - [Termes spécifiques](#toc3_1_)    \n",
    "    - [Tags existants](#toc3_1_1_)    \n",
    "    - [Langages de programmation de Wikipedia](#toc3_1_2_)    \n",
    "    - [Ensemble complet des termes](#toc3_1_3_)    \n",
    "- [XXXXXXXXXXXXXXXXXXXXXXXX](#toc4_)    \n",
    "\n",
    "<!-- vscode-jupyter-toc-config\n",
    "\tnumbering=false\n",
    "\tanchor=true\n",
    "\tflat=false\n",
    "\tminLevel=1\n",
    "\tmaxLevel=6\n",
    "\t/vscode-jupyter-toc-config -->\n",
    "<!-- THIS CELL WILL BE REPLACED ON TOC UPDATE. DO NOT WRITE YOUR TEXT IN THIS CELL -->"
   ]
  },
  {
   "cell_type": "markdown",
   "metadata": {},
   "source": [
    "# <a id='toc1_'></a>[Mise en place](#toc0_)"
   ]
  },
  {
   "cell_type": "code",
   "execution_count": 1,
   "metadata": {},
   "outputs": [],
   "source": [
    "import numpy as np\n",
    "import pandas as pd\n",
    "\n",
    "# home made functions from the src folder\n",
    "from src.scrap_and_clean import get_languages, clean_string"
   ]
  },
  {
   "cell_type": "markdown",
   "metadata": {},
   "source": [
    "## <a id='toc1_1_'></a>[Récupération des données](#toc0_)"
   ]
  },
  {
   "cell_type": "markdown",
   "metadata": {},
   "source": [
    "[Requête SQL data.stackexchange.com ici](https://data.stackexchange.com/stackoverflow/query/1824062/top-50k-relevant-questions)\n",
    "\n",
    "⇒ compromis fait entre qualité maximale et contraintes (≥ 5 tags)\n",
    "- pour qualité, score ≥ 10 et > 3 réponses\n",
    "\n",
    "🚧 >=1 réponse : voir cohérence & qualité\n",
    "\n",
    "- dates jusqu’à 2009, cohérent\n",
    "- reste à spectre large pour tout type de question\n",
    "\n",
    "seules features indispensables & RGPD dans la requête\n",
    "\n",
    "# <a id='toc2_'></a>[🚧 voir cohérence des tags en place](#toc0_)"
   ]
  },
  {
   "cell_type": "code",
   "execution_count": 2,
   "metadata": {},
   "outputs": [],
   "source": [
    "df_raw = pd.read_csv(\"data/2024-03-11 QueryResults.csv\")"
   ]
  },
  {
   "cell_type": "markdown",
   "metadata": {},
   "source": [
    "# <a id='toc3_'></a>[Nettoyage des données](#toc0_)"
   ]
  },
  {
   "cell_type": "code",
   "execution_count": 3,
   "metadata": {},
   "outputs": [],
   "source": [
    "# remove useless features\n",
    "df = df_raw.drop(columns=[\"Score\", \"AnswerCount\", \"CreationDate\"])"
   ]
  },
  {
   "cell_type": "code",
   "execution_count": 4,
   "metadata": {},
   "outputs": [],
   "source": [
    "# change Tags string to list\n",
    "df[\"Tags\"] = df[\"Tags\"].apply(lambda x: x[1:-2].split(\"><\"))"
   ]
  },
  {
   "cell_type": "markdown",
   "metadata": {},
   "source": [
    "## <a id='toc3_1_'></a>[Termes spécifiques](#toc0_)\n",
    "\n",
    "🚧 voir utilité => pour le tokenizer ?"
   ]
  },
  {
   "cell_type": "markdown",
   "metadata": {},
   "source": [
    "### <a id='toc3_1_1_'></a>[Tags existants](#toc0_)"
   ]
  },
  {
   "cell_type": "code",
   "execution_count": 5,
   "metadata": {},
   "outputs": [
    {
     "name": "stdout",
     "output_type": "stream",
     "text": [
      "Found 22629 existing tags\n"
     ]
    }
   ],
   "source": [
    "def add_tags(x):\n",
    "    for e in x:\n",
    "        tags.add(e)\n",
    "\n",
    "\n",
    "# use a set to avoid duplicates\n",
    "tags = set()\n",
    "df[\"Tags\"].apply(lambda x: add_tags(x))\n",
    "print(f\"Found {len(tags)} existing tags\")"
   ]
  },
  {
   "cell_type": "markdown",
   "metadata": {},
   "source": [
    "### <a id='toc3_1_2_'></a>[Langages de programmation de Wikipedia](#toc0_)\n",
    "\n",
    "Sur StackOverFlow, les noms de langages informatiques dans les dialogues sont fréquents.  \n",
    "Non seulement ils ont des syntaxes spécifiques (.QL, C++, S, C#...) facilement éliminées par des traitements de caractères spécifiques, mais ils sont également représentatifs du sujet et font souvent partie des tags."
   ]
  },
  {
   "cell_type": "markdown",
   "metadata": {},
   "source": [
    "🚧 [HTML Parser](https://stackoverflow.com/questions/59660495/python-html-extract-text-into-list) : (cf. [question SoF](https://stackoverflow.com/questions/59660495/python-html-extract-text-into-list))  \n",
    "[RegEx JL](https://www.notion.so/julmat/RegEx-expressions-r-guli-res-70fbbcb177ee476ba9a5ae011d14fe6f) & [RegEx 101](https://regex101.com/?flavor=python&flags=gm)"
   ]
  },
  {
   "cell_type": "code",
   "execution_count": 6,
   "metadata": {},
   "outputs": [
    {
     "name": "stdout",
     "output_type": "stream",
     "text": [
      "Found 692 programming languages on Wikipedia\n"
     ]
    }
   ],
   "source": [
    "prog_lang = get_languages()\n",
    "print(f\"Found {len(prog_lang)} programming languages on Wikipedia\")"
   ]
  },
  {
   "cell_type": "markdown",
   "metadata": {},
   "source": [
    "### <a id='toc3_1_3_'></a>[Ensemble complet des termes](#toc0_)"
   ]
  },
  {
   "cell_type": "code",
   "execution_count": 7,
   "metadata": {},
   "outputs": [
    {
     "name": "stdout",
     "output_type": "stream",
     "text": [
      "Total: 23184 specific terms\n"
     ]
    }
   ],
   "source": [
    "# concatenate all specific terms\n",
    "spec_terms = prog_lang.union(tags)\n",
    "print(f\"Total: {len(spec_terms)} specific terms\")"
   ]
  },
  {
   "cell_type": "markdown",
   "metadata": {},
   "source": [
    "# <a id='toc4_'></a>[XXXXXXXXXXXXXXXXXXXXXXXX](#toc0_)"
   ]
  },
  {
   "cell_type": "code",
   "execution_count": 8,
   "metadata": {},
   "outputs": [],
   "source": [
    "df_before = df.copy()"
   ]
  },
  {
   "cell_type": "code",
   "execution_count": 9,
   "metadata": {},
   "outputs": [],
   "source": [
    "df[\"Body\"] = df[\"Body\"].apply(clean_string)\n",
    "df[\"Title\"] = df[\"Title\"].apply(clean_string)"
   ]
  },
  {
   "cell_type": "code",
   "execution_count": 10,
   "metadata": {},
   "outputs": [
    {
     "data": {
      "text/html": [
       "<div>\n",
       "<style scoped>\n",
       "    .dataframe tbody tr th:only-of-type {\n",
       "        vertical-align: middle;\n",
       "    }\n",
       "\n",
       "    .dataframe tbody tr th {\n",
       "        vertical-align: top;\n",
       "    }\n",
       "\n",
       "    .dataframe thead th {\n",
       "        text-align: right;\n",
       "    }\n",
       "</style>\n",
       "<table border=\"1\" class=\"dataframe\">\n",
       "  <thead>\n",
       "    <tr style=\"text-align: right;\">\n",
       "      <th></th>\n",
       "      <th>Title</th>\n",
       "      <th>Body</th>\n",
       "      <th>Tags</th>\n",
       "    </tr>\n",
       "  </thead>\n",
       "  <tbody>\n",
       "    <tr>\n",
       "      <th>0</th>\n",
       "      <td>std::shared_mutex::unlock_shared() blocks even...</td>\n",
       "      <td>my team has encountered a deadlock that i susp...</td>\n",
       "      <td>[c++, windows, multithreading, stl, shared-loc]</td>\n",
       "    </tr>\n",
       "    <tr>\n",
       "      <th>1</th>\n",
       "      <td>what is the correct output of sizeof(\"string\")?</td>\n",
       "      <td>on a microcontroller, in order to avoid loadin...</td>\n",
       "      <td>[c, language-lawyer, sizeof, string-literals, ...</td>\n",
       "    </tr>\n",
       "    <tr>\n",
       "      <th>2</th>\n",
       "      <td>problem loading external scripts like jquery</td>\n",
       "      <td>i'm facing a problem since this morning with w...</td>\n",
       "      <td>[javascript, html, jquery, google-apps-script,...</td>\n",
       "    </tr>\n",
       "    <tr>\n",
       "      <th>3</th>\n",
       "      <td>does a const char* literal string persistently...</td>\n",
       "      <td>i have functions like the following: and i'm p...</td>\n",
       "      <td>[c++, constants, constexpr, lifetime, null-ter...</td>\n",
       "    </tr>\n",
       "    <tr>\n",
       "      <th>4</th>\n",
       "      <td>willpopscope is deprecated in flutter</td>\n",
       "      <td>'willpopscope' is deprecated and shouldn't be ...</td>\n",
       "      <td>[flutter, dart, mobile, cross-platform, deprec...</td>\n",
       "    </tr>\n",
       "    <tr>\n",
       "      <th>...</th>\n",
       "      <td>...</td>\n",
       "      <td>...</td>\n",
       "      <td>...</td>\n",
       "    </tr>\n",
       "    <tr>\n",
       "      <th>49995</th>\n",
       "      <td>the activator for bundle is invalid</td>\n",
       "      <td>i'm trying to create a simple plugin in eclips...</td>\n",
       "      <td>[java, eclipse, eclipse-plugin, osgi, osgi-bundl]</td>\n",
       "    </tr>\n",
       "    <tr>\n",
       "      <th>49996</th>\n",
       "      <td>pre-allocate space for c++ stl queue</td>\n",
       "      <td>i'm writing a radix sort algorithm using queue...</td>\n",
       "      <td>[c++, performance, memory, stl, queu]</td>\n",
       "    </tr>\n",
       "    <tr>\n",
       "      <th>49997</th>\n",
       "      <td>adjusting the positions of the labels in a uit...</td>\n",
       "      <td>i'm using a uitableviewcell with uitableviewce...</td>\n",
       "      <td>[iphone, objective-c, cocoa-touch, iphone-sdk-...</td>\n",
       "    </tr>\n",
       "    <tr>\n",
       "      <th>49998</th>\n",
       "      <td>padding on stackpanel?</td>\n",
       "      <td>i am trying to set padding of a stackpanel but...</td>\n",
       "      <td>[wpf, xaml, layout, padding, stackpane]</td>\n",
       "    </tr>\n",
       "    <tr>\n",
       "      <th>49999</th>\n",
       "      <td>list of all users and groups</td>\n",
       "      <td>i'm trying to get a list of all users and all ...</td>\n",
       "      <td>[c, objective-c, cocoa, macos, macos-carbo]</td>\n",
       "    </tr>\n",
       "  </tbody>\n",
       "</table>\n",
       "<p>50000 rows × 3 columns</p>\n",
       "</div>"
      ],
      "text/plain": [
       "                                                   Title  \\\n",
       "0      std::shared_mutex::unlock_shared() blocks even...   \n",
       "1        what is the correct output of sizeof(\"string\")?   \n",
       "2           problem loading external scripts like jquery   \n",
       "3      does a const char* literal string persistently...   \n",
       "4                  willpopscope is deprecated in flutter   \n",
       "...                                                  ...   \n",
       "49995                the activator for bundle is invalid   \n",
       "49996               pre-allocate space for c++ stl queue   \n",
       "49997  adjusting the positions of the labels in a uit...   \n",
       "49998                             padding on stackpanel?   \n",
       "49999                       list of all users and groups   \n",
       "\n",
       "                                                    Body  \\\n",
       "0      my team has encountered a deadlock that i susp...   \n",
       "1      on a microcontroller, in order to avoid loadin...   \n",
       "2      i'm facing a problem since this morning with w...   \n",
       "3      i have functions like the following: and i'm p...   \n",
       "4      'willpopscope' is deprecated and shouldn't be ...   \n",
       "...                                                  ...   \n",
       "49995  i'm trying to create a simple plugin in eclips...   \n",
       "49996  i'm writing a radix sort algorithm using queue...   \n",
       "49997  i'm using a uitableviewcell with uitableviewce...   \n",
       "49998  i am trying to set padding of a stackpanel but...   \n",
       "49999  i'm trying to get a list of all users and all ...   \n",
       "\n",
       "                                                    Tags  \n",
       "0        [c++, windows, multithreading, stl, shared-loc]  \n",
       "1      [c, language-lawyer, sizeof, string-literals, ...  \n",
       "2      [javascript, html, jquery, google-apps-script,...  \n",
       "3      [c++, constants, constexpr, lifetime, null-ter...  \n",
       "4      [flutter, dart, mobile, cross-platform, deprec...  \n",
       "...                                                  ...  \n",
       "49995  [java, eclipse, eclipse-plugin, osgi, osgi-bundl]  \n",
       "49996              [c++, performance, memory, stl, queu]  \n",
       "49997  [iphone, objective-c, cocoa-touch, iphone-sdk-...  \n",
       "49998            [wpf, xaml, layout, padding, stackpane]  \n",
       "49999        [c, objective-c, cocoa, macos, macos-carbo]  \n",
       "\n",
       "[50000 rows x 3 columns]"
      ]
     },
     "execution_count": 10,
     "metadata": {},
     "output_type": "execute_result"
    }
   ],
   "source": [
    "df"
   ]
  },
  {
   "cell_type": "code",
   "execution_count": 17,
   "metadata": {},
   "outputs": [
    {
     "name": "stdout",
     "output_type": "stream",
     "text": [
      "<p>I realize this has been asked a lot. I did actually look. I've spent hours looking around and trying to figure this out. I'm supposed to be making a program that stores what amounts to a list of appointments in a database, with a description, date, start time, and end time. It has to take input from the user to add or cancel appointments, so as far as I know that means I need to convert a string to a date. </p>\n",
      "\n",
      "<p>These are my imports:\n",
      "    import java.io.File;\n",
      "    import java.io.IOException;\n",
      "    import java.sql.Connection;\n",
      "    import java.sql.Date;\n",
      "    import java.sql.PreparedStatement;\n",
      "    import java.sql.ResultSet;\n",
      "    import java.sql.ResultSetMetaData;\n",
      "    import java.sql.SQLException;\n",
      "    import java.sql.Time;\n",
      "    import java.text.DateFormat;\n",
      "    import java.text.ParseException;\n",
      "    import java.text.SimpleDateFormat;\n",
      "    import java.util.ArrayList;\n",
      "    import java.util.Scanner;</p>\n",
      "\n",
      "<p>As you can see, no java.util.Date there. Here is the bit where I'm getting the error:</p>\n",
      "\n",
      "<pre><code>private static java.sql.Date getDay()\n",
      "{\n",
      "    Scanner in = new Scanner(System.in);\n",
      "    String input;\n",
      "    Date apptDay = null;\n",
      "    DateFormat df = new SimpleDateFormat(\"yyyy/MM/dd\");\n",
      "    java.sql.Date sqlDate;\n",
      "    System.out.println(\"\\nPlease enter the date of the appointment, format: yyyy/mm/dd\");\n",
      "    while(apptDay == null)\n",
      "    {\n",
      "        try\n",
      "        {\n",
      "            input = in.next();\n",
      "            apptDay = (Date) df.parse(input);\n",
      "        }\n",
      "        catch(ParseException e)\n",
      "        {\n",
      "            System.out.println(\"Please enter a valid date! Format is yyyy/mm/dd\");\n",
      "        }\n",
      "    }\n",
      "    sqlDate = new Date(apptDay.getTime());\n",
      "    return sqlDate;\n",
      "}\n",
      "</code></pre>\n",
      "\n",
      "<p>I've added java.sql.Dates to it and mucked about with it a bunch trying to get it to work, but it's still giving me this:</p>\n",
      "\n",
      "<p><code>Exception in thread \"main\" java.lang.ClassCastException: java.util.Date cannot be cast to java.sql.Date\n",
      "    at Calendar.getDay(Calendar.java:47)</code></p>\n",
      "\n",
      "<p>Any ideas on what I'm doing wrong or how to make this work would be very much appreciated.</p>\n",
      "\n",
      "<p>Edit: I thought perhaps it would help if I added the bit of code that is calling this so maybe it will be more clear how I am trying to use it, so here is the addAppointment() method, so you can see where getDay() is being called and where it's going.</p>\n",
      "\n",
      "<pre><code>public static void addAppointment() throws SQLException\n",
      "{\n",
      "    //get the info\n",
      "    String desc = getDesc();\n",
      "    java.sql.Date apptDay = getDay();\n",
      "    Time[] times = getTime();\n",
      "    Time startTime = times[0];\n",
      "    Time endTime = times[1];\n",
      "    int key;\n",
      "\n",
      "    Connection conn = SimpleDataSource.getConnection(); //connect to the database\n",
      "\n",
      "    try\n",
      "    {\n",
      "        PreparedStatement max = conn.prepareStatement(\"SELECT MAX(ID) FROM Calendar\");\n",
      "        ResultSet result = max.executeQuery();\n",
      "        key = result.getInt(\"ID\") + 1; \n",
      "        PreparedStatement stat = conn.prepareStatement(\n",
      "                \"INSERT INTO Calendar \" +\n",
      "                \"VALUES (?, ?, ?, ?, ?)\"); \n",
      "        stat.setInt(1, key);\n",
      "        stat.setString(2, desc); \n",
      "        stat.setDate(3, apptDay);\n",
      "        stat.setTime(4, startTime);\n",
      "        stat.setTime(5, endTime);\n",
      "        stat.execute();\n",
      "        System.out.println(\"\\nAppointment added!\\n\");\n",
      "    }\n",
      "    finally\n",
      "    {\n",
      "        conn.close(); //finished with the database\n",
      "    }\n",
      "}\n",
      "</code></pre>\n",
      "\n",
      "\n",
      "\n",
      "i realize this has been asked a lot. i did actually look. i've spent hours looking around and trying to figure this out. i'm supposed to be making a program that stores what amounts to a list of appointments in a database, with a description, date, start time, and end time. it has to take input from the user to add or cancel appointments, so as far as i know that means i need to convert a string to a date. these are my imports: import java.io.file; import java.io.ioexception; import java.sql.connection; import java.sql.date; import java.sql.preparedstatement; import java.sql.resultset; import java.sql.resultsetmetadata; import java.sql.sqlexception; import java.sql.time; import java.text.dateformat; import java.text.parseexception; import java.text.simpledateformat; import java.util.arraylist; import java.util.scanner; as you can see, no java.util.date there. here is the bit where i'm getting the error: i've added java.sql.dates to it and mucked about with it a bunch trying to get it to work, but it's still giving me this: any ideas on what i'm doing wrong or how to make this work would be very much appreciated. edit: i thought perhaps it would help if i added the bit of code that is calling this so maybe it will be more clear how i am trying to use it, so here is the addappointment() method, so you can see where getday() is being called and where it's going. \n"
     ]
    }
   ],
   "source": [
    "print(df_before[\"Body\"][25000])\n",
    "print(\"\\n\")\n",
    "print(df[\"Body\"][25000])"
   ]
  },
  {
   "cell_type": "markdown",
   "metadata": {},
   "source": []
  }
 ],
 "metadata": {
  "kernelspec": {
   "display_name": "Python 3 (ipykernel)",
   "language": "python",
   "name": "python3"
  },
  "language_info": {
   "codemirror_mode": {
    "name": "ipython",
    "version": 3
   },
   "file_extension": ".py",
   "mimetype": "text/x-python",
   "name": "python",
   "nbconvert_exporter": "python",
   "pygments_lexer": "ipython3",
   "version": "3.11.8"
  }
 },
 "nbformat": 4,
 "nbformat_minor": 2
}
